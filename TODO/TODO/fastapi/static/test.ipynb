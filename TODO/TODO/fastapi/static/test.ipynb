{
 "cells": [
  {
   "cell_type": "code",
   "execution_count": 7,
   "metadata": {},
   "outputs": [
    {
     "name": "stdout",
     "output_type": "stream",
     "text": [
      "Fast language models have become increasingly important in various applications and industries in recent years. Here are some reasons why:\n",
      "\n",
      "1. **Real-time processing**: Fast language models enable real-time processing of natural language data, which is crucial in applications that require immediate processing, such as chatbots, virtual assistants, and real-time sentiment analysis.\n",
      "2. **Scalability**: As the volume of natural language data continues to grow, fast language models can handle large datasets quickly and efficiently, making them ideal for applications that require processing vast amounts of text data.\n",
      "3. **Improved user experience**: Fast language models can provide instant responses to user queries, improving the overall user experience in applications such as language translation, text summarization, and question answering.\n",
      "4. **Enhanced decision-making**: By providing faster and more accurate insights from natural language data, fast language models can inform business decisions and optimize operations, leading to increased competitiveness and productivity.\n",
      "5. **Advancements in AI research**: The ability to train and process large language models quickly has accelerated AI research, enabling scientists to experiment with new architectures, techniques, and applications, ultimately driving progress in the field.\n",
      "6. **Competitive edge**: Companies that leverage fast language models can gain a competitive edge by providing faster, more accurate, and more personalized services to their customers, leading to increased customer satisfaction and loyalty.\n",
      "7. **Applications in emerging technologies**: Fast language models are essential for emerging technologies like natural language processing, machine learning, and deep learning, which are transforming industries and revolutionizing the way we interact with technology.\n",
      "8. **Improved automation**: Fast language models can automate tasks, freeing up human resources for more high-value tasks, such as creative work, strategy development, and problem-solving.\n",
      "9. **Enhanced accessibility**: Fast language models can make language processing and translation more accessible to people with disabilities, non-native speakers, and individuals who require assistance with language tasks.\n",
      "10. **Future-proofing**: As data continues to grow and become increasingly complex, fast language models will be essential for processing and analyzing large datasets, enabling businesses and organizations to stay ahead of the curve and adapt to changing consumer needs.\n",
      "\n",
      "Some of the key applications of fast language models include:\n",
      "\n",
      "1. Chatbots and virtual assistants\n",
      "2. Language translation and localization\n",
      "3. Text summarization and summarization\n",
      "4. Sentiment analysis and opinion mining\n",
      "5. Question answering and knowledge base construction\n",
      "6. Machine translation and localization\n",
      "7. Language generation and content creation\n",
      "8. Natural language processing and understanding\n",
      "9. Information retrieval and information extraction\n",
      "10. Automated language understanding and generation.\n",
      "\n",
      "In summary, fast language models are essential for a wide range of applications, enabling real-time processing, scalability, improved user experience, and enhanced decision-making, ultimately driving progress in AI research, business competitiveness, and emerging technologies.\n"
     ]
    }
   ],
   "source": [
    "\n",
    "from groq import Groq\n",
    "\n",
    "client = Groq(\n",
    "        api_key=\"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\",\n",
    ")\n",
    "\n",
    "chat_completion = client.chat.completions.create(\n",
    "    messages=[\n",
    "        {\n",
    "            \"role\": \"user\",\n",
    "            \"content\": \"Explain the importance of fast language models\",\n",
    "        }\n",
    "    ],\n",
    "    model=\"llama3-8b-8192\",\n",
    ")\n",
    "\n",
    "#print(chat_completion.choices[0].message.content)"
   ]
  },
  {
   "cell_type": "code",
   "execution_count": 8,
   "metadata": {},
   "outputs": [
    {
     "ename": "FileNotFoundError",
     "evalue": "[Errno 2] No such file or directory: 'k_genai/myproject/myapp/static/myapp/9/science/iesc101.pdf'",
     "output_type": "error",
     "traceback": [
      "\u001b[1;31m---------------------------------------------------------------------------\u001b[0m",
      "\u001b[1;31mFileNotFoundError\u001b[0m                         Traceback (most recent call last)",
      "Cell \u001b[1;32mIn[8], line 4\u001b[0m\n\u001b[0;32m      1\u001b[0m \u001b[38;5;28;01mimport\u001b[39;00m \u001b[38;5;21;01mPyPDF2\u001b[39;00m\n\u001b[0;32m      3\u001b[0m \u001b[38;5;66;03m# Open the PDF file in read-binary mode\u001b[39;00m\n\u001b[1;32m----> 4\u001b[0m \u001b[38;5;28;01mwith\u001b[39;00m \u001b[38;5;28;43mopen\u001b[39;49m\u001b[43m(\u001b[49m\u001b[38;5;124;43m'\u001b[39;49m\u001b[38;5;124;43mk_genai/myproject/myapp/static/myapp/9/science/iesc101.pdf\u001b[39;49m\u001b[38;5;124;43m'\u001b[39;49m\u001b[43m,\u001b[49m\u001b[43m \u001b[49m\u001b[38;5;124;43m'\u001b[39;49m\u001b[38;5;124;43mrb\u001b[39;49m\u001b[38;5;124;43m'\u001b[39;49m\u001b[43m)\u001b[49m \u001b[38;5;28;01mas\u001b[39;00m file:\n\u001b[0;32m      5\u001b[0m     \u001b[38;5;66;03m# Create a PDF reader object\u001b[39;00m\n\u001b[0;32m      6\u001b[0m     pdf_reader \u001b[38;5;241m=\u001b[39m PyPDF2\u001b[38;5;241m.\u001b[39mPdfReader(file)\n\u001b[0;32m      8\u001b[0m     \u001b[38;5;66;03m# Get the total number of pages\u001b[39;00m\n",
      "File \u001b[1;32mc:\\Code\\myenv\\Lib\\site-packages\\IPython\\core\\interactiveshell.py:324\u001b[0m, in \u001b[0;36m_modified_open\u001b[1;34m(file, *args, **kwargs)\u001b[0m\n\u001b[0;32m    317\u001b[0m \u001b[38;5;28;01mif\u001b[39;00m file \u001b[38;5;129;01min\u001b[39;00m {\u001b[38;5;241m0\u001b[39m, \u001b[38;5;241m1\u001b[39m, \u001b[38;5;241m2\u001b[39m}:\n\u001b[0;32m    318\u001b[0m     \u001b[38;5;28;01mraise\u001b[39;00m \u001b[38;5;167;01mValueError\u001b[39;00m(\n\u001b[0;32m    319\u001b[0m         \u001b[38;5;124mf\u001b[39m\u001b[38;5;124m\"\u001b[39m\u001b[38;5;124mIPython won\u001b[39m\u001b[38;5;124m'\u001b[39m\u001b[38;5;124mt let you open fd=\u001b[39m\u001b[38;5;132;01m{\u001b[39;00mfile\u001b[38;5;132;01m}\u001b[39;00m\u001b[38;5;124m by default \u001b[39m\u001b[38;5;124m\"\u001b[39m\n\u001b[0;32m    320\u001b[0m         \u001b[38;5;124m\"\u001b[39m\u001b[38;5;124mas it is likely to crash IPython. If you know what you are doing, \u001b[39m\u001b[38;5;124m\"\u001b[39m\n\u001b[0;32m    321\u001b[0m         \u001b[38;5;124m\"\u001b[39m\u001b[38;5;124myou can use builtins\u001b[39m\u001b[38;5;124m'\u001b[39m\u001b[38;5;124m open.\u001b[39m\u001b[38;5;124m\"\u001b[39m\n\u001b[0;32m    322\u001b[0m     )\n\u001b[1;32m--> 324\u001b[0m \u001b[38;5;28;01mreturn\u001b[39;00m \u001b[43mio_open\u001b[49m\u001b[43m(\u001b[49m\u001b[43mfile\u001b[49m\u001b[43m,\u001b[49m\u001b[43m \u001b[49m\u001b[38;5;241;43m*\u001b[39;49m\u001b[43margs\u001b[49m\u001b[43m,\u001b[49m\u001b[43m \u001b[49m\u001b[38;5;241;43m*\u001b[39;49m\u001b[38;5;241;43m*\u001b[39;49m\u001b[43mkwargs\u001b[49m\u001b[43m)\u001b[49m\n",
      "\u001b[1;31mFileNotFoundError\u001b[0m: [Errno 2] No such file or directory: 'k_genai/myproject/myapp/static/myapp/9/science/iesc101.pdf'"
     ]
    }
   ],
   "source": [
    "\n",
    "import PyPDF2\n",
    "\n",
    "# Open the PDF file in read-binary mode\n",
    "with open('k_genai/myproject/myapp/static/myapp/9/science/iesc101.pdf', 'rb') as file:\n",
    "    # Create a PDF reader object\n",
    "    pdf_reader = PyPDF2.PdfReader(file)\n",
    "    \n",
    "    # Get the total number of pages\n",
    "    num_pages = len(pdf_reader.pages)\n",
    "    \n",
    "    # Extract text from all pages\n",
    "    all_text = \"\"\n",
    "    for page_num in range(num_pages):\n",
    "        page = pdf_reader.pages[page_num]\n",
    "        all_text += page.extract_text()\n",
    "    \n",
    "    #print(all_text)\n"
   ]
  },
  {
   "cell_type": "code",
   "execution_count": 5,
   "metadata": {},
   "outputs": [
    {
     "data": {
      "text/plain": [
       "29711"
      ]
     },
     "execution_count": 5,
     "metadata": {},
     "output_type": "execute_result"
    }
   ],
   "source": [
    "len(all_text)"
   ]
  },
  {
   "cell_type": "code",
   "execution_count": null,
   "metadata": {},
   "outputs": [],
   "source": [
    "import pdfplumber\n",
    "\n",
    "# Open the PDF file\n",
    "with pdfplumber.open('k_genai/myproject/myapp/static/myapp/9/science/iesc101.pdf') as pdf:\n",
    "    all_text = \"\"\n",
    "    for page in pdf.pages:\n",
    "        all_text += page.extract_text()\n",
    "    \n",
    "    #print(all_text)\n"
   ]
  },
  {
   "cell_type": "code",
   "execution_count": 7,
   "metadata": {},
   "outputs": [
    {
     "data": {
      "text/plain": [
       "29403"
      ]
     },
     "execution_count": 7,
     "metadata": {},
     "output_type": "execute_result"
    }
   ],
   "source": [
    "len(all_text)"
   ]
  },
  {
   "cell_type": "code",
   "execution_count": 8,
   "metadata": {},
   "outputs": [
    {
     "data": {
      "text/plain": [
       "826"
      ]
     },
     "execution_count": 8,
     "metadata": {},
     "output_type": "execute_result"
    }
   ],
   "source": [
    "# Open the file in read mode\n",
    "with open('C:/yash_folder/k_genai/myproject/myapp/static/myapp/9/science/chapter1.txt', 'r') as file:\n",
    "    # Read all lines into a list\n",
    "    lines = file.readlines()\n",
    "\n",
    "# #print the list of lines\n",
    "len(lines)\n"
   ]
  },
  {
   "cell_type": "code",
   "execution_count": 11,
   "metadata": {},
   "outputs": [
    {
     "data": {
      "text/plain": [
       "'As we look at our surroundings, we see a large\\n variety of things with different shapes, sizes\\n and textures. Everything in this universe is\\n made up of material which scientists have\\n named “matter”. The air we breathe, the food\\n we eat, stones, clouds, stars, plants and\\n animals, even a small drop of water or a\\n particle of sand — every thing is matter. We\\n can also see as we look around that all the\\n things mentioned above occupy space and\\n have mass. In other words, they have both\\n mass* and volume**.\\n Since early times, human beings have\\n been trying to understand their surroundings.\\n Early Indian philosophers classified matter in\\n the form of five basic elements — the “Panch\\n Tatva” — air, earth, fire, sky and water.\\n According to them everything, living or nonliving,\\n was made up of these five basic\\n elements. Ancient Greek philosophers had\\n arrived at a similar classification of matter.\\n Modern day scientists have evolved two\\n types of classification of matter based on their\\n physical properties and chemical nature.\\n In this chapter we shall learn about\\n matter based on its physical properties.\\n Chemical aspects of matter will be taken up\\n in subsequent chapters.\\n 1.1 Physical Nature of Matter\\n 1.1.1 MATTER IS MADE UP OF PARTICLES\\n For a long time, two schools of thought prevailed\\n regarding the nature of matter. One school\\n believed matter to be continuous like a block\\n of wood, whereas, the other thought that matter\\n was made up of particles like sand. Let us\\n perform an activity to decide about the nature\\n of matter — is it continuous or particulate?\\n Activity ______________ 1.1\\n • Take a 100 mL beaker.\\n • Fill half the beaker with water and\\n mark the level of water.\\n • Dissolve some salt/ sugar with the help\\n of a glass rod.\\n • Observe any change in water level.\\n • What do you think has happened to\\n the salt?\\n • Where does it disappear?\\n • Does the level of water change?\\n In order to answer these questions we\\n need to use the idea that matter is made up\\n of particles. What was there in the spoon, salt\\n or sugar, has now spread throughout water.\\n This is illustrated in Fig. 1.1.\\n 1.1.2 HOW SMALL ARE THESE PARTICLES\\n OF MATTER?\\n Activity ______________ 1.2\\n • Take 2–3 crystals of potassium\\n permanganate and dissolve them in\\n 100 mL of water.\\n Fig. 1.1: When we dissolve salt in water, the particles\\n of salt get into the spaces between particles\\n of water.\\n * The SI unit of mass is kilogram (kg).\\n ** The SI unit of volume is cubic metre (m3). The common unit of measuring volume is\\n litre (L) such that 1L = 1 dm3, 1L = 1000 mL, 1 mL = 1 cm3.\\n 1\\n MATTER IN OUR SURROUNDINGS\\n Chapter\\n 2024-25\\n 2 SCIENCE\\n • Take out approximately 10 mL of this\\n solution and put it into 90 mL of clear\\n water.\\n • Take out 10 mL of this solution and\\n put it into another 90 mL of clear water.\\n • Keep diluting the solution like this 5 to\\n 8 times.\\n • Is the water still coloured ?\\n 1.2.2 PARTICLES OF MATTER ARE\\n CONTINUOUSLY MOVING\\n Activity 1.3\\n • Put an unlit incense stick in a corner\\n of your class. How close do you have to\\n go near it so as to get its smell?\\n • Now light the incense stick. What\\n happens? Do you get the smell sitting\\n at a distance?\\n • Record your observations.\\n Activity 1.4\\n • Take two glasses/beakers filled with\\n water.\\n • Put a drop of blue or red ink slowly\\n and carefully along the sides of the first\\n beaker and honey in the same way in\\n the second beaker.\\n • Leave them undisturbed in your house\\n or in a corner of the class.\\n • Record your observations.\\n • What do you observe immediately after\\n adding the ink drop?\\n • What do you observe immediately after\\n adding a drop of honey?\\n • How many hours or days does it take\\n for the colour of ink to spread evenly\\n throughout the water?\\n Activity 1.5\\n • Drop a crystal of copper sulphate or\\n potassium permanganate into a glass\\n of hot water and another containing\\n cold water. Do not stir the solution.\\n Allow the crystals to settle at the\\n bottom.\\n • What do you observe just above the\\n solid crystal in the glass?\\n • What happens as time passes?\\n • What does this suggest about the\\n particles of solid and liquid?\\n • Does the rate of mixing change with\\n temperature? Why and how?\\n From the above three activities (1.3, 1.4 and\\n 1.5), we can conclude the following:\\n Fig. 1.2: Estimating how small are the particles of\\n matter. With every dilution, though the colour\\n becomes light, it is still visible.\\n This experiment shows that just a few\\n crystals of potassium permanganate can\\n colour a large volume of water (about\\n 1000 L). So we conclude that there must be\\n millions of tiny particles in just one crystal\\n of potassium permanganate, which keep\\n on dividing themselves into smaller and\\n smaller particles.\\n The same activity can be done using 2 mL\\n of Dettol instead of potassium permanganate.\\n The smell can be detected even on\\n repeated dilution.\\n The particles of matter are very small –\\n they are small beyond our imagination!!!!\\n 1.2 Characteristics of Particles of\\n Matter\\n 1.2.1 PARTICLES OF MATTER HAVE SPACE\\n BETWEEN THEM\\n In activities 1.1 and 1.2 we saw that particles\\n of sugar, salt, Dettol, or potassium\\n permanganate got evenly distributed in water.\\n Similarly, when we make tea, coffee or\\n lemonade (nimbu paani ), particles of one type\\n of matter get into the spaces between particles\\n of the other. This shows that there is enough\\n space between particles of matter.\\n 2024-25\\n MATTER IN OUR SURROUNDINGS 3\\n • If we consider each student as a\\n particle of matter, then in which group\\n the particles held each other with the\\n maximum force?\\n Activity ______________ 1.7\\n • Take an iron nail, a piece of chalk and\\n a rubber band.\\n • Try breaking them by hammering,\\n cutting or stretching.\\n • In which of the above three\\n substances do you think the particles\\n are held together with greater force?\\n Activity ______________ 1.8\\n • Take some water in a container, try\\n cutting the surface of water with your\\n fingers.\\n • Were you able to cut the surface of\\n water?\\n • What could be the reason behind the\\n surface of water remaining together?\\n The above three activities (1.6, 1.7 and 1.8)\\n suggest that particles of matter have force\\n acting between them. This force keeps the\\n particles together. The strength of this force of\\n attraction varies from one kind of matter to\\n another.\\n uestions\\n 1. Which of the following are\\n matter?\\n Chair, air, love, smell, hate,\\n almonds, thought, cold, lemon\\n water, smell of perfume.\\n 2. Give reasons for the following\\n observation:\\n The smell of hot sizzling food\\n reaches you several metres\\n away, but to get the smell from\\n cold food you have to go close.\\n 3. A diver is able to cut through\\n water in a swimming pool. Which\\n property of matter does this\\n observation show?\\n 4. What are the characteristics of\\n the particles of matter?\\n Particles of matter are continuously\\n moving, that is, they possess what we call\\n the kinetic energy. As the temperature rises,\\n particles move faster. So, we can say that with\\n increase in temperature the kinetic energy of\\n the particles also increases.\\n In the above three activities we observe\\n that particles of matter intermix on their own\\n with each other. They do so by getting into\\n the spaces between the particles. This\\n intermixing of particles of two different types\\n of matter on their own is called diffusion. We\\n also observe that on heating, diffusion\\n becomes faster. Why does this happen?\\n 1.2.3 PARTICLES OF MATTER ATTRACT\\n EACH OTHER\\n Activity ______________ 1.6\\n • Play this game in the field— make four\\n groups and form human chains as\\n suggested:\\n • The first group should hold each\\n other from the back and lock arms\\n like Idu-Mishmi dancers (Fig. 1.3).\\n Fig. 1.3\\n • The second group should hold hands\\n to form a human chain.\\n • The third group should form a chain\\n by touching each other with only their\\n finger tips.\\n • Now, the fourth group of students\\n should run around and try to break the\\n three human chains one by one into\\n as many small groups as possible.\\n • Which group was the easiest to break?\\n Why?\\n Q\\n 2024-25\\n 4 SCIENCE\\n 1.3 States of Matter\\n Observe different types of matter around you.\\n What are its different states? We can see that\\n matter around us exists in three different\\n states– solid, liquid and gas. These states of\\n matter arise due to the variation in the\\n characteristics of the particles of matter.\\n Now, let us study about the properties of\\n these three states of matter in detail.\\n 1.3.1 THE SOLID STATE\\n Activity _____________ 1.9\\n • Collect the following articles — a pen,\\n a book, a needle and a piece of wooden\\n stick.\\n • Sketch the shape of the above articles\\n in your notebook by moving a pencil\\n around them.\\n • Do all these have a definite shape,\\n distinct boundaries and a fixed volume?\\n • What happens if they are hammered,\\n pulled or dropped?\\n • Are these capable of diffusing into each\\n other?\\n • Try compressing them by applying\\n force. Are you able to compress them?\\n All the above are examples of solids. We\\n can observe that all these have a definite\\n shape, distinct boundaries and fixed volumes,\\n that is, have negligible compressibility. Solids\\n have a tendency to maintain their shape when\\n subjected to outside force. Solids may break\\n under force but it is difficult to change their\\n shape, so they are rigid.\\n Consider the following:\\n (a) What about a rubber band, can it\\n change its shape on stretching? Is it\\n a solid?\\n (b) What about sugar and salt? When\\n kept in different jars these take the\\n shape of the jar. Are they solid?\\n (c) What about a sponge? It is a solid\\n yet we are able to compress it. Why?\\n All the above are solids as:\\n • A rubber band changes shape under\\n force and regains the same shape when\\n the force is removed. If excessive force is\\n applied, it breaks.\\n • The shape of each individual sugar or\\n salt crystal remains fixed, whether we\\n take it in our hand, put it in a plate or in\\n a jar.\\n • A sponge has minute holes, in which\\n air is trapped, when we press it, the air\\n is expelled out and we are able to\\n compress it.\\n 1.3.2 THE LIQUID STATE\\n Activity _____________1.10\\n • Collect the following:\\n (a) water, cooking oil, milk, juice, a\\n cold drink.\\n (b) containers of different shapes. Put\\n a 50 mL mark on these containers\\n using a measuring cylinder from\\n the laboratory.\\n • What will happen if these liquids are\\n spilt on the floor?\\n • Measure 50 mL of any one liquid and\\n transfer it into different containers one\\n by one. Does the volume remain the\\n same?\\n • Does the shape of the liquid remain the\\n same ?\\n • When you pour the liquid from one\\n container into another, does it flow\\n easily?\\n We observe that liquids have no fixed\\n shape but have a fixed volume. They take up\\n the shape of the container in which they are\\n kept. Liquids flow and change shape, so they\\n are not rigid but can be called fluid.\\n Refer to activities 1.4 and 1.5 where we\\n saw that solids and liquids can diffuse into\\n liquids. The gases from the atmosphere\\n diffuse and dissolve in water. These gases,\\n especially oxygen and carbon dioxide, are\\n essential for the survival of aquatic animals\\n and plants.\\n All living creatures need to breathe for\\n survival. The aquatic animals can breathe\\n under water due to the presence of dissolved\\n oxygen in water. Thus, we may conclude that\\n solids, liquids and gases can diffuse into\\n liquids. The rate of diffusion of liquids is\\n 2024-25\\n MATTER IN OUR SURROUNDINGS 5\\n higher than that of solids. This is due to the\\n fact that in the liquid state, particles move\\n freely and have greater space between each\\n other as compared to particles in the solid\\n state.\\n 1.3.3 THE GASEOUS STATE\\n Have you ever observed a balloon seller filling\\n a large number of balloons from a single\\n cylinder of gas? Enquire from him how many\\n balloons is he able to fill from one cylinder.\\n Ask him which gas does he have in the cylinder.\\n Activity _____________1.11\\n • Take three 100 mL syringes and close\\n their nozzles by rubber corks, as\\n shown in Fig.1.4.\\n • Remove the pistons from all the\\n syringes.\\n • Leaving one syringe untouched, fill\\n water in the second and pieces of chalk\\n in the third.\\n • Insert the pistons back into the\\n syringes. You may apply some vaseline\\n on the pistons before inserting them\\n into the syringes for their smooth\\n movement.\\n • Now, try to compress the content by\\n pushing the piston in each syringe.\\n We have observed that gases are highly\\n compressible as compared to solids and\\n liquids. The liquefied petroleum gas (LPG)\\n cylinder that we get in our home for cooking\\n or the oxygen supplied to hospitals in\\n cylinders is compressed gas. Compressed\\n natural gas (CNG) is used as fuel these days\\n in vehicles. Due to its high compressibility,\\n large volumes of a gas can be compressed\\n into a small cylinder and transported easily.\\n We come to know of what is being cooked\\n in the kitchen without even entering there,\\n by the smell that reaches our nostrils. How\\n does this smell reach us? The particles of the\\n aroma of food mix with the particles of air\\n spread from the kitchen, reach us and even\\n farther away. The smell of hot cooked food\\n reaches us in seconds; compare this with the\\n rate of diffusion of solids and liquids. Due to\\n high speed of particles and large space\\n between them, gases show the property of\\n diffusing very fast into other gases.\\n In the gaseous state, the particles move\\n about randomly at high speed. Due to this\\n random movement, the particles hit each\\n other and also the walls of the container. The\\n pressure exerted by the gas is because of this\\n force exerted by gas particles per unit area\\n on the walls of the container.\\n Fig. 1.4\\n • What do you observe? In which case\\n was the piston easily pushed in?\\n • What do you infer from your\\n observations?\\n Fig.1.5: a, b and c show the magnified schematic\\n pictures of the three states of matter. The\\n motion of the particles can be seen and\\n compared in the three states of matter.\\n 2024-25\\n 6 SCIENCE\\n 1.4.1 EFFECT OF CHANGE OF TEMPERATURE\\n Activity _____________1.12\\n • Take about 150 g of ice in a beaker and\\n suspend a laboratory thermometer so\\n that its bulb is in contact with the ice,\\n as in Fig. 1.6.\\n uestions\\n 1. The mass per unit volume of a\\n substance is called density.\\n (density = mass/volume).\\n Arrange the following in order of\\n increasing density – air, exhaust\\n from chimneys, honey, water,\\n chalk, cotton and iron.\\n 2. (a) Tabulate the differences in\\n the characterisitcs of states\\n of matter.\\n (b) Comment upon the following:\\n rigidity, compressibility,\\n fluidity, filling a gas\\n container, shape, kinetic\\n energy and density.\\n 3. Give reasons\\n (a) A gas fills completely the\\n vessel in which it is kept.\\n (b) A gas exerts pressure on the\\n walls of the container.\\n (c) A wooden table should be\\n called a solid.\\n (d) We can easily move our hand\\n in air but to do the same\\n through a solid block of wood\\n we need a karate expert.\\n 4. Liquids generally have lower\\n density as compared to solids.\\n But you must have observed that\\n ice floats on water. Find out why.\\n 1.4 Can Matter Change its State?\\n We all know from our observation that water\\n can exist in three states of matter–\\n • solid, as ice,\\n • liquid, as the familiar water, and\\n • gas, as water vapour.\\n What happens inside the matter during\\n this change of state? What happens to the\\n particles of matter during the change of\\n states? How does this change of state take\\n place? We need answers to these questions,\\n isn’t it?\\n Q\\n (a)\\n (b)\\n Fig. 1.6: (a) Conversion of ice to water, (b) conversion\\n of water to water vapour\\n 2024-25\\n MATTER IN OUR SURROUNDINGS 7\\n • Start heating the beaker on a low flame.\\n • Note the temperature when the ice\\n starts melting.\\n • Note the temperature when all the ice\\n has converted into water.\\n • Record your observations for this\\n conversion of solid to liquid state.\\n • Now, put a glass rod in the beaker and\\n heat while stirring till the water starts\\n boiling.\\n • Keep a careful eye on the thermometer\\n reading till most of the water has\\n vaporised.\\n • Record your observations for the\\n conversion of water in the liquid state\\n to the gaseous state.\\n On increasing the temperature of solids,\\n the kinetic energy of the particles increases.\\n Due to the increase in kinetic energy, the\\n particles start vibrating with greater speed.\\n The energy supplied by heat overcomes the\\n forces of attraction between the particles. The\\n particles leave their fixed positions and start\\n moving more freely. A stage is reached when\\n the solid melts and is converted to a liquid.\\n The minimum temperature at which a solid\\n melts to become a liquid at the atmospheric\\n pressure is called its melting point.\\n The melting point of a solid is an indication\\n of the strength of the force of attraction\\n between its particles.\\n The melting point of ice is 273.15 K*. The\\n process of melting, that is, change of solid\\n state into liquid state is also known as fusion.\\n When a solid melts, its temperature\\n remains the same, so where does the heat\\n energy go?\\n You must have observed, during the\\n experiment of melting, that the temperature\\n of the system does not change after the\\n melting point is reached, till all the ice melts.\\n This happens even though we continue to\\n heat the beaker, that is, we continue to supply\\n heat. This heat gets used up in changing the\\n state by overcoming the forces of attraction\\n between the particles. As this heat energy is\\n absorbed by ice without showing any rise in\\n temperature, it is considered that it gets\\n hidden into the contents of the beaker and is\\n known as the latent heat. The word latent\\n means hidden. The amount of heat energy\\n that is required to change 1 kg of a solid into\\n liquid at atmospheric pressure at its melting\\n point is known as the latent heat of fusion.\\n So, particles in water at 0oC (273 K) have more\\n energy as compared to particles in ice at the\\n same temperature.\\n When we supply heat energy to water,\\n particles start moving even faster. At a certain\\n temperature, a point is reached when the\\n particles have enough energy to break free\\n from the forces of attraction of each other. At\\n this temperature the liquid starts changing\\n into gas. The temperature at which a liquid\\n starts boiling at the atmospheric pressure is\\n known as its boiling point. Boiling is a bulk\\n phenomenon. Particles from the bulk of the\\n liquid gain enough energy to change into the\\n vapour state.\\n For water this temperature is 373 K\\n (100oC = 273 + 100 = 373 K).\\n Can you define the latent heat of\\n vaporisation? Do it in the same way as we\\n have defined the latent heat of fusion.\\n Particles in steam, that is, water vapour at\\n 373 K (1000 C) have more energy than water\\n at the same temperature. This is because\\n particles in steam have absorbed extra energy\\n in the form of latent heat of vaporisation.\\n *Note: Kelvin is the SI unit of temperature, 0\\n o C =273.15 K. For convenience, we take 0\\n o C = 273 K after\\n rounding off the decimal. To change a temperature on the Kelvin scale to the Celsius scale you\\n have to subtract 273 from the given temperature, and to convert a temperature on the Celsius\\n scale to the Kelvin scale you have to add 273 to the given temperature.\\n So, we infer that the state of matter can\\n be changed into another state by changing\\n the temperature.\\n We have learnt that substances around\\n us change state from solid to liquid and from\\n liquid to gas on application of heat. But there\\n 2024-25\\n 8 SCIENCE\\n enclosed in a cylinder? Will the particles come\\n closer? Do you think that increasing or\\n decreasing the pressure can change the state\\n of matter?\\n are some that change directly from solid state\\n to gaseous state and vice versa without\\n changing into the liquid state.\\n Activity _____________1.13\\n • Take some camphor. Crush it and put\\n it in a china dish.\\n • Put an inverted funnel over the china\\n dish.\\n • Put a cotton plug on the stem of the\\n funnel, as shown in Fig. 1.7.\\n * atmosphere (atm) is a unit of measuring pressure exerted by a gas. The unit of pressure is Pascal (Pa):\\n 1 atmosphere = 1.01 × 105 Pa. The pressure of air in atmosphere is called atmospheric pressure. The\\n atmospheric pressure at sea level is 1 atmosphere, and is taken as the normal atmospheric pressure.\\n Fig. 1.7: Sublimation of camphor\\n Fig. 1.8: By applying pressure, particles of matter\\n can be brought close together\\n Applying pressure and reducing\\n temperature can liquefy gases.\\n Have you heard of solid carbon dioxide\\n (CO2)? It is stored under high pressure. Solid\\n CO2 gets converted directly into gaseous state\\n on decrease of pressure to 1 atmosphere*\\n without coming into liquid state. This is the\\n reason that solid carbon dioxide is also known\\n as dry ice.\\n Thus, we can say that pressure and\\n temperature determine the state of a\\n substance, whether it will be solid, liquid\\n or gas.\\n • Now, heat slowly and observe.\\n • What do you infer from the above\\n activity?\\n A change of state directly from solid to gas\\n without changing into liquid state is called\\n sublimation and the direct change of gas to\\n solid without changing into liquid is called\\n deposition.\\n 1.4.2 EFFECT OF CHANGE OF PRESSURE\\n We have already learnt that the difference in\\n various states of matter is due to the\\n difference in the distances between the\\n constituent particles. What will happen when\\n we start putting pressure and compress a gas Fig. 1.9: Interconversion of the three states of matter\\n Deposition\\n 2024-25\\n MATTER IN OUR SURROUNDINGS 9\\n dish and keep it inside a cupboard or\\n on a shelf in your class.\\n • Record the room temperature.\\n • Record the time or days taken for the\\n evaporation process in the above cases.\\n • Repeat the above three steps of activity\\n on a rainy day and record your\\n observations.\\n • What do you infer about the effect of\\n temperature, surface area and wind\\n velocity (speed) on evaporation?\\n You must have observed that the rate of\\n evaporation increases with–\\n • an increase of surface area:\\n We know that evaporation is a surface\\n phenomenon. If the surface area is\\n increased, the rate of evaporation\\n increases. For example, while putting\\n clothes for drying up we spread them out.\\n • an increase of temperature:\\n With the increase of temperature, more\\n number of particles get enough kinetic\\n energy to go into the vapour state.\\n • a decrease in humidity:\\n Humidity is the amount of water vapour\\n present in air. The air around us cannot\\n hold more than a definite amount of\\n water vapour at a given temperature. If\\n the amount of water in air is already high,\\n the rate of evaporation decreases.\\n • an increase in wind speed:\\n It is a common observation that clothes\\n dry faster on a windy day. With the\\n increase in wind speed, the particles of\\n water vapour move away with the wind,\\n decreasing the amount of water vapour\\n in the surrounding.\\n 1.5.2 HOW DOES EVAPORATION CAUSE\\n COOLING?\\n In an open vessel, the liquid keeps on\\n evaporating. The particles of liquid absorb\\n energy from the surrounding to regain the\\n energy lost during evaporation. This\\n absorption of energy from the surroundings\\n make the surroundings cold.\\n uestions\\n 1. Convert the following temperature\\n to celsius scale:\\n a. 300 K b. 573 K\\n 2. What is the physical state of\\n water at:\\n a. 250oC b. 100oC ?\\n 3. For any substance, why does the\\n temperature remain constant\\n during the change of state?\\n 4. Suggest a method to liquefy\\n atmospheric gases.\\n 1.5 Evaporation\\n Do we always need to heat or change pressure\\n for changing the state of matter? Can you\\n quote some examples from everyday life where\\n change of state from liquid to vapour takes\\n place without the liquid reaching the boiling\\n point? Water, when left uncovered, slowly\\n changes into vapour. Wet clothes dry up. What\\n happens to water in the above two examples?\\n We know that particles of matter are\\n always moving and are never at rest. At a given\\n temperature in any gas, liquid or solid, there\\n are particles with different amounts of kinetic\\n energy. In the case of liquids, a small fraction\\n of particles at the surface, having higher\\n kinetic energy, is able to break away from the\\n forces of attraction of other particles and gets\\n converted into vapour. This phenomenon of\\n change of liquid into vapours at any\\n temperature below its boiling point is called\\n evaporation.\\n 1.5.1 FACTORS AFFECTING\\n EVAPORATION\\n Let us understand this with an activity.\\n Activity _____________1.14\\n • Take 5 mL of water in a test tube and\\n keep it near a window or under a fan.\\n • Take 5 mL of water in an open china\\n dish and keep it near a window or\\n under a fan.\\n • Take 5 mL of water in an open china\\n Q\\n 2024-25\\n 10 SCIENCE\\n What\\n you have\\n learnt\\n • Matter is made up of small particles.\\n • The matter around us exists in three states—solid, liquid\\n and gas.\\n • The forces of attraction between the particles are maximum in\\n solids, intermediate in liquids and minimum in gases.\\n • The spaces in between the constituent particles and kinetic\\n energy of the particles are minimum in the case of solids,\\n intermediate in liquids and maximum in gases.\\n What happens when you pour some\\n acetone (nail polish remover) on your palm?\\n The particles gain energy from your palm or\\n surroundings and evaporate causing the palm\\n to feel cool.\\n After a hot sunny day, people sprinkle\\n water on the roof or open ground because\\n the large latent heat of vaporisation of water\\n helps to cool the hot surface.\\n Can you cite some more examples from\\n daily life where we can feel the effect of cooling\\n due to evaporation?\\n Why should we wear cotton clothes in\\n summer?\\n During summer, we perspire more\\n because of the mechanism of our body which\\n keeps us cool. We know that during\\n evaporation, the particles at the surface of\\n the liquid gain energy from the surroundings\\n or body surface and change into vapour. The\\n heat energy equal to the latent heat of\\n vaporisation is absorbed from the body\\n leaving the body cool. Cotton, being a good\\n absorber of water helps in absorbing the\\n sweat and exposing it to the atmosphere for\\n easy evaporation.\\n Why do we see water droplets on the outer\\n surface of a glass containing ice-cold\\n water?\\n Let us take some ice-cold water in a\\n tumbler. Soon we will see water droplets on\\n the outer surface of the tumbler. The water\\n vapour present in air, on coming in contact\\n with the cold glass of water, loses energy and\\n gets converted to liquid state, which we see\\n as water droplets.\\n uestions\\n 1. Why does a desert cooler cool\\n better on a hot dry day?\\n 2. How does the water kept in an\\n earthen pot (matka) become cool\\n during summer?\\n 3. Why does our palm feel cold\\n when we put some acetone or\\n petrol or perfume on it?\\n 4. Why are we able to sip hot tea or\\n milk faster from a saucer rather\\n than a cup?\\n 5. What type of clothes should we\\n wear in summer?\\n Q\\n 2024-25\\n MATTER IN OUR SURROUNDINGS 11\\n • The arrangement of particles is most ordered in the case of\\n solids, in the case of liquids layers of particles can slip and\\n slide over each other while for gases, there is no order,\\n particles just move about randomly.\\n • The states of matter are inter-convertible. The state of matter\\n can be changed by changing temperature or pressure.\\n • Sublimation is the change of solid state directly to gaseous\\n state without going through liquid state.\\n • Deposition is the change of gaseous state directly to solid\\n state without going through liquid state.\\n • Boiling is a bulk phenomenon. Particles from the bulk\\n (whole) of the liquid change into vapour state.\\n • Evaporation is a surface phenomenon. Particles from the\\n surface gain enough energy to overcome the forces of attraction\\n present in the liquid and change into the vapour state.\\n • The rate of evaporation depends upon the surface area exposed\\n to the atmosphere, the temperature, the humidity and the\\n wind speed.\\n • Evaporation causes cooling.\\n • Latent heat of vaporisation is the heat energy required to change\\n 1 kg of a liquid to gas at atmospheric pressure at its\\n boiling point.\\n • Latent heat of fusion is the amount of heat energy required\\n to change 1 kg of solid into liquid at its melting point.\\n • Some measurable quantities and their units to remember:\\n Quantity Unit Symbol\\n Temperature kelvin K\\n Length metre m\\n Mass kilogram kg\\n Weight newton N\\n Volume cubic metre m3\\n Density kilogram per cubic metre kg m–3\\n Pressure pascal Pa\\n 2024-25\\n 12 SCIENCE\\n 1. Convert the following temperatures to the celsius scale.\\n (a) 293 K (b) 470 K\\n 2. Convert the following temperatures to the kelvin scale.\\n (a) 25o°C (b) 373o°C\\n 3. Give reason for the following observations.\\n (a) Naphthalene balls disappear with time without leaving\\n any solid.\\n (b) We can get the smell of perfume sitting several metres\\n away.\\n 4. Arrange the following substances in increasing order of forces\\n of attraction between the particles— water, sugar, oxygen.\\n 5. What is the physical state of water at—\\n (a) 25o°C (b) 0o°C (c) 100o°C ?\\n 6. Give two reasons to justify—\\n (a) water at room temperature is a liquid.\\n (b) an iron almirah is a solid at room temperature.\\n 7. Why is ice at 273 K more effective in cooling than water at the\\n same temperature?\\n 8. What produces more severe burns, boiling water or steam?\\n 9. Name A,B,C,D,E and F in the following diagram showing\\n change in its state\\n Exercises\\n 2024-25\\n MATTER IN OUR SURROUNDINGS 13\\n Group Activity\\n Prepare a model to demonstrate movement of particles in solids,\\n liquids and gases.\\n For making this model you will need\\n • A transparent jar\\n • A big rubber balloon or piece of stretchable rubber sheet\\n • A string\\n • Few chickpeas or black gram or dry green peas.\\n How to make?\\n • Put the seeds in the jar.\\n • Sew the string to the centre of the rubber sheet and put some\\n tape to keep it tied securely.\\n • Stretch and tie the rubber sheet on the mouth of the jar.\\n • Your model is ready. Now run your fingers up and down the\\n string by first tugging at it slowly and then rapidly.\\n Fig. 1.10: A model for converting of solid to liquid and liquid to gas.\\n 2024-25'"
      ]
     },
     "execution_count": 11,
     "metadata": {},
     "output_type": "execute_result"
    }
   ],
   "source": [
    "merged_string"
   ]
  },
  {
   "cell_type": "code",
   "execution_count": 10,
   "metadata": {},
   "outputs": [
    {
     "data": {
      "text/plain": [
       "30005"
      ]
     },
     "execution_count": 10,
     "metadata": {},
     "output_type": "execute_result"
    }
   ],
   "source": [
    "\n",
    "merged_string = \" \".join(lines)\n",
    "\n",
    "# #print the merged string\n",
    "len(merged_string)\n"
   ]
  },
  {
   "cell_type": "code",
   "execution_count": 3,
   "metadata": {},
   "outputs": [
    {
     "name": "stdout",
     "output_type": "stream",
     "text": [
      "['paper_shaper/myapp/static/myapp/Class 9th/Science\\\\iesc101.pdf', 'paper_shaper/myapp/static/myapp/Class 9th/Science\\\\iesc102.pdf', 'paper_shaper/myapp/static/myapp/Class 9th/Science\\\\iesc103.pdf', 'paper_shaper/myapp/static/myapp/Class 9th/Science\\\\iesc104.pdf', 'paper_shaper/myapp/static/myapp/Class 9th/Science\\\\iesc105.pdf', 'paper_shaper/myapp/static/myapp/Class 9th/Science\\\\iesc106.pdf', 'paper_shaper/myapp/static/myapp/Class 9th/Science\\\\iesc107.pdf', 'paper_shaper/myapp/static/myapp/Class 9th/Science\\\\iesc108.pdf', 'paper_shaper/myapp/static/myapp/Class 9th/Science\\\\iesc109.pdf', 'paper_shaper/myapp/static/myapp/Class 9th/Science\\\\iesc110.pdf', 'paper_shaper/myapp/static/myapp/Class 9th/Science\\\\iesc111.pdf', 'paper_shaper/myapp/static/myapp/Class 9th/Science\\\\iesc112.pdf']\n"
     ]
    }
   ],
   "source": [
    "\n",
    "# #print the list of PDF file paths\n",
    "#print(pdf_files)\n"
   ]
  },
  {
   "cell_type": "code",
   "execution_count": 6,
   "metadata": {},
   "outputs": [],
   "source": [
    "import glob\n",
    "import os\n",
    "\n",
    "# Folder path where the PDFs are stored\n",
    "folder_path = \"paper_shaper/myapp/static/myapp/Class 10th/English-First Flight\"\n",
    "\n",
    "# Get all PDF file paths in the folder\n",
    "pdf_files = glob.glob(os.path.join(folder_path, \"*.pdf\"))\n",
    "\n",
    "\n",
    "import pdfplumber\n",
    "chapters =[\"A Letter to God\",\"Nelson Mandela: Long Walk to Freedom\",\"Two Stories about Flying\",\"From the Diary of Anne Frank\",\"Glimpses of India\",\"Mijbil the Otter\",\"Madam Rides the Bus\",\"The Sermon at Benares\",\"The Proposal\"]\n",
    "\n",
    "\n",
    "for org_pdf,chapter in zip(pdf_files,chapters):\n",
    "    # Open the PDF file\n",
    "    with pdfplumber.open(org_pdf) as pdf:\n",
    "        all_text = \"\"\n",
    "        for page in pdf.pages:\n",
    "            all_text += page.extract_text()\n",
    "        \n",
    "        # #print(all_text)\n",
    "\n",
    "\n",
    "\n",
    "    # Your string variable\n",
    "\n",
    "    # Open (or create) the file in write mode\n",
    "    with open(f'paper_shaper/myapp/static/myapp/Class 10th/English-First Flight/{chapter}.txt', 'w') as file:\n",
    "        # Write the string to the file\n",
    "        file.write(all_text)\n",
    "\n",
    "    # break\n",
    "    # After this, 'output.txt' will contain the string \"This is the content I want to save in a text file.\"\n"
   ]
  },
  {
   "cell_type": "code",
   "execution_count": 6,
   "metadata": {},
   "outputs": [],
   "source": [
    "# import os\n",
    "\n",
    "# file_name = \"MATTER IN OUR SURROUNDINGS.txt\"\n",
    "# folder_path = os.path.join(\"k_genai/myproject/myapp/static/myapp/\", \"Class 9th\", \"Science\", file_name)\n",
    "\n",
    "# # #print to check the constructed path\n",
    "# #print(f\"Constructed path: {folder_path}\")\n",
    "\n",
    "# # Check if the file exists\n",
    "# if os.path.exists(folder_path):\n",
    "#     #print(\"File exists.\")\n",
    "# else:\n",
    "#     #print(f\"File not found: {folder_path}\")\n"
   ]
  },
  {
   "cell_type": "code",
   "execution_count": 10,
   "metadata": {},
   "outputs": [
    {
     "name": "stdout",
     "output_type": "stream",
     "text": [
      "Collecting fpdf\n",
      "  Downloading fpdf-1.7.2.tar.gz (39 kB)\n",
      "  Preparing metadata (setup.py): started\n",
      "  Preparing metadata (setup.py): finished with status 'done'\n",
      "Building wheels for collected packages: fpdf\n",
      "  Building wheel for fpdf (setup.py): started\n",
      "  Building wheel for fpdf (setup.py): finished with status 'done'\n",
      "  Created wheel for fpdf: filename=fpdf-1.7.2-py2.py3-none-any.whl size=40714 sha256=b451d2d282e843147e7acf1e4267cf4e1b087b1a994681238e32fa60b72ff4b9\n",
      "  Stored in directory: c:\\users\\asus\\appdata\\local\\pip\\cache\\wheels\\6e\\62\\11\\dc73d78e40a218ad52e7451f30166e94491be013a7850b5d75\n",
      "Successfully built fpdf\n",
      "Installing collected packages: fpdf\n",
      "Successfully installed fpdf-1.7.2\n"
     ]
    }
   ],
   "source": [
    "# !pip install fpdf\n"
   ]
  },
  {
   "cell_type": "code",
   "execution_count": 12,
   "metadata": {},
   "outputs": [],
   "source": [
    "from fpdf import FPDF\n"
   ]
  },
  {
   "cell_type": "code",
   "execution_count": 13,
   "metadata": {},
   "outputs": [],
   "source": [
    "pdf = FPDF()\n",
    "\n",
    "pdf.set_font(\"Arial\", size=12) \n"
   ]
  },
  {
   "cell_type": "code",
   "execution_count": 1,
   "metadata": {},
   "outputs": [],
   "source": [
    "t= \"\"\"\"Sample Question Paper \\n\\n**Section A (40 marks)**\\n\\n1. What is the\n",
    "advantage of representing data graphically? (1 mark)\\n2. What is the\n",
    "difference between a bar graph and a histogram? (2 marks)\\n3. How do\n",
    "you calculate the class-mark of a class interval? (3 marks)\\n4. A survey\n",
    "of the favourite subjects of students in a school was conducted. The\n",
    "results are as follows:\\n Subject Number of students\\n\n",
    "Mathematics 25\\n Science 30\\n English 20\\n\n",
    "Hindi 15\\n Draw a bar graph to represent this data. What\n",
    "conclusion can be drawn from this graph? (5 marks)\\n \\n5. The marks\n",
    "obtained by students in a class test are given below:\\n Marks\n",
    "Number of students\\n 0 - 10 3\\n 10 - 20 10\\n 20 - 30\n",
    "12\\n 30 - 40 15\\n 40 - 50 5\\n Draw a histogram to\n",
    "represent this data. (5 marks)\\n6. Draw a frequency polygon for the data\n",
    "given in question 5. (5 marks)\\n7. The heights of 50 plants were\n",
    "measured and the data is given below:\\n Height (in cm) Number of\n",
    "plants\\n 10 - 20 5\\n 20 - 30 10\\n 30 - 40 15\\n 40 -\n",
    "50 8\\n 50 - 60 5\\n 60 - 70 7\\n Draw a histogram to\n",
    "represent this data. (5 marks)\\n8. A company produces cars of three\n",
    "different models: A, B, and C. The production figures for these models\n",
    "for the last 5 years are given below:\\n Year Model A Model B Model\n",
    "C\\n 2018 2000 3000 2500\\n 2019 2200 3200 2800\\n\n",
    "2020 2500 3500 3000\\n 2021 2800 3800 3200\\n 2022\n",
    "3000 4000 3500\\n Draw a bar graph to represent this data and\n",
    "answer the following questions:\\n (i) Which model is produced the\n",
    "most?\\n (ii) In which year was the maximum number of cars produced?\n",
    "(5 marks)\\n \\n**Section B (30 marks)**\\n\\nChoose the correct answer\n",
    "from the options given.\\n\\n25. A histogram is the graphical\n",
    "representation of:\\n(a) Ungrouped frequency distribution\\n(b) Grouped\n",
    "frequency distribution\\n(c) Continuous frequency distribution\\n(d)\n",
    "Discrete frequency distribution\\n\\n26. The length of a class interval\n",
    "is:\\n(a) Upper limit - Lower limit\\n(b) Lower limit - Upper limit\\n(c) Upper\n",
    "limit / Lower limit\\n(d) Lower limit / Upper limit\\n\\n27. A frequency\n",
    "polygon is:\\n(a) A graphical representation of ungrouped frequency\n",
    "distribution\\n(b) A graphical representation of grouped frequency\n",
    "distribution\\n(c) A graphical representation of continuous frequency\n",
    "distribution\\n(d) A graphical representation of discrete frequency\n",
    "distribution\\n\\n28. The advantage of representing data graphically\n",
    "is:\\n(a) It saves time\\n(b) It is easy to read\\n(c) It helps to identify\n",
    "patterns and trends in the data\\n(d) All of the above\\n\\n29. A bar graph\n",
    "is used to represent:\\n(a) Continuous data\\n(b) Discrete data\\n(c)\n",
    "Categorical data\\n(d) Grouped frequency distribution\\n\\n30. The\n",
    "class-mark of a class interval is:\\n(a) Upper limit + Lower limit / 2\\n(b)\n",
    "Upper limit - Lower limit / 2\\n(c) Upper limit * Lower limit / 2\\n(d) Lower\n",
    "limit - Upper limit / 2\\n\\nNote: This sample question paper only includes\n",
    "some of the topics covered in the given text. You can add or remove\n",
    "\n",
    "\"\"\""
   ]
  },
  {
   "cell_type": "code",
   "execution_count": 2,
   "metadata": {},
   "outputs": [
    {
     "data": {
      "text/plain": [
       "'\"Sample Question Paper \\n\\n**Section A (40 marks)**\\n\\n1. What is the\\nadvantage of representing data graphically? (1 mark)\\n2. What is the\\ndifference between a bar graph and a histogram? (2 marks)\\n3. How do\\nyou calculate the class-mark of a class interval? (3 marks)\\n4. A survey\\nof the favourite subjects of students in a school was conducted. The\\nresults are as follows:\\n Subject Number of students\\n\\nMathematics 25\\n Science 30\\n English 20\\n\\nHindi 15\\n Draw a bar graph to represent this data. What\\nconclusion can be drawn from this graph? (5 marks)\\n \\n5. The marks\\nobtained by students in a class test are given below:\\n Marks\\nNumber of students\\n 0 - 10 3\\n 10 - 20 10\\n 20 - 30\\n12\\n 30 - 40 15\\n 40 - 50 5\\n Draw a histogram to\\nrepresent this data. (5 marks)\\n6. Draw a frequency polygon for the data\\ngiven in question 5. (5 marks)\\n7. The heights of 50 plants were\\nmeasured and the data is given below:\\n Height (in cm) Number of\\nplants\\n 10 - 20 5\\n 20 - 30 10\\n 30 - 40 15\\n 40 -\\n50 8\\n 50 - 60 5\\n 60 - 70 7\\n Draw a histogram to\\nrepresent this data. (5 marks)\\n8. A company produces cars of three\\ndifferent models: A, B, and C. The production figures for these models\\nfor the last 5 years are given below:\\n Year Model A Model B Model\\nC\\n 2018 2000 3000 2500\\n 2019 2200 3200 2800\\n\\n2020 2500 3500 3000\\n 2021 2800 3800 3200\\n 2022\\n3000 4000 3500\\n Draw a bar graph to represent this data and\\nanswer the following questions:\\n (i) Which model is produced the\\nmost?\\n (ii) In which year was the maximum number of cars produced?\\n(5 marks)\\n \\n**Section B (30 marks)**\\n\\nChoose the correct answer\\nfrom the options given.\\n\\n25. A histogram is the graphical\\nrepresentation of:\\n(a) Ungrouped frequency distribution\\n(b) Grouped\\nfrequency distribution\\n(c) Continuous frequency distribution\\n(d)\\nDiscrete frequency distribution\\n\\n26. The length of a class interval\\nis:\\n(a) Upper limit - Lower limit\\n(b) Lower limit - Upper limit\\n(c) Upper\\nlimit / Lower limit\\n(d) Lower limit / Upper limit\\n\\n27. A frequency\\npolygon is:\\n(a) A graphical representation of ungrouped frequency\\ndistribution\\n(b) A graphical representation of grouped frequency\\ndistribution\\n(c) A graphical representation of continuous frequency\\ndistribution\\n(d) A graphical representation of discrete frequency\\ndistribution\\n\\n28. The advantage of representing data graphically\\nis:\\n(a) It saves time\\n(b) It is easy to read\\n(c) It helps to identify\\npatterns and trends in the data\\n(d) All of the above\\n\\n29. A bar graph\\nis used to represent:\\n(a) Continuous data\\n(b) Discrete data\\n(c)\\nCategorical data\\n(d) Grouped frequency distribution\\n\\n30. The\\nclass-mark of a class interval is:\\n(a) Upper limit + Lower limit / 2\\n(b)\\nUpper limit - Lower limit / 2\\n(c) Upper limit * Lower limit / 2\\n(d) Lower\\nlimit - Upper limit / 2\\n\\nNote: This sample question paper only includes\\nsome of the topics covered in the given text. You can add or remove\\n\\n'"
      ]
     },
     "execution_count": 2,
     "metadata": {},
     "output_type": "execute_result"
    }
   ],
   "source": [
    "t"
   ]
  },
  {
   "cell_type": "code",
   "execution_count": 3,
   "metadata": {},
   "outputs": [
    {
     "data": {
      "text/plain": [
       "''"
      ]
     },
     "execution_count": 3,
     "metadata": {},
     "output_type": "execute_result"
    }
   ],
   "source": [
    "from fpdf import FPDF\n",
    "\n",
    "# Example text stored in a variable\n",
    "# t = \"\"\"This is the first line.\n",
    "# Here’s the second line with a fancy quote: ‘hello’\n",
    "# And this is the third line.\"\"\"\n",
    "\n",
    "# Split the text into lines\n",
    "all_text = t.split('\\n')\n",
    "\n",
    "# Create instance of FPDF class\n",
    "pdf = FPDF()\n",
    "\n",
    "# Add a page\n",
    "pdf.add_page()\n",
    "\n",
    "# Set font style and size\n",
    "pdf.set_font(\"Arial\", size=15)\n",
    "\n",
    "# Insert the texts from the variable into the PDF\n",
    "for line in all_text:\n",
    "    # Use encode to handle special characters\n",
    "    pdf.cell(200, 10, txt=line.encode('latin-1', 'replace').decode('latin-1'), ln=1, align='C')\n",
    "\n",
    "# Save the PDF with name .pdf\n",
    "pdf.output(\"mygfg.pdf\")\n"
   ]
  },
  {
   "cell_type": "code",
   "execution_count": 8,
   "metadata": {},
   "outputs": [
    {
     "data": {
      "text/plain": [
       "['Based on the provided text, I will create a sample paper with two sections, A and B. Section A will consist of descriptive questions, and Section B will consist of multiple-choice questions.',\n",
       " '',\n",
       " '**Section A**',\n",
       " '',\n",
       " '**1. One mark question**',\n",
       " 'What is the formula for the curved surface area of a right circular cone?',\n",
       " 'Answer should be: πrl',\n",
       " '',\n",
       " '**2. One mark question**',\n",
       " 'What is the formula for the surface area of a sphere?',\n",
       " 'Answer should be: 4πr^2',\n",
       " '',\n",
       " '**3. One mark question**',\n",
       " 'What is the ratio of the volumes of a cone and a cylinder of the same base radius and height?',\n",
       " 'Answer should be: 1:3',\n",
       " '',\n",
       " '**4. Two marks question**',\n",
       " 'A cone has a base radius of 8 cm and a height of 15 cm. Find its volume. Take π = 3.14.',\n",
       " 'Answer: Volume = (1/3)πr^2h, where r = 8 cm and h = 15 cm',\n",
       " '',\n",
       " '**5. Two marks question**',\n",
       " 'The surface area of a sphere is 616 cm^2. Find its radius.',\n",
       " 'Answer should be based on the formula 4πr^2 = 616',\n",
       " '',\n",
       " '**6. Three marks question**',\n",
       " 'A cylindrical vessel has a base radius of 3.5 cm and a height of 10 cm. Find its volume and curved surface area.',\n",
       " 'Answer should be based on the formulae for the volume and curved surface area of a cylinder',\n",
       " '',\n",
       " '**7. Three marks question**',\n",
       " 'A cone has a base diameter of 12 cm and a slant height of 13 cm. Find its volume and total surface area.',\n",
       " 'Answer should be based on the formulae for the volume and total surface area of a cone',\n",
       " '',\n",
       " '**8. Five marks question**',\n",
       " 'A conical tent is 4.5 m high and the radius of its base is 9 m. Find the volume and surface area of the tent.',\n",
       " 'Answer should be based on the formulae for the volume and surface area of a cone',\n",
       " '',\n",
       " '**9. Five marks question**',\n",
       " 'A sphere has a surface area of 154 cm^2. Find its volume and radius.',\n",
       " 'Answer should be based on the formulae for the surface area and volume of a sphere',\n",
       " '',\n",
       " '**Section B**',\n",
       " '',\n",
       " '**1. Multiple choice question**',\n",
       " 'What is the formula for the total surface area of a hemisphere?',\n",
       " 'A) 2πr^2',\n",
       " 'B) 3πr^2',\n",
       " 'C) 4πr^2',\n",
       " 'D) πr^2',\n",
       " '',\n",
       " 'Answer: B) 3πr^2',\n",
       " '',\n",
       " '**2. Multiple choice question**',\n",
       " 'What is the ratio of the surface areas of two spheres of radii 2 cm and 4 cm?',\n",
       " 'A) 1:1',\n",
       " 'B) 1:2',\n",
       " 'C) 1:4',\n",
       " 'D) 1:8',\n",
       " '',\n",
       " 'Answer: C) 1:4',\n",
       " '',\n",
       " '**3. Multiple choice question**',\n",
       " 'What is the volume of a cone whose base radius is 6 cm and height is 12 cm? (Take π = 3.14)',\n",
       " 'A) 360 cm^3',\n",
       " 'B) 432 cm^3',\n",
       " 'C) 504 cm^3',\n",
       " 'D) 576 cm^3',\n",
       " '',\n",
       " 'Answer: C) 504 cm^3',\n",
       " '',\n",
       " '**4. Multiple choice question**',\n",
       " 'A cone has a volume of 132 cubic cm. If its height is 9 cm, what is its base radius? (Take π = 3.14)',\n",
       " 'A) 4 cm',\n",
       " 'B) 6 cm',\n",
       " 'C) 8 cm',\n",
       " 'D) 10 cm',\n",
       " '',\n",
       " 'Answer: B) 6 cm',\n",
       " '',\n",
       " '**5. Multiple choice question**',\n",
       " 'A sphere has a surface area of 120 cm^2. What is its radius?',\n",
       " 'A) 3 cm',\n",
       " 'B) 4 cm',\n",
       " 'C) 5 cm',\n",
       " 'D) 6 cm',\n",
       " '',\n",
       " 'Answer: B) 4 cm',\n",
       " '',\n",
       " '**6. Multiple choice question**',\n",
       " 'What is the volume of a hemisphere whose radius is 7 cm? (Take π = 3.14)',\n",
       " 'A) 147 cm^3',\n",
       " 'B) 171 cm^3',\n",
       " 'C) 205 cm^3',\n",
       " 'D) 239 cm^3',\n",
       " '',\n",
       " 'Answer: C) 205 cm^3',\n",
       " '',\n",
       " '**7. Multiple choice question**',\n",
       " 'A cone has a base diameter of 8 cm and a height of 15 cm. What is its slant height?',\n",
       " 'A) 17 cm',\n",
       " 'B) 18 cm',\n",
       " 'C) 20 cm',\n",
       " 'D) 22 cm',\n",
       " '',\n",
       " 'Answer: A) 17 cm',\n",
       " '',\n",
       " '**8. Multiple choice question**',\n",
       " 'A sphere has a diameter of 14 cm. What is its surface area? (Take π = 3.14)',\n",
       " 'A) 308 cm^2',\n",
       " 'B) 419 cm^2',\n",
       " 'C) 525 cm^2',\n",
       " 'D) 640 cm^2',\n",
       " '',\n",
       " 'Answer: C) 525 cm^2',\n",
       " '',\n",
       " '**9. Multiple choice question**',\n",
       " 'A cone has a volume of 300 cubic cm. If its base radius is 5 cm, what is its height? (Take π = 3.14)',\n",
       " 'A) 9 cm',\n",
       " 'B) 12 cm',\n",
       " 'C) 15 cm',\n",
       " 'D) 18 cm',\n",
       " '',\n",
       " 'Answer: B) 12 cm',\n",
       " '',\n",
       " '**10. Multiple choice question**',\n",
       " 'A hemisphere has a surface area of 400 cm^2. What is its radius?',\n",
       " 'A) 5 cm',\n",
       " 'B) 6 cm',\n",
       " 'C) 7 cm',\n",
       " 'D) 8 cm',\n",
       " '',\n",
       " 'Answer: C) 7 cm']"
      ]
     },
     "execution_count": 8,
     "metadata": {},
     "output_type": "execute_result"
    }
   ],
   "source": [
    "\"Based on the provided text, I will create a sample paper with two sections, A and B. Section A will consist of descriptive questions, and Section B will consist of multiple-choice questions.\\\\n\\\\n**Section A**\\\\n\\\\n**1. One mark question**\\\\nWhat is the formula for the curved surface area of a right circular cone?\\\\nAnswer should be: πrl\\\\n\\\\n**2. One mark question**\\\\nWhat is the formula for the surface area of a sphere?\\\\nAnswer should be: 4πr^2\\\\n\\\\n**3. One mark question**\\\\nWhat is the ratio of the volumes of a cone and a cylinder of the same base radius and height?\\\\nAnswer should be: 1:3\\\\n\\\\n**4. Two marks question**\\\\nA cone has a base radius of 8 cm and a height of 15 cm. Find its volume. Take π = 3.14.\\\\nAnswer: Volume = (1/3)πr^2h, where r = 8 cm and h = 15 cm\\\\n\\\\n**5. Two marks question**\\\\nThe surface area of a sphere is 616 cm^2. Find its radius.\\\\nAnswer should be based on the formula 4πr^2 = 616\\\\n\\\\n**6. Three marks question**\\\\nA cylindrical vessel has a base radius of 3.5 cm and a height of 10 cm. Find its volume and curved surface area.\\\\nAnswer should be based on the formulae for the volume and curved surface area of a cylinder\\\\n\\\\n**7. Three marks question**\\\\nA cone has a base diameter of 12 cm and a slant height of 13 cm. Find its volume and total surface area.\\\\nAnswer should be based on the formulae for the volume and total surface area of a cone\\\\n\\\\n**8. Five marks question**\\\\nA conical tent is 4.5 m high and the radius of its base is 9 m. Find the volume and surface area of the tent.\\\\nAnswer should be based on the formulae for the volume and surface area of a cone\\\\n\\\\n**9. Five marks question**\\\\nA sphere has a surface area of 154 cm^2. Find its volume and radius.\\\\nAnswer should be based on the formulae for the surface area and volume of a sphere\\\\n\\\\n**Section B**\\\\n\\\\n**1. Multiple choice question**\\\\nWhat is the formula for the total surface area of a hemisphere?\\\\nA) 2πr^2\\\\nB) 3πr^2\\\\nC) 4πr^2\\\\nD) πr^2\\\\n\\\\nAnswer: B) 3πr^2\\\\n\\\\n**2. Multiple choice question**\\\\nWhat is the ratio of the surface areas of two spheres of radii 2 cm and 4 cm?\\\\nA) 1:1\\\\nB) 1:2\\\\nC) 1:4\\\\nD) 1:8\\\\n\\\\nAnswer: C) 1:4\\\\n\\\\n**3. Multiple choice question**\\\\nWhat is the volume of a cone whose base radius is 6 cm and height is 12 cm? (Take π = 3.14)\\\\nA) 360 cm^3\\\\nB) 432 cm^3\\\\nC) 504 cm^3\\\\nD) 576 cm^3\\\\n\\\\nAnswer: C) 504 cm^3\\\\n\\\\n**4. Multiple choice question**\\\\nA cone has a volume of 132 cubic cm. If its height is 9 cm, what is its base radius? (Take π = 3.14)\\\\nA) 4 cm\\\\nB) 6 cm\\\\nC) 8 cm\\\\nD) 10 cm\\\\n\\\\nAnswer: B) 6 cm\\\\n\\\\n**5. Multiple choice question**\\\\nA sphere has a surface area of 120 cm^2. What is its radius?\\\\nA) 3 cm\\\\nB) 4 cm\\\\nC) 5 cm\\\\nD) 6 cm\\\\n\\\\nAnswer: B) 4 cm\\\\n\\\\n**6. Multiple choice question**\\\\nWhat is the volume of a hemisphere whose radius is 7 cm? (Take π = 3.14)\\\\nA) 147 cm^3\\\\nB) 171 cm^3\\\\nC) 205 cm^3\\\\nD) 239 cm^3\\\\n\\\\nAnswer: C) 205 cm^3\\\\n\\\\n**7. Multiple choice question**\\\\nA cone has a base diameter of 8 cm and a height of 15 cm. What is its slant height?\\\\nA) 17 cm\\\\nB) 18 cm\\\\nC) 20 cm\\\\nD) 22 cm\\\\n\\\\nAnswer: A) 17 cm\\\\n\\\\n**8. Multiple choice question**\\\\nA sphere has a diameter of 14 cm. What is its surface area? (Take π = 3.14)\\\\nA) 308 cm^2\\\\nB) 419 cm^2\\\\nC) 525 cm^2\\\\nD) 640 cm^2\\\\n\\\\nAnswer: C) 525 cm^2\\\\n\\\\n**9. Multiple choice question**\\\\nA cone has a volume of 300 cubic cm. If its base radius is 5 cm, what is its height? (Take π = 3.14)\\\\nA) 9 cm\\\\nB) 12 cm\\\\nC) 15 cm\\\\nD) 18 cm\\\\n\\\\nAnswer: B) 12 cm\\\\n\\\\n**10. Multiple choice question**\\\\nA hemisphere has a surface area of 400 cm^2. What is its radius?\\\\nA) 5 cm\\\\nB) 6 cm\\\\nC) 7 cm\\\\nD) 8 cm\\\\n\\\\nAnswer: C) 7 cm\".split('\\\\n')\n"
   ]
  },
  {
   "cell_type": "code",
   "execution_count": 1,
   "metadata": {},
   "outputs": [
    {
     "name": "stdout",
     "output_type": "stream",
     "text": [
      "Requirement already satisfied: markdown in c:\\users\\asus\\anaconda3\\envs\\ai_project\\lib\\site-packages (3.7)\n",
      "Requirement already satisfied: pdfkit in c:\\users\\asus\\anaconda3\\envs\\ai_project\\lib\\site-packages (1.0.0)\n"
     ]
    }
   ],
   "source": [
    "!pip install markdown pdfkit\n"
   ]
  },
  {
   "cell_type": "code",
   "execution_count": 2,
   "metadata": {},
   "outputs": [
    {
     "ename": "OSError",
     "evalue": "No wkhtmltopdf executable found: \"b''\"\nIf this file exists please check that this process can read it or you can pass path to it manually in method call, check README. Otherwise please install wkhtmltopdf - https://github.com/JazzCore/python-pdfkit/wiki/Installing-wkhtmltopdf",
     "output_type": "error",
     "traceback": [
      "\u001b[1;31m---------------------------------------------------------------------------\u001b[0m",
      "\u001b[1;31mFileNotFoundError\u001b[0m                         Traceback (most recent call last)",
      "File \u001b[1;32mc:\\Users\\Asus\\anaconda3\\envs\\AI_project\\Lib\\site-packages\\pdfkit\\configuration.py:35\u001b[0m, in \u001b[0;36mConfiguration.__init__\u001b[1;34m(self, wkhtmltopdf, meta_tag_prefix, environ)\u001b[0m\n\u001b[0;32m     33\u001b[0m     \u001b[38;5;28mself\u001b[39m\u001b[38;5;241m.\u001b[39mwkhtmltopdf \u001b[38;5;241m=\u001b[39m lines[\u001b[38;5;241m0\u001b[39m]\u001b[38;5;241m.\u001b[39mstrip()\n\u001b[1;32m---> 35\u001b[0m \u001b[38;5;28;01mwith\u001b[39;00m \u001b[38;5;28;43mopen\u001b[39;49m\u001b[43m(\u001b[49m\u001b[38;5;28;43mself\u001b[39;49m\u001b[38;5;241;43m.\u001b[39;49m\u001b[43mwkhtmltopdf\u001b[49m\u001b[43m)\u001b[49m \u001b[38;5;28;01mas\u001b[39;00m f:\n\u001b[0;32m     36\u001b[0m     \u001b[38;5;28;01mpass\u001b[39;00m\n",
      "\u001b[1;31mFileNotFoundError\u001b[0m: [Errno 2] No such file or directory: b''",
      "\nDuring handling of the above exception, another exception occurred:\n",
      "\u001b[1;31mOSError\u001b[0m                                   Traceback (most recent call last)",
      "Cell \u001b[1;32mIn[2], line 31\u001b[0m\n\u001b[0;32m     21\u001b[0m options \u001b[38;5;241m=\u001b[39m {\n\u001b[0;32m     22\u001b[0m     \n\u001b[0;32m     23\u001b[0m     \u001b[38;5;124m'\u001b[39m\u001b[38;5;124mpage-size\u001b[39m\u001b[38;5;124m'\u001b[39m: \u001b[38;5;124m'\u001b[39m\u001b[38;5;124mA4\u001b[39m\u001b[38;5;124m'\u001b[39m,\n\u001b[1;32m   (...)\u001b[0m\n\u001b[0;32m     27\u001b[0m     \u001b[38;5;124m'\u001b[39m\u001b[38;5;124mmargin-left\u001b[39m\u001b[38;5;124m'\u001b[39m: \u001b[38;5;124m'\u001b[39m\u001b[38;5;124m0.75in\u001b[39m\u001b[38;5;124m'\u001b[39m,\n\u001b[0;32m     28\u001b[0m }\n\u001b[0;32m     30\u001b[0m \u001b[38;5;66;03m# Convert HTML to PDF\u001b[39;00m\n\u001b[1;32m---> 31\u001b[0m \u001b[43mpdfkit\u001b[49m\u001b[38;5;241;43m.\u001b[39;49m\u001b[43mfrom_string\u001b[49m\u001b[43m(\u001b[49m\u001b[43mhtml\u001b[49m\u001b[43m,\u001b[49m\u001b[43m \u001b[49m\u001b[38;5;124;43m\"\u001b[39;49m\u001b[38;5;124;43moutput.pdf\u001b[39;49m\u001b[38;5;124;43m\"\u001b[39;49m\u001b[43m,\u001b[49m\u001b[43m \u001b[49m\u001b[43moptions\u001b[49m\u001b[38;5;241;43m=\u001b[39;49m\u001b[43moptions\u001b[49m\u001b[43m)\u001b[49m\n",
      "File \u001b[1;32mc:\\Users\\Asus\\anaconda3\\envs\\AI_project\\Lib\\site-packages\\pdfkit\\api.py:72\u001b[0m, in \u001b[0;36mfrom_string\u001b[1;34m(input, output_path, options, toc, cover, css, configuration, cover_first, verbose)\u001b[0m\n\u001b[0;32m     54\u001b[0m \u001b[38;5;28;01mdef\u001b[39;00m \u001b[38;5;21mfrom_string\u001b[39m(\u001b[38;5;28minput\u001b[39m, output_path\u001b[38;5;241m=\u001b[39m\u001b[38;5;28;01mNone\u001b[39;00m, options\u001b[38;5;241m=\u001b[39m\u001b[38;5;28;01mNone\u001b[39;00m, toc\u001b[38;5;241m=\u001b[39m\u001b[38;5;28;01mNone\u001b[39;00m, cover\u001b[38;5;241m=\u001b[39m\u001b[38;5;28;01mNone\u001b[39;00m, css\u001b[38;5;241m=\u001b[39m\u001b[38;5;28;01mNone\u001b[39;00m,\n\u001b[0;32m     55\u001b[0m                 configuration\u001b[38;5;241m=\u001b[39m\u001b[38;5;28;01mNone\u001b[39;00m, cover_first\u001b[38;5;241m=\u001b[39m\u001b[38;5;28;01mFalse\u001b[39;00m, verbose\u001b[38;5;241m=\u001b[39m\u001b[38;5;28;01mFalse\u001b[39;00m):\n\u001b[0;32m     56\u001b[0m \u001b[38;5;250m    \u001b[39m\u001b[38;5;124;03m\"\"\"\u001b[39;00m\n\u001b[0;32m     57\u001b[0m \u001b[38;5;124;03m    Convert given string or strings to PDF document\u001b[39;00m\n\u001b[0;32m     58\u001b[0m \n\u001b[1;32m   (...)\u001b[0m\n\u001b[0;32m     69\u001b[0m \u001b[38;5;124;03m    Returns: True on success\u001b[39;00m\n\u001b[0;32m     70\u001b[0m \u001b[38;5;124;03m    \"\"\"\u001b[39;00m\n\u001b[1;32m---> 72\u001b[0m     r \u001b[38;5;241m=\u001b[39m \u001b[43mPDFKit\u001b[49m\u001b[43m(\u001b[49m\u001b[38;5;28;43minput\u001b[39;49m\u001b[43m,\u001b[49m\u001b[43m \u001b[49m\u001b[38;5;124;43m'\u001b[39;49m\u001b[38;5;124;43mstring\u001b[39;49m\u001b[38;5;124;43m'\u001b[39;49m\u001b[43m,\u001b[49m\u001b[43m \u001b[49m\u001b[43moptions\u001b[49m\u001b[38;5;241;43m=\u001b[39;49m\u001b[43moptions\u001b[49m\u001b[43m,\u001b[49m\u001b[43m \u001b[49m\u001b[43mtoc\u001b[49m\u001b[38;5;241;43m=\u001b[39;49m\u001b[43mtoc\u001b[49m\u001b[43m,\u001b[49m\u001b[43m \u001b[49m\u001b[43mcover\u001b[49m\u001b[38;5;241;43m=\u001b[39;49m\u001b[43mcover\u001b[49m\u001b[43m,\u001b[49m\u001b[43m \u001b[49m\u001b[43mcss\u001b[49m\u001b[38;5;241;43m=\u001b[39;49m\u001b[43mcss\u001b[49m\u001b[43m,\u001b[49m\n\u001b[0;32m     73\u001b[0m \u001b[43m               \u001b[49m\u001b[43mconfiguration\u001b[49m\u001b[38;5;241;43m=\u001b[39;49m\u001b[43mconfiguration\u001b[49m\u001b[43m,\u001b[49m\u001b[43m \u001b[49m\u001b[43mcover_first\u001b[49m\u001b[38;5;241;43m=\u001b[39;49m\u001b[43mcover_first\u001b[49m\u001b[43m,\u001b[49m\u001b[43m \u001b[49m\u001b[43mverbose\u001b[49m\u001b[38;5;241;43m=\u001b[39;49m\u001b[43mverbose\u001b[49m\u001b[43m)\u001b[49m\n\u001b[0;32m     75\u001b[0m     \u001b[38;5;28;01mreturn\u001b[39;00m r\u001b[38;5;241m.\u001b[39mto_pdf(output_path)\n",
      "File \u001b[1;32mc:\\Users\\Asus\\anaconda3\\envs\\AI_project\\Lib\\site-packages\\pdfkit\\pdfkit.py:45\u001b[0m, in \u001b[0;36mPDFKit.__init__\u001b[1;34m(self, url_or_file, type_, options, toc, cover, css, configuration, cover_first, verbose)\u001b[0m\n\u001b[0;32m     41\u001b[0m \u001b[38;5;28;01mdef\u001b[39;00m \u001b[38;5;21m__init__\u001b[39m(\u001b[38;5;28mself\u001b[39m, url_or_file, type_, options\u001b[38;5;241m=\u001b[39m\u001b[38;5;28;01mNone\u001b[39;00m, toc\u001b[38;5;241m=\u001b[39m\u001b[38;5;28;01mNone\u001b[39;00m, cover\u001b[38;5;241m=\u001b[39m\u001b[38;5;28;01mNone\u001b[39;00m,\n\u001b[0;32m     42\u001b[0m              css\u001b[38;5;241m=\u001b[39m\u001b[38;5;28;01mNone\u001b[39;00m, configuration\u001b[38;5;241m=\u001b[39m\u001b[38;5;28;01mNone\u001b[39;00m, cover_first\u001b[38;5;241m=\u001b[39m\u001b[38;5;28;01mFalse\u001b[39;00m, verbose\u001b[38;5;241m=\u001b[39m\u001b[38;5;28;01mFalse\u001b[39;00m):\n\u001b[0;32m     44\u001b[0m     \u001b[38;5;28mself\u001b[39m\u001b[38;5;241m.\u001b[39msource \u001b[38;5;241m=\u001b[39m Source(url_or_file, type_)\n\u001b[1;32m---> 45\u001b[0m     \u001b[38;5;28mself\u001b[39m\u001b[38;5;241m.\u001b[39mconfiguration \u001b[38;5;241m=\u001b[39m (\u001b[43mConfiguration\u001b[49m\u001b[43m(\u001b[49m\u001b[43m)\u001b[49m \u001b[38;5;28;01mif\u001b[39;00m configuration \u001b[38;5;129;01mis\u001b[39;00m \u001b[38;5;28;01mNone\u001b[39;00m\n\u001b[0;32m     46\u001b[0m                           \u001b[38;5;28;01melse\u001b[39;00m configuration)\n\u001b[0;32m     47\u001b[0m     \u001b[38;5;28;01mtry\u001b[39;00m:\n\u001b[0;32m     48\u001b[0m         \u001b[38;5;28mself\u001b[39m\u001b[38;5;241m.\u001b[39mwkhtmltopdf \u001b[38;5;241m=\u001b[39m \u001b[38;5;28mself\u001b[39m\u001b[38;5;241m.\u001b[39mconfiguration\u001b[38;5;241m.\u001b[39mwkhtmltopdf\u001b[38;5;241m.\u001b[39mdecode(\u001b[38;5;124m'\u001b[39m\u001b[38;5;124mutf-8\u001b[39m\u001b[38;5;124m'\u001b[39m)\n",
      "File \u001b[1;32mc:\\Users\\Asus\\anaconda3\\envs\\AI_project\\Lib\\site-packages\\pdfkit\\configuration.py:38\u001b[0m, in \u001b[0;36mConfiguration.__init__\u001b[1;34m(self, wkhtmltopdf, meta_tag_prefix, environ)\u001b[0m\n\u001b[0;32m     36\u001b[0m         \u001b[38;5;28;01mpass\u001b[39;00m\n\u001b[0;32m     37\u001b[0m \u001b[38;5;28;01mexcept\u001b[39;00m (\u001b[38;5;167;01mIOError\u001b[39;00m, \u001b[38;5;167;01mFileNotFoundError\u001b[39;00m) \u001b[38;5;28;01mas\u001b[39;00m e:\n\u001b[1;32m---> 38\u001b[0m     \u001b[38;5;28;01mraise\u001b[39;00m \u001b[38;5;167;01mIOError\u001b[39;00m(\u001b[38;5;124m'\u001b[39m\u001b[38;5;124mNo wkhtmltopdf executable found: \u001b[39m\u001b[38;5;124m\"\u001b[39m\u001b[38;5;132;01m%s\u001b[39;00m\u001b[38;5;124m\"\u001b[39m\u001b[38;5;130;01m\\n\u001b[39;00m\u001b[38;5;124m'\u001b[39m\n\u001b[0;32m     39\u001b[0m                   \u001b[38;5;124m'\u001b[39m\u001b[38;5;124mIf this file exists please check that this process can \u001b[39m\u001b[38;5;124m'\u001b[39m\n\u001b[0;32m     40\u001b[0m                   \u001b[38;5;124m'\u001b[39m\u001b[38;5;124mread it or you can pass path to it manually in method call, \u001b[39m\u001b[38;5;124m'\u001b[39m\n\u001b[0;32m     41\u001b[0m                   \u001b[38;5;124m'\u001b[39m\u001b[38;5;124mcheck README. Otherwise please install wkhtmltopdf - \u001b[39m\u001b[38;5;124m'\u001b[39m\n\u001b[0;32m     42\u001b[0m                   \u001b[38;5;124m'\u001b[39m\u001b[38;5;124mhttps://github.com/JazzCore/python-pdfkit/wiki/Installing-wkhtmltopdf\u001b[39m\u001b[38;5;124m'\u001b[39m \u001b[38;5;241m%\u001b[39m \u001b[38;5;28mself\u001b[39m\u001b[38;5;241m.\u001b[39mwkhtmltopdf)\n\u001b[0;32m     45\u001b[0m \u001b[38;5;28mself\u001b[39m\u001b[38;5;241m.\u001b[39menviron \u001b[38;5;241m=\u001b[39m environ\n\u001b[0;32m     47\u001b[0m \u001b[38;5;28;01mif\u001b[39;00m \u001b[38;5;129;01mnot\u001b[39;00m \u001b[38;5;28mself\u001b[39m\u001b[38;5;241m.\u001b[39menviron:\n",
      "\u001b[1;31mOSError\u001b[0m: No wkhtmltopdf executable found: \"b''\"\nIf this file exists please check that this process can read it or you can pass path to it manually in method call, check README. Otherwise please install wkhtmltopdf - https://github.com/JazzCore/python-pdfkit/wiki/Installing-wkhtmltopdf"
     ]
    }
   ],
   "source": [
    "import markdown\n",
    "import pdfkit\n",
    "\n",
    "# Sample Markdown string\n",
    "markdown_string = \"\"\"\n",
    "# Title\n",
    "\n",
    "This is a paragraph with **bold text** and *italic text*.\n",
    "\n",
    "## Subheading\n",
    "\n",
    "- Item 1\n",
    "- Item 2\n",
    "- Item 3\n",
    "\"\"\"\n",
    "\n",
    "# Convert Markdown to HTML\n",
    "html = markdown.markdown(markdown_string)\n",
    "\n",
    "# Define options for pdfkit (optional)\n",
    "options = {\n",
    "    \n",
    "    'page-size': 'A4',\n",
    "    'margin-top': '0.75in',\n",
    "    'margin-right': '0.75in',\n",
    "    'margin-bottom': '0.75in',\n",
    "    'margin-left': '0.75in',\n",
    "}\n",
    "\n",
    "# Convert HTML to PDF\n",
    "pdfkit.from_string(html, \"output.pdf\", options=options)\n"
   ]
  },
  {
   "cell_type": "code",
   "execution_count": 4,
   "metadata": {},
   "outputs": [
    {
     "name": "stdout",
     "output_type": "stream",
     "text": [
      "Collecting reportlab\n",
      "  Downloading reportlab-4.2.2-py3-none-any.whl.metadata (1.4 kB)\n",
      "Requirement already satisfied: pillow>=9.0.0 in c:\\users\\asus\\anaconda3\\envs\\ai_project\\lib\\site-packages (from reportlab) (10.4.0)\n",
      "Collecting chardet (from reportlab)\n",
      "  Downloading chardet-5.2.0-py3-none-any.whl.metadata (3.4 kB)\n",
      "Downloading reportlab-4.2.2-py3-none-any.whl (1.9 MB)\n",
      "   ---------------------------------------- 0.0/1.9 MB ? eta -:--:--\n",
      "   ---------------------------------------- 1.9/1.9 MB 13.4 MB/s eta 0:00:00\n",
      "Downloading chardet-5.2.0-py3-none-any.whl (199 kB)\n",
      "Installing collected packages: chardet, reportlab\n",
      "Successfully installed chardet-5.2.0 reportlab-4.2.2\n",
      "Note: you may need to restart the kernel to use updated packages.\n"
     ]
    }
   ],
   "source": [
    "pip install reportlab\n"
   ]
  },
  {
   "cell_type": "code",
   "execution_count": 17,
   "metadata": {},
   "outputs": [],
   "source": [
    "from django.http import HttpResponse\n",
    "from reportlab.lib.pagesizes import letter\n",
    "from reportlab.pdfgen import canvas\n",
    "import io\n",
    "\n",
    "def generate_pdf(request):\n",
    "    # Capture the data sent in the request (categories)\n",
    "    category1 = request.GET.get('category1', '')\n",
    "    category2 = request.GET.get('category2', '')\n",
    "    category3 = request.GET.get('category3', '')\n",
    "    category4 = request.GET.get('category4', '')\n",
    "    \n",
    "    # Prepare a string to display in the PDF\n",
    "    pdf_content = f\"Category 1: {category1}\\nCategory 2: {category2}\\nCategory 3: {category3}\\nCategory 4: {category4}\"\n",
    "\n",
    "    # Create a BytesIO buffer to receive the PDF data\n",
    "    buffer = io.BytesIO()\n",
    "\n",
    "    # Create the PDF object using ReportLab\n",
    "    p = canvas.Canvas(buffer, pagesize=letter)\n",
    "    p.drawString(100, 750, \"User Selection Report\")\n",
    "    p.drawString(100, 730, pdf_content)\n",
    "\n",
    "    # Finish the PDF generation\n",
    "    p.showPage()\n",
    "    p.save()\n",
    "\n",
    "    # Move the buffer pointer to the beginning\n",
    "    buffer.seek(0)\n",
    "\n",
    "    # Return the PDF as an HTTP response\n",
    "    response = HttpResponse(buffer, content_type='application/pdf')\n",
    "    response['Content-Disposition'] = 'attachment; filename=\"output.pdf\"'\n",
    "    return response\n"
   ]
  },
  {
   "cell_type": "code",
   "execution_count": 2,
   "metadata": {},
   "outputs": [],
   "source": [
    "# pip install pandas"
   ]
  },
  {
   "cell_type": "code",
   "execution_count": 7,
   "metadata": {},
   "outputs": [
    {
     "name": "stdout",
     "output_type": "stream",
     "text": [
      "Data has been saved to text_files_data.csv\n"
     ]
    }
   ],
   "source": [
    "import os\n",
    "import pandas as pd\n",
    "\n",
    "def extract_text_from_file(file_path):\n",
    "    try:\n",
    "        with open(file_path, 'r', encoding='utf-8') as file:\n",
    "            return file.read()\n",
    "    except Exception as e:\n",
    "        print(f\"Error reading {file_path}: {e}\")\n",
    "        return \"\"\n",
    "\n",
    "def load_repositories_to_csv(base_dir, output_csv):\n",
    "    data = []\n",
    "\n",
    "    for root, dirs, files in os.walk(base_dir):\n",
    "        for file in files:\n",
    "            if file.lower().endswith('.txt'):\n",
    "                relative_path = os.path.relpath(root, base_dir)\n",
    "                path_parts = relative_path.split(os.sep)\n",
    "                \n",
    "                if len(path_parts) > 1:\n",
    "                    parent_folder = path_parts[0]\n",
    "                    sub_folder = os.path.join(*path_parts[1:])\n",
    "                else:\n",
    "                    parent_folder = path_parts[0]\n",
    "                    sub_folder = ''\n",
    "\n",
    "                file_name = file.replace('.txt','')\n",
    "                file_path = os.path.join(root, file)\n",
    "                file_data = extract_text_from_file(file_path)\n",
    "                \n",
    "                data.append([parent_folder, sub_folder, file_name, file_data])\n",
    "\n",
    "    df = pd.DataFrame(data, columns=['Parent Folder', 'Sub Folder', 'File Name', 'File Data'])\n",
    "    df.to_csv(output_csv, index=False)\n",
    "\n",
    "if __name__ == \"__main__\":\n",
    "    base_dir = '/Users/yashkushwaha/Personal/TODO/fastapi/paper_shaper/myapp/static/myapp'  # Set your specific base directory\n",
    "    output_csv = 'text_files_data.csv'\n",
    "    load_repositories_to_csv(base_dir, output_csv)\n",
    "    print(f\"Data has been saved to {output_csv}\")"
   ]
  },
  {
   "cell_type": "markdown",
   "metadata": {},
   "source": [
    "model=\"llama-3.1-70b-versatile\"\n"
   ]
  },
  {
   "cell_type": "code",
   "execution_count": 3,
   "metadata": {},
   "outputs": [
    {
     "name": "stdout",
     "output_type": "stream",
     "text": [
      "Data has been saved to prompt_data.csv\n"
     ]
    }
   ],
   "source": [
    "import os\n",
    "import pandas as pd\n",
    "\n",
    "def extract_text_from_file(file_path):\n",
    "    try:\n",
    "        with open(file_path, 'r', encoding='utf-8') as file:\n",
    "            return file.read()\n",
    "    except Exception as e:\n",
    "        print(f\"Error reading {file_path}: {e}\")\n",
    "        return \"\"\n",
    "\n",
    "def load_repositories_to_csv(base_dir, output_csv):\n",
    "    data = []\n",
    "\n",
    "    for root, dirs, files in os.walk(base_dir):\n",
    "        for file in files:\n",
    "            if file.lower().endswith('.txt'):\n",
    "                relative_path = os.path.relpath(root, base_dir)\n",
    "                path_parts = relative_path.split(os.sep)\n",
    "                \n",
    "                if len(path_parts) > 1:\n",
    "                    parent_folder = path_parts[0]\n",
    "                    sub_folder = os.path.join(*path_parts[1:])\n",
    "                else:\n",
    "                    parent_folder = path_parts[0]\n",
    "                    sub_folder = ''\n",
    "\n",
    "                file_name = file.replace('.txt','')\n",
    "                file_path = os.path.join(root, file)\n",
    "                file_data = extract_text_from_file(file_path)\n",
    "                model=\"llama-3.1-70b-versatile\"\n",
    "\n",
    "                \n",
    "                data.append([parent_folder, file_name, file_data,model])\n",
    "\n",
    "    df = pd.DataFrame(data, columns=['Parent Folder', 'File Name', 'File Data','Model'])\n",
    "    df.to_csv(output_csv, index=False)\n",
    "\n",
    "if __name__ == \"__main__\":\n",
    "    base_dir = '/Users/yashkushwaha/Personal/TODO/fastapi/static/prompts'  # Set your specific base directory\n",
    "    output_csv = 'prompt_data.csv'\n",
    "    load_repositories_to_csv(base_dir, output_csv)\n",
    "    print(f\"Data has been saved to {output_csv}\")"
   ]
  },
  {
   "cell_type": "code",
   "execution_count": 4,
   "metadata": {},
   "outputs": [],
   "source": [
    "import pandas as pd\n",
    "\n",
    "df = pd.read_csv('/Users/yashkushwaha/Personal/TODO/fastapi/static/prompt_data.csv')"
   ]
  },
  {
   "cell_type": "code",
   "execution_count": 6,
   "metadata": {},
   "outputs": [],
   "source": [
    "df_prompt  =  df[\n",
    "        (df['Parent Folder'] == 'Class 9th') &\n",
    "        (df['File Name'] == 'Mock Paper') \n",
    "    ]"
   ]
  },
  {
   "cell_type": "code",
   "execution_count": 16,
   "metadata": {},
   "outputs": [
    {
     "data": {
      "text/plain": [
       "'You are a Expert teacher and you teach the students of ninth grade of a school. Your aim is to help students prepare well for their final examinations with atmost precision and clearity.\\nYou are provided with a sample paper from previous year/s your task is to generate new questions/sample paper from the document content provided below.\\nGuideline for Question paper:- qwew\\n\\nDocument Content:- saxda'"
      ]
     },
     "execution_count": 16,
     "metadata": {},
     "output_type": "execute_result"
    }
   ],
   "source": [
    "df_prompt['File Data'].values[0].format(**{'Document_content':\"saxda\",\"Mock Paper\":\"qwew\"})"
   ]
  },
  {
   "cell_type": "markdown",
   "metadata": {},
   "source": [
    "<section class=\"text-center\">\n",
    "    <div class=\"container\">\n",
    "        <h2>Discover More</h2>\n",
    "        <p>Join us to unlock a world of possibilities with our amazing applications.</p>\n",
    "        <div class=\"row justify-content-center\">\n",
    "            <div class=\"col-md-4\">\n",
    "                <div class=\"thumbnail\">\n",
    "                    <img src=\"https://encrypted-tbn0.gstatic.com/images?q=tbn:ANd9GcQwLAPbdQIWxISrJ7V1LZjxborJu6jkwHX9rg&s\" alt=\"Sample Image 1\">\n",
    "                    <div class=\"caption\">\n",
    "                        <h3>CBSE</h3>\n",
    "                        <p>Shape your papers with our advanced tools.</p>\n",
    "                        <a href=\"{% url 'app1:index' %}\" class=\"btn btn-primary\">Learn More</a>\n",
    "                    </div>\n",
    "                </div>\n",
    "            </div>\n",
    "            <div class=\"col-md-4\">\n",
    "                <div class=\"thumbnail\">\n",
    "                    <img src=\"https://encrypted-tbn0.gstatic.com/images?q=tbn:ANd9GcSyM6xuf70xrHxgRnmmstCpw3b7MYaL_1UpOg&s\" alt=\"Sample Image 2\">\n",
    "                    <div class=\"caption\">\n",
    "                        <h3>ICSE</h3>\n",
    "                        <p>Manage your tasks efficiently.</p>\n",
    "                        <a href=\"{% url 'app2:index' %}\" class=\"btn btn-primary\">Learn More</a>\n",
    "                    </div>\n",
    "                </div>\n",
    "            </div>\n",
    "            <div class=\"col-md-4\">\n",
    "                <div class=\"thumbnail\">\n",
    "                    <img src=\"https://encrypted-tbn0.gstatic.com/images?q=tbn:ANd9GcRherVSU6tD8GCvdH54e6Kt6Zi53WlyhqECzA&s\" alt=\"Sample Image 3\">\n",
    "                    <div class=\"caption\">\n",
    "                        <h3>UPSC</h3>\n",
    "                        <p>Explore new features and stay ahead.</p>\n",
    "                        <a href=\"{% url 'app3:index' %}\" class=\"btn btn-primary\">Learn More</a>\n",
    "                    </div>\n",
    "                </div>\n",
    "            </div>\n",
    "        </div>\n",
    "    </div>\n",
    "</section>"
   ]
  },
  {
   "cell_type": "code",
   "execution_count": 8,
   "metadata": {},
   "outputs": [
    {
     "ename": "AttributeError",
     "evalue": "'Series' object has no attribute 'value'",
     "output_type": "error",
     "traceback": [
      "\u001b[0;31m---------------------------------------------------------------------------\u001b[0m",
      "\u001b[0;31mAttributeError\u001b[0m                            Traceback (most recent call last)",
      "\u001b[0;32m/var/folders/49/bq0650554_g3rqq1llsnzdv40000gn/T/ipykernel_25339/3701003703.py\u001b[0m in \u001b[0;36m?\u001b[0;34m()\u001b[0m\n\u001b[1;32m      2\u001b[0m         \u001b[0;34m(\u001b[0m\u001b[0mdf\u001b[0m\u001b[0;34m[\u001b[0m\u001b[0;34m'Parent Folder'\u001b[0m\u001b[0;34m]\u001b[0m \u001b[0;34m==\u001b[0m \u001b[0;34m'Class 10th'\u001b[0m\u001b[0;34m)\u001b[0m \u001b[0;34m&\u001b[0m\u001b[0;34m\u001b[0m\u001b[0;34m\u001b[0m\u001b[0m\n\u001b[1;32m      3\u001b[0m         \u001b[0;34m(\u001b[0m\u001b[0mdf\u001b[0m\u001b[0;34m[\u001b[0m\u001b[0;34m'Sub Folder'\u001b[0m\u001b[0;34m]\u001b[0m \u001b[0;34m==\u001b[0m \u001b[0;34m\"Science\"\u001b[0m\u001b[0;34m)\u001b[0m \u001b[0;34m&\u001b[0m\u001b[0;34m\u001b[0m\u001b[0;34m\u001b[0m\u001b[0m\n\u001b[1;32m      4\u001b[0m         \u001b[0;34m(\u001b[0m\u001b[0mdf\u001b[0m\u001b[0;34m[\u001b[0m\u001b[0;34m'File Name'\u001b[0m\u001b[0;34m]\u001b[0m \u001b[0;34m==\u001b[0m \u001b[0;34m\"Heredity and Evolution\"\u001b[0m\u001b[0;34m)\u001b[0m\u001b[0;34m\u001b[0m\u001b[0;34m\u001b[0m\u001b[0m\n\u001b[1;32m      5\u001b[0m     \u001b[0;34m]\u001b[0m\u001b[0;34m\u001b[0m\u001b[0;34m\u001b[0m\u001b[0m\n\u001b[0;32m----> 6\u001b[0;31m \u001b[0mfiltered_df\u001b[0m\u001b[0;34m[\u001b[0m\u001b[0;34m'File Data'\u001b[0m\u001b[0;34m]\u001b[0m\u001b[0;34m.\u001b[0m\u001b[0mvalue\u001b[0m\u001b[0;34m\u001b[0m\u001b[0;34m\u001b[0m\u001b[0m\n\u001b[0m",
      "\u001b[0;32m/opt/anaconda3/envs/lawdu/lib/python3.12/site-packages/pandas/core/generic.py\u001b[0m in \u001b[0;36m?\u001b[0;34m(self, name)\u001b[0m\n\u001b[1;32m   6295\u001b[0m             \u001b[0;32mand\u001b[0m \u001b[0mname\u001b[0m \u001b[0;32mnot\u001b[0m \u001b[0;32min\u001b[0m \u001b[0mself\u001b[0m\u001b[0;34m.\u001b[0m\u001b[0m_accessors\u001b[0m\u001b[0;34m\u001b[0m\u001b[0;34m\u001b[0m\u001b[0m\n\u001b[1;32m   6296\u001b[0m             \u001b[0;32mand\u001b[0m \u001b[0mself\u001b[0m\u001b[0;34m.\u001b[0m\u001b[0m_info_axis\u001b[0m\u001b[0;34m.\u001b[0m\u001b[0m_can_hold_identifiers_and_holds_name\u001b[0m\u001b[0;34m(\u001b[0m\u001b[0mname\u001b[0m\u001b[0;34m)\u001b[0m\u001b[0;34m\u001b[0m\u001b[0;34m\u001b[0m\u001b[0m\n\u001b[1;32m   6297\u001b[0m         \u001b[0;34m)\u001b[0m\u001b[0;34m:\u001b[0m\u001b[0;34m\u001b[0m\u001b[0;34m\u001b[0m\u001b[0m\n\u001b[1;32m   6298\u001b[0m             \u001b[0;32mreturn\u001b[0m \u001b[0mself\u001b[0m\u001b[0;34m[\u001b[0m\u001b[0mname\u001b[0m\u001b[0;34m]\u001b[0m\u001b[0;34m\u001b[0m\u001b[0;34m\u001b[0m\u001b[0m\n\u001b[0;32m-> 6299\u001b[0;31m         \u001b[0;32mreturn\u001b[0m \u001b[0mobject\u001b[0m\u001b[0;34m.\u001b[0m\u001b[0m__getattribute__\u001b[0m\u001b[0;34m(\u001b[0m\u001b[0mself\u001b[0m\u001b[0;34m,\u001b[0m \u001b[0mname\u001b[0m\u001b[0;34m)\u001b[0m\u001b[0;34m\u001b[0m\u001b[0;34m\u001b[0m\u001b[0m\n\u001b[0m",
      "\u001b[0;31mAttributeError\u001b[0m: 'Series' object has no attribute 'value'"
     ]
    }
   ],
   "source": [
    "filtered_df = df[\n",
    "        (df['Parent Folder'] == 'Class 10th') &\n",
    "        (df['Sub Folder'] == \"Science\") &\n",
    "        (df['File Name'] == \"Heredity and Evolution\")\n",
    "    ]\n"
   ]
  },
  {
   "cell_type": "code",
   "execution_count": 14,
   "metadata": {},
   "outputs": [
    {
     "data": {
      "text/plain": [
       "\"9\\nCHAPTER\\nLight – Reflection and\\nRefraction\\nWe see a variety of objects in the world around us. However, we are\\nunable to see anything in a dark room. On lighting up the room,\\nthings become visible. What makes things visible? During the day, the\\nsunlight helps us to see objects. An object reflects light that falls on it.\\nThis reflected light, when received by our eyes, enables us to see things.\\nWe are able to see through a transparent medium as light is transmitted\\nthrough it. There are a number of common wonderful phenomena\\nassociated with light such as image formation by mirrors, the twinkling\\nof stars, the beautiful colours of a rainbow, bending of light by a medium\\nand so on. A study of the properties of light helps us to explore them.\\nBy observing the common optical phenomena around us, we may\\nconclude that light seems to travel in straight lines. The fact that a small\\nsource of light casts a sharp shadow of an opaque object points to this\\nstraight-line path of light, usually indicated as a ray of light.\\n134 Science\\n!wonK\\not\\neroM\\nIf an opaque object on the path of light becomes very small, light has a tendency to\\nbend around it and not walk in a straight line – an effect known as the diffraction of\\nlight. Then the straight-line treatment of optics using rays fails. To explain phenomena\\nsuch as diffraction, light is thought of as a wave, the details of which you will study\\nin higher classes. Again, at the beginning of the 20th century, it became known that\\nthe wave theory of light often becomes inadequate for treatment of the interaction of\\nlight with matter, and light often behaves somewhat like a stream of particles. This\\nconfusion about the true nature of light continued for some years till a modern\\nquantum theory of light emerged in which light is neither a ‘wave’ nor a ‘particle’ –\\nthe new theory reconciles the particle properties of light with the wave nature.\\nIn this Chapter, we shall study the phenomena of reflection and\\nrefraction of light using the straight-line propagation of light. These basic\\nconcepts will help us in the study of some of the optical phenomena in\\nnature. We shall try to understand in this Chapter the reflection of light\\nby spherical mirrors and refraction of light and their application in real\\nlife situations.\\n99999.....11111 RRRRREEEEEFFFFFLLLLLEEEEECCCCCTTTTTIIIIIOOOOONNNNN OOOOOFFFFF LLLLLIIIIIGGGGGHHHHHTTTTT\\nA highly polished surface, such as a mirror, reflects most of the light\\nfalling on it. You are already familiar with the laws of reflection of light.\\n2024-25Let us recall these laws –\\n(i) The angle of incidence is equal to the angle of reflection, and\\n(ii) The incident ray, the normal to the mirror at the point of incidence\\nand the reflected ray, all lie in the same plane.\\nThese laws of reflection are applicable to all types of reflecting surfaces\\nincluding spherical surfaces. You are familiar with the formation of image\\nby a plane mirror. What are the properties of the image? Image formed\\nby a plane mirror is always virtual and erect. The size of the image is\\nequal to that of the object. The image formed is as far behind the mirror\\nas the object is in front of it. Further, the image is laterally inverted.\\nHow would the images be when the reflecting surfaces are curved? Let\\nus explore.\\nAAAAAccccctttttiiiiivvvvviiiiitttttyyyyy 99999.....11111\\nn Take a large shining spoon. Try to view your face in its curved\\nsurface.\\nn Do you get the image? Is it smaller or larger?\\nn Move the spoon slowly away from your face. Observe the image.\\nHow does it change?\\nn Reverse the spoon and repeat the Activity. How does the image\\nlook like now?\\nn Compare the characteristics of the image on the two surfaces.\\nThe curved surface of a shining spoon could be considered as a curved\\nmirror. The most commonly used type of curved mirror is the spherical\\nmirror. The reflecting surface of such mirrors can be considered to form\\na part of the surface of a sphere. Such mirrors, whose reflecting surfaces\\nare spherical, are called spherical mirrors. We shall now study about\\nspherical mirrors in some detail.\\n99999.....22222 SSSSSPPPPPHHHHHEEEEERRRRRIIIIICCCCCAAAAALLLLL MMMMMIIIIIRRRRRRRRRROOOOORRRRRSSSSS\\nThe reflecting surface of a spherical mirror may be curved inwards or\\noutwards. A spherical mirror, whose reflecting surface is curved inwards,\\nthat is, faces towards the centre of the sphere, is called a concave mirror.\\nA spherical mirror whose reflecting surface is curved outwards, is called\\na convex mirror. The schematic representation of these mirrors is shown\\nin Fig. 9.1. You may note in these diagrams that the back\\nof the mirror is shaded.\\nYou may now understand that the surface of the spoon\\ncurved inwards can be approximated to a concave mirror\\nand the surface of the spoon bulged outwards can be\\napproximated to a convex mirror.\\nBefore we move further on spherical mirrors, we need to\\nrecognise and understand the meaning of a few terms. These\\nterms are commonly used in discussions about spherical (a) Concave mirror (b) Convex mirror\\nmirrors. The centre of the reflecting surface of a spherical\\nFFFFFiiiiiggggguuuuurrrrreeeee 99999.....11111\\nmirror is a point called the pole. It lies on the surface of the Schematic representation of spherical\\nmirror. The pole is usually represented by the letter P. mirrors; the shaded side is non-reflecting.\\nLight – Reflection and Refraction 135\\n2024-25The reflecting surface of a spherical mirror forms a part of a sphere.\\nThis sphere has a centre. This point is called the centre of curvature of\\nthe spherical mirror. It is represented by the letter C. Please note that the\\ncentre of curvature is not a part of the mirror. It lies outside its reflecting\\nsurface. The centre of curvature of a concave mirror lies in front of it.\\nHowever, it lies behind the mirror in case of a convex mirror. You may\\nnote this in Fig.9.2 (a) and (b). The radius of the sphere of which the\\nreflecting surface of a spherical mirror forms a part, is called the radius\\nof curvature of the mirror. It is represented by the letter R. You may note\\nthat the distance PC is equal to the radius of curvature. Imagine a straight\\nline passing through the pole and the centre of curvature of a spherical\\nmirror. This line is called the principal axis. Remember that principal\\naxis is normal to the mirror at its pole. Let us understand an important\\nterm related to mirrors, through an Activity.\\nAAAAAccccctttttiiiiivvvvviiiiitttttyyyyy 99999.....22222\\nCAUTION: Do not look at the Sun directly or even into a mirror\\nreflecting sunlight. It may damage your eyes.\\nn Hold a concave mirror in your hand and direct its reflecting surface\\ntowards the Sun.\\nn Direct the light reflected by the mirror on to a sheet of paper held\\nclose to the mirror.\\nn Move the sheet of paper back and forth gradually until you find\\non the paper sheet a bright, sharp spot of light.\\nn Hold the mirror and the paper in the same position for a few\\nminutes. What do you observe? Why?\\nThe paper at first begins to burn producing smoke. Eventually it\\nmay even catch fire. Why does it burn? The light from the Sun is converged\\nat a point, as a sharp, bright spot by the mirror. In fact, this spot of light\\nis the image of the Sun on the sheet of paper. This point is\\nthe focus of the concave mirror. The heat produced due to\\nthe concentration of sunlight ignites the paper. The distance\\nof this image from the position of the mirror gives the\\napproximate value of focal length of the mirror.\\nLet us try to understand this observation with the help\\nof a ray diagram.\\n(a)\\nObserve Fig.9.2 (a) closely. A number of rays parallel\\nto the principal axis are falling on a concave mirror. Observe\\nthe reflected rays. They are all meeting/intersecting at a\\npoint on the principal axis of the mirror. This point is called\\nthe principal focus of the concave mirror. Similarly, observe\\nFig. 9.2 (b). How are the rays parallel to the principal axis,\\nreflected by a convex mirror? The reflected rays appear to\\ncome from a point on the principal axis. This point is called\\n(b) the principal focus of the convex mirror. The principal focus\\nis represented by the letter F. The distance between the\\nFFFFFiiiiiggggguuuuurrrrreeeee 99999.....22222\\npole and the principal focus of a spherical mirror is called\\n(a) Concave mirror\\n(b) Convex mirror the focal length. It is represented by the letter f.\\n136 Science\\n2024-25The reflecting surface of a spherical mirror is by-and-large spherical.\\nThe surface, then, has a circular outline. The diameter of the reflecting\\nsurface of spherical mirror is called its aperture. In Fig.9.2, distance MN\\nrepresents the aperture. We shall consider in our discussion only such\\nspherical mirrors whose aperture is much smaller than its radius of\\ncurvature.\\nIs there a relationship between the radius of curvature R, and focal\\nlength f, of a spherical mirror? For spherical mirrors of small apertures,\\nthe radius of curvature is found to be equal to twice the focal length. We\\nput this as R = 2f . This implies that the principal focus of a spherical\\nmirror lies midway between the pole and centre of curvature.\\n9.2.1 Image Formation by Spherical Mirrors\\nYou have studied about the image formation by plane mirrors. You also\\nknow the nature, position and relative size of the images formed by them.\\nHow about the images formed by spherical mirrors? How can we locate\\nthe image formed by a concave mirror for different positions of the object?\\nAre the images real or virtual? Are they enlarged, diminished or have\\nthe same size? We shall explore this with an Activity.\\nAAAAAccccctttttiiiiivvvvviiiiitttttyyyyy 99999.....33333\\nYou have already learnt a way of determining the focal length of a\\nconcave mirror. In Activity 9.2, you have seen that the sharp bright\\nspot of light you got on the paper is, in fact, the image of the Sun. It\\nwas a tiny, real, inverted image. You got the approximate focal length\\nof the concave mirror by measuring the distance of the image from\\nthe mirror.\\nn Take a concave mirror. Find out its approximate focal length in\\nthe way described above. Note down the value of focal length. (You\\ncan also find it out by obtaining image of a distant object on a\\nsheet of paper.)\\nn Mark a line on a Table with a chalk. Place the concave mirror on\\na stand. Place the stand over the line such that its pole lies over\\nthe line.\\nn Draw with a chalk two more lines parallel to the previous line\\nsuch that the distance between any two successive lines is equal\\nto the focal length of the mirror. These lines will now correspond\\nto the positions of the points P, F and C, respectively. Remember –\\nFor a spherical mirror of small aperture, the principal focus F lies\\nmid-way between the pole P and the centre of curvature C.\\nn Keep a bright object, say a burning candle, at a position far beyond\\nC. Place a paper screen and move it in front of the mirror till you\\nobtain a sharp bright image of the candle flame on it.\\nn Observe the image carefully. Note down its nature, position and\\nrelative size with respect to the object size.\\nn Repeat the activity by placing the candle – (a) just beyond C,\\n(b) at C, (c) between F and C, (d) at F, and (e) between P and F.\\nn In one of the cases, you may not get the image on the screen.\\nIdentify the position of the object in such a case. Then, look for its\\nvirtual image in the mirror itself.\\nn Note down and tabulate your observations.\\nLight – Reflection and Refraction 137\\n2024-25You will see in the above Activity that the nature, position and size of\\nthe image formed by a concave mirror depends on the position of the\\nobject in relation to points P, F and C. The image formed is real for some\\npositions of the object. It is found to be a virtual image for a certain other\\nposition. The image is either magnified, reduced or has the same size,\\ndepending on the position of the object. A summary of these observations\\nis given for your reference in Table 9.1.\\nTable 9.1 Image formation by a concave mirror for different positions of the object\\nPosition of the Position of the Size of the Nature of the\\nobject image image image\\nAt infinity At the focus F Highly diminished, Real and inverted\\npoint-sized\\nBeyond C Between F and C Diminished Real and inverted\\nAt C At C Same size Real and inverted\\nBetween C and F Beyond C Enlarged Real and inverted\\nAt F At infinity Highly enlarged Real and inverted\\nBetween P and F Behind the mirror Enlarged Virtual and erect\\n9.2.2 Representation of Images Formed by Spherical\\nMirrors Using Ray Diagrams\\nWe can also study the formation of images by spherical mirrors by\\ndrawing ray diagrams. Consider an extended object, of finite size, placed\\nin front of a spherical mirror. Each small portion of the extended object\\nacts like a point source. An infinite number of rays originate from each\\nof these points. To construct the ray diagrams, in order to locate the\\nimage of an object, an arbitrarily large number of rays emanating from a\\npoint could be considered. However, it is more convenient to consider\\nonly two rays, for the sake of clarity of the ray diagram. These rays are\\nso chosen that it is easy to know their directions after reflection from the\\nmirror.\\nThe intersection of at least two reflected rays give the position of image\\nof the point object. Any two of the following rays can be considered for\\nlocating the image.\\n(i) A ray parallel to the principal\\naxis, after reflection, will pass\\nthrough the principal focus\\nin case of a concave mirror\\nor appear to diverge from\\nthe principal focus in\\ncase of a convex mirror.\\nThis is illustrated in Fig.9.3\\n(a) (b)\\n(a) and (b).\\nFFFFFiiiiiggggguuuuurrrrreeeee 99999.....33333\\n138 Science\\n2024-25(ii) A ray passing through the\\nprincipal focus of a concave\\nmirror or a ray which is\\ndirected towards the\\nprincipal focus of a convex\\nmirror, after reflection, will\\nemerge parallel to the\\nprincipal axis. This is\\nillustrated in Fig.9.4 (a)\\nand (b). (a) (b)\\nFFFFFiiiiiggggguuuuurrrrreeeee 99999.....44444\\n(iii) A ray passing through the\\ncentre of curvature of a\\nconcave mirror or directed\\nin the direction of the centre\\nof curvature of a convex\\nmirror, after reflection, is\\nreflected back along the\\nsame path. This is\\nillustrated in Fig.9.5 (a) and\\n(b). The light rays come back\\n(a) (b)\\nalong the same path\\nFFFFFiiiiiggggguuuuurrrrreeeee 99999.....55555\\nbecause the incident rays\\nfall on the mirror along the\\nnormal to the reflecting\\nsurface.\\n(iv) A ray incident obliquely to\\nthe principal axis, towards\\na point P (pole of the mirror),\\non the concave mirror\\n[Fig. 9.6 (a)] or a convex\\nmirror [Fig. 9.6 (b)], is\\nreflected obliquely. The\\nincident and reflected rays\\nfollow the laws of reflection\\n(a) (b)\\nat the point of incidence\\n(point P), making equal FFFFFiiiiiggggguuuuurrrrreeeee 99999.....66666\\nangles with the principal axis.\\nRemember that in all the above cases the laws of reflection are followed.\\nAt the point of incidence, the incident ray is reflected in such a way that\\nthe angle of reflection equals the angle of incidence.\\n(a) Image formation by Concave Mirror\\nFigure 9.7 illustrates the ray diagrams for the formation of image\\nby a concave mirror for various positions of the object.\\nLight – Reflection and Refraction 139\\n2024-25FFFFFiiiiiggggguuuuurrrrreeeee 99999.....77777 Ray diagrams for the image formation by a concave mirror\\nAAAAAccccctttttiiiiivvvvviiiiitttttyyyyy 99999.....44444\\nn Draw neat ray diagrams for each position of the object shown in\\nTable 9.1.\\nn You may take any two of the rays mentioned in the previous section\\nfor locating the image.\\nn Compare your diagram with those given in Fig. 9.7.\\nn Describe the nature, position and relative size of the image formed\\nin each case.\\nn Tabulate the results in a convenient format.\\nUses of concave mirrors\\nConcave mirrors are commonly used in torches, search-lights and\\nvehicles headlights to get powerful parallel beams of light. They are\\noften used as shaving mirrors to see a larger image of the face. The\\ndentists use concave mirrors to see large images of the teeth of patients.\\nLarge concave mirrors are used to concentrate sunlight to produce\\nheat in solar furnaces.\\n(b) Image formation by a Convex Mirror\\nWe studied the image formation by a concave mirror. Now we shall\\nstudy the formation of image by a convex mirror.\\n140 Science\\n2024-25AAAAAccccctttttiiiiivvvvviiiiitttttyyyyy 99999.....55555\\nn Take a convex mirror. Hold it in one hand.\\nn Hold a pencil in the upright position in the other hand.\\nn Observe the image of the pencil in the mirror. Is the image erect or\\ninverted? Is it diminished or enlarged?\\nn Move the pencil away from the mirror slowly. Does the image\\nbecome smaller or larger?\\nn Repeat this Activity carefully. State whether the image will move\\ncloser to or farther away from the focus as the object is moved\\naway from the mirror?\\nWe consider two positions of the object for studying the image formed\\nby a convex mirror. First is when the object is at infinity and the second\\nposition is when the object is at a finite distance from the mirror. The ray\\ndiagrams for the formation of image by a convex mirror for these two\\npositions of the object are shown in Fig.9.8 (a) and (b), respectively. The\\nresults are summarised in Table 9.2.\\nFFFFFiiiiiggggguuuuurrrrreeeee 99999.....88888 Formation of image by a convex mirror\\nTable 9.2 Nature, position and relative size of the image formed by a convex mirror\\nPosition of the Position of the Size of the Nature of the\\nobject image image image\\nAt infinity At the focus F, Highly diminished, Virtual and erect\\nbehind the mirror point-sized\\nBetween infinity Between P and F, Diminished Virtual and erect\\nand the pole P of behind the mirror\\nthe mirror\\nYou have so far studied the image formation by a plane mirror, a\\nconcave mirror and a convex mirror. Which of these mirrors will give the\\nfull image of a large object? Let us explore through an Activity.\\nAAAAAccccctttttiiiiivvvvviiiiitttttyyyyy 99999.....66666\\nn Observe the image of a distant object, say a distant tree, in a\\nplane mirror.\\nn Could you see a full-length image?\\nLight – Reflection and Refraction 141\\n2024-25n Try with plane mirrors of different sizes. Did you see the entire\\nobject in the image?\\nn Repeat this Activity with a concave mirror. Did the mirror show\\nfull length image of the object?\\nn Now try using a convex mirror. Did you succeed? Explain your\\nobservations with reason.\\nYou can see a full-length image of a tall building/tree in a small\\nconvex mirror. One such mirror is fitted in a wall of Agra Fort facing Taj\\nMahal. If you visit the Agra Fort, try to observe the full image of Taj\\nMahal. To view distinctly, you should stand suitably at the terrace\\nadjoining the wall.\\nUses of convex mirrors\\nConvex mirrors are commonly used as rear-view (wing) mirrors in\\nvehicles. These mirrors are fitted on the sides of the vehicle, enabling the\\ndriver to see traffic behind him/her to facilitate safe driving. Convex\\nmirrors are preferred because they always give an erect, though\\ndiminished, image. Also, they have a wider field of view as they are curved\\noutwards. Thus, convex mirrors enable the driver to view much larger\\narea than would be possible with a plane mirror.\\nQ U E S T I O N S\\n?\\n1. Define the principal focus of a concave mirror.\\n2. The radius of curvature of a spherical mirror is 20 cm. What is its focal\\nlength?\\n3. Name a mirror that can give an erect and enlarged image of an object.\\n4. Why do we prefer a convex mirror as a rear-view mirror in vehicles?\\n9.2.3 Sign Convention for Reflection by Spherical Mirrors\\nWhile dealing with the reflection of light by spherical mirrors, we shall\\nfollow a set of sign conventions called the New Cartesian Sign\\nConvention. In this convention, the pole (P) of the mirror is taken as the\\norigin (Fig. 9.9). The principal axis of the mirror is taken as the x-axis\\n(X’X) of the coordinate system. The conventions are as follows –\\n(i) The object is always placed to the left of the mirror. This implies\\nthat the light from the object falls on the mirror from the left-hand\\nside.\\n(ii) All distances parallel to the principal axis are measured from the\\npole of the mirror.\\n(iii) All the distances measured to the right of the origin (along\\n+ x-axis) are taken as positive while those measured to the left of\\nthe origin (along – x-axis) are taken as negative.\\n(iv) Distances measured perpendicular to and above the principal axis\\n(along + y-axis) are taken as positive.\\n(v) Distances measured perpendicular to and below the principal axis\\n(along –y-axis) are taken as negative.\\n142 Science\\n2024-25The New Cartesian Sign Convention described above is illustrated in\\nFig.9.9 for your reference. These sign conventions are applied to obtain\\nthe mirror formula and solve related numerical problems.\\n9.2.4 Mirror Formula and Magnification\\nIn a spherical mirror, the distance of the\\nobject from its pole is called the object\\ndistance (u). The distance of the image from\\nthe pole of the mirror is called the image\\ndistance (v). You already know that the\\ndistance of the principal focus from the pole\\nis called the focal length (f). There is a\\nrelationship between these three quantities\\ngiven by the mirror formula which is\\nexpressed as\\n1 1 1\\n+ = (9.1)\\nv u f\\nThis formula is valid in all situations for all\\nspherical mirrors for all positions of the\\nobject. You must use the New Cartesian Sign FFFFFiiiiiggggguuuuurrrrreeeee 99999.....99999\\nThe New Cartesian Sign Convention for spherical mirrors\\nConvention while substituting numerical\\nvalues for u, v, f, and R in the mirror formula\\nfor solving problems.\\nMagnification\\nMagnification produced by a spherical mirror gives the relative extent to\\nwhich the image of an object is magnified with respect to the object size.\\nIt is expressed as the ratio of the height of the image to the height of the\\nobject. It is usually represented by the letter m.\\nIf h is the height of the object and h′ is the height of the image, then\\nthe magnification m produced by a spherical mirror is given by\\nHeight of the image (h′)\\nm =\\nHeight of the object (h)\\nh′\\nm = (9.2)\\nh\\nThe magnification m is also related to the object distance (u) and\\nimage distance (v). It can be expressed as:\\nh′ v\\nMagnification (m) = = − (9.3)\\nh u\\nYou may note that the height of the object is taken to be positive as\\nthe object is usually placed above the principal axis. The height of the\\nimage should be taken as positive for virtual images. However, it is to be\\ntaken as negative for real images. A negative sign in the value of the\\nmagnification indicates that the image is real. A positive sign in the value\\nof the magnification indicates that the image is virtual.\\nLight – Reflection and Refraction 143\\n2024-25Example 9.1\\nA convex mirror used for rear-view on an automobile has a radius of\\ncurvature of 3.00 m. If a bus is located at 5.00 m from this mirror,\\nfind the position, nature and size of the image.\\nSolution\\nRadius of curvature,R =+ 3.00 m;\\nObject-distance, u =– 5.00 m;\\nImage-distance, v =?\\nHeight of the image, h′=?\\n3.00m\\nFocal length, f = R/2 = + = + 1.50 m (as the principal focus of\\n2\\na convex mirror is behind the mirror)\\n1 1 1\\nSince + =\\nv u f\\n1 1 1 1 1 1 1\\nor, = − = + – = +\\nv f u 1.50 (−5.00) 1.50 5.00\\n5.00+1.50\\n=\\n7.50\\n+7.50\\nv = = + 1.15 m\\n6.50\\nThe image is 1.15 m at the back of the mirror.\\nh' v 1.15m\\nMagnification, m = = − = –\\nh u −5.00m\\n= + 0.23\\nThe image is virtual, erect and smaller in size by a factor of 0.23.\\nExample 9.2\\nAn object, 4.0 cm in size, is placed at 25.0 cm in front of a concave\\nmirror of focal length 15.0 cm. At what distance from the mirror\\nshould a screen be placed in order to obtain a sharp image? Find\\nthe nature and the size of the image.\\nSolution\\nObject-size, h = + 4.0 cm;\\nObject-distance, u = – 25.0 cm;\\nFocal length, f = –15.0 cm;\\nImage-distance, v = ?\\nImage-size, h′ = ?\\nFrom Eq. (10.1):\\n1 1 1\\n+ =\\nv u f\\n1 1 1 1 1 1 1\\nor, = − = − = − +\\nv f u −15.0 −25.0 15.0 25.0\\n144 Science\\n2024-251 −5.0+3.0 −2.0\\nor, = = or, v = – 37.5 cm\\nv 75.0 75.0\\nThe screen should be placed at 37.5 cm in front of the mirror. The\\nimage is real.\\nh' v\\nAlso, magnification, m = = −\\nh u\\nvh (−37.5cm) (+4.0cm)\\nor, h′ = – = −\\nu (−25.0cm)\\nHeight of the image, h′ = – 6.0 cm\\nThe image is inverted and enlarged.\\nQ U E S T I O N S\\n?\\n1. Find the focal length of a convex mirror whose radius of curvature is\\n32 cm.\\n2. A concave mirror produces three times magnified (enlarged) real image\\nof an object placed at 10 cm in front of it. Where is the image located?\\n99999.....33333 RRRRREEEEEFFFFFRRRRRAAAAACCCCCTTTTTIIIIIOOOOONNNNN OOOOOFFFFF LLLLLIIIIIGGGGGHHHHHTTTTT\\nLight seems to travel along straight-line paths in a transparent medium.\\nWhat happens when light enters from one transparent medium to\\nanother? Does it still move along a straight-line path or change its\\ndirection? We shall recall some of our day-to-day experiences.\\nYou might have observed that the bottom of a tank or a pond\\ncontaining water appears to be raised. Similarly, when a thick glass slab\\nis placed over some printed matter, the letters appear raised when viewed\\nthrough the glass slab. Why does it happen? Have you seen a pencil\\npartly immersed in water in a glass tumbler? It appears to be displaced\\nat the interface of air and water. You might have observed that a lemon\\nkept in water in a glass tumbler appears to be bigger than its actual\\nsize, when viewed from the sides. How can you account for such\\nexperiences?\\nLet us consider the case of the apparent displacement of a pencil,\\npartly immersed in water. The light reaching you from the portion of the\\npencil inside water seems to come from a different direction, compared\\nto the part above water. This makes the pencil appear to be displaced at\\nthe interface. For similar reasons, the letters appear to be raised, when\\nseen through a glass slab placed over it.\\nDoes a pencil appear to be displaced to the same extent, if instead of\\nwater, we use liquids like kerosene or turpentine? Will the letters appear\\nto rise to the same height if we replace a glass slab with a transparent\\nplastic slab? You will find that the extent of the effect is different for\\ndifferent pair of media. These observations indicate that light does not\\nLight – Reflection and Refraction 145\\n2024-25travel in the same direction in all media. It appears that when travelling\\nobliquely from one medium to another, the direction of propagation of\\nlight in the second medium changes. This phenomenon is known as\\nrefraction of light. Let us understand this phenomenon further by doing\\na few activities.\\nAAAAAccccctttttiiiiivvvvviiiiitttttyyyyy 99999.....77777\\nn Place a coin at the bottom of a bucket filled with water.\\nn With your eye to a side above water, try to pick up the coin in one\\ngo. Did you succeed in picking up the coin?\\nn Repeat the Activity. Why did you not succeed in doing it in one go?\\nn Ask your friends to do this. Compare your experience with theirs.\\nAAAAAccccctttttiiiiivvvvviiiiitttttyyyyy 99999.....88888\\nn Place a large shallow bowl on a Table and put a coin in it.\\nn Move away slowly from the bowl. Stop when the coin just\\ndisappears from your sight.\\nn Ask a friend to pour water gently into the bowl without disturbing\\nthe coin.\\nn Keep looking for the coin from your position. Does the coin becomes\\nvisible again from your position? How could this happen?\\nThe coin becomes visible again on pouring water into the bowl. The\\ncoin appears slightly raised above its actual position due to refraction of\\nlight.\\nAAAAAccccctttttiiiiivvvvviiiiitttttyyyyy 99999.....99999\\nn Draw a thick straight line in ink, over a sheet of white paper placed\\non a Table.\\nn Place a glass slab over the line in such a way that one of its edges\\nmakes an angle with the line.\\nn Look at the portion of the line under the slab from the sides. What\\ndo you observe? Does the line under the glass slab appear to be\\nbent at the edges?\\nn Next, place the glass slab such that it is normal to the line. What\\ndo you observe now? Does the part of the line under the glass slab\\nappear bent?\\nn Look at the line from the top of the glass slab. Does the part of the\\nline, beneath the slab, appear to be raised? Why does this happen?\\n9.3.1 Refraction through a Rectangular Glass Slab\\nTo understand the phenomenon of refraction of light through a glass\\nslab, let us do an Activity.\\n146 Science\\n2024-25AAAAAccccctttttiiiiivvvvviiiiitttttyyyyy 99999.....1111100000\\nn Fix a sheet of white paper on a drawing board using drawing pins.\\nn Place a rectangular glass slab over the sheet in the middle.\\nn Draw the outline of the slab with a pencil. Let us name the outline\\nas ABCD.\\nn Take four identical pins.\\nn Fix two pins, say E and F, vertically such that the line joining the\\npins is inclined to the edge AB.\\nn Look for the images of the pins E and F through the opposite edge.\\nFix two other pins, say G and H, such that these pins and the\\nimages of E and F lie on a straight line.\\nn Remove the pins and the slab.\\nn Join the positions of tip of the pins E and F and produce the line\\nup to AB. Let EF meet AB at O. Similarly, join the positions of tip\\nof the pins G and H and produce it up to the edge CD. Let HG\\nmeet CD at O′.\\nn Join O and O′. Also produce EF up to P, as shown by a dotted line\\nin Fig. 9.10.\\nIn this Activity, you will note, the light ray has changed its direction\\nat points O and O′. Note that both the points O and O′ lie on surfaces\\nseparating two transparent media. Draw a perpendicular NN’ to AB at O\\nand another perpendicular MM′ to CD at O′. The light ray at point O has\\nentered from a rarer medium to a denser medium, that is, from air to\\nglass. Note that the light ray has bent towards\\nthe normal. At O′, the light ray has entered\\nfrom glass to air, that is, from a denser\\nmedium to a rarer medium. The light here\\nhas bent away from the normal. Compare the\\nangle of incidence with the angle of refraction\\nat both refracting surfaces AB and CD.\\nIn Fig. 9.10, a ray EO is obliquely\\nincident on surface AB, called incident ray.\\nOO′ is the refracted ray and O′ H is the\\nemergent ray. You may observe that the\\nemergent ray is parallel to the direction of\\nthe incident ray. Why does it happen so? The\\nextent of bending of the ray of light at the\\nopposite parallel faces AB (air-glass interface)\\nand CD (glass-air interface) of the rectangular\\nglass slab is equal and opposite. This is why\\nthe ray emerges parallel to the incident ray.\\nHowever, the light ray is shifted sideward FFFFFiiiiiggggguuuuurrrrreeeee 99999.....1111100000\\nslightly. What happens when a light ray is Refraction of light through a rectangular glass slab\\nincident normally to the interface of two\\nmedia? Try and find out.\\nNow you are familiar with the refraction of light. Refraction is due to\\nchange in the speed of light as it enters from one transparent medium to\\nanother. Experiments show that refraction of light occurs according to\\ncertain laws.\\nLight – Reflection and Refraction 147\\n2024-25The following are the laws of refraction of light.\\n(i) The incident ray, the refracted ray and the normal to the interface\\nof two transparent media at the point of incidence, all lie in the\\nsame plane.\\n(ii) The ratio of sine of angle of incidence to the sine of angle of\\nrefraction is a constant, for the light of a given colour and for\\nthe given pair of media. This law is also known as Snell’s law of\\nrefraction. (This is true for angle 0 < i < 90o)\\nIf i is the angle of incidence and r is the angle of refraction, then,\\nsini\\n= constant (9.4)\\nsinr\\nThis constant value is called the refractive index of the second medium\\nwith respect to the first. Let us study about refractive index in some detail.\\n9.3.2 The Refractive Index\\nYou have already studied that a ray of light that travels obliquely from\\none transparent medium into another will change its direction in the\\nsecond medium. The extent of the change in direction that takes place\\nin a given pair of media may be expressed in terms of the refractive index,\\nthe “constant” appearing on the right-hand side of Eq.(9.4).\\nThe refractive index can be linked to an important physical quantity,\\nthe relative speed of propagation of light in different media. It turns\\nout that light propagates with different speeds in different media. Light\\ntravels fastest in vacuum with speed of 3×108 m s–1. In air, the speed of\\nlight is only marginally less, compared to that in vacuum. It reduces\\nconsiderably in glass or water. The value of the refractive index for a\\ngiven pair of media depends upon the speed of light in the two media, as\\ngiven below.\\nConsider a ray of light travelling from medium 1 into medium 2, as\\nshown in Fig.9.11. Let v be the speed of light in medium 1 and v be the\\n1 2\\nspeed of light in medium 2. The refractive index of medium 2 with respect\\nto medium 1 is given by the ratio of the speed of light in medium 1 and\\nthe speed of light in medium 2. This is usually represented by the symbol\\nn . This can be expressed in an equation form as\\n21\\nSpeed of light in medium 1 v\\nn = = 1 (9.5)\\n21 Speed of light in medium 2 v\\n2\\nBy the same argument, the refractive index of medium\\n1 with respect to medium 2 is represented as n .It is given\\n12\\nby\\nSpeed of light in medium 2 v\\nn = = 2 (9.6)\\nFFFFFiiiiiggggguuuuurrrrreeeee 99999.....1111111111 12 Speed of light in medium 1 v\\n1\\nIf medium 1 is vacuum or air, then the refractive index of medium 2\\nis considered with respect to vacuum. This is called the absolute refractive\\nindex of the medium. It is simply represented as n . If c is the speed of\\n2\\n148 Science\\n2024-25light in air and v is the speed of light in the medium, then, the refractive\\nindex of the medium n is given by\\nm\\nSpeed of light in air c\\nn = = (9.7)\\nm Speed of light in the medium v\\nThe absolute refractive index of a medium is simply called its refractive\\nindex. The refractive index of several media is given in Table 9.3. From\\nthe Table you can know that the refractive index of water, n = 1.33.\\nw\\nThis means that the ratio of the speed of light in air and the speed of\\nlight in water is equal to 1.33. Similarly, the refractive index of crown\\nglass, n =1.52. Such data are helpful in many places. However, you\\ng\\nneed not memorise the data.\\nTable 9.3 Absolute refractive index of some material media\\nMaterial Refractive Material Refractive\\nmedium index medium index\\nAir 1.0003 Canada 1.53\\nBalsam\\nIce 1.31\\nWater 1.33 Rock salt 1.54\\nAlcohol 1.36\\nKerosene 1.44 Carbon 1.63\\ndisulphide\\nFused 1.46\\nquartz Dense 1.65\\nflint glass\\nTurpentine 1.47\\noil Ruby 1.71\\nBenzene 1.50\\nSapphire 1.77\\nCrown 1.52\\nglass Diamond 2.42\\nNote from Table 9.3 that an optically denser medium may not possess\\ngreater mass density. For example, kerosene having higher refractive\\nindex, is optically denser than water, although its mass density is less\\nthan water.\\nThe ability of a medium to refract light is also expressed in terms of its optical density.\\nOptical density has a definite connotation. It is not the same as mass density. We have\\nbeen using the terms ‘rarer medium’ and ‘denser medium’ in this Chapter. It actually\\nmeans ‘optically rarer medium’ and ‘optically denser medium’, respectively. When can\\nwe say that a medium is optically denser than the other? In comparing two media, the\\none with the larger refractive index is optically denser medium than the other. The other\\nmedium of lower refractive index is optically rarer. The speed of light is higher in a rarer\\nmedium than a denser medium. Thus, a ray of light travelling from a rarer medium to a\\ndenser medium slows down and bends towards the normal. When it travels from a\\ndenser medium to a rarer medium, it speeds up and bends away from the normal.\\nLight – Reflection and Refraction 149\\n!wonK\\not\\neroM\\n2024-25Q U E S T I O N S\\n1. A ray of light travelling in air enters obliquely into water. Does the light\\nray bend towards the normal or away from the normal? Why?\\n?\\n2. Light enters from air to glass having refractive index 1.50. What is the\\nspeed of light in the glass? The speed of light in vacuum is 3 × 108 m s–1.\\n3. Find out, from Table 9.3, the medium having highest optical density.\\nAlso find the medium with lowest optical density.\\n4. You are given kerosene, turpentine and water. In which of these does\\nthe light travel fastest? Use the information given in Table 9.3.\\n5. The refractive index of diamond is 2.42. What is the meaning of this\\nstatement?\\n9.3.3 Refraction by Spherical Lenses\\nYou might have seen watchmakers using a small magnifying glass to\\nsee tiny parts. Have you ever touched the surface of a magnifying glass\\nwith your hand? Is it plane surface or curved? Is it thicker in the middle\\nor at the edges? The glasses used in spectacles and that by a watchmaker\\nare examples of lenses. What is a lens? How does it bend light rays? We\\nshall discuss these in this section.\\nA transparent material bound by two surfaces, of which one or both\\nsurfaces are spherical, forms a lens. This means\\nthat a lens is bound by at least one spherical\\nsurface. In such lenses, the other surface would\\nbe plane. A lens may have two spherical\\nsurfaces, bulging outwards. Such a lens is called\\na double convex lens. It is simply called a convex\\nlens. It is thicker at the middle as compared to\\nthe edges. Convex lens converges light rays as\\nshown in Fig. 9.12 (a). Hence convex lenses are\\n(a)\\nalso called converging lenses. Similarly, a double\\nconcave lens is bounded by two spherical\\nsurfaces, curved inwards. It is thicker at the\\nedges than at the middle. Such lenses diverge\\nlight rays as shown in Fig. 9.12 (b). Such lenses\\nare also called diverging lenses. A double concave\\nlens is simply called a concave lens.\\nA lens, either a convex lens or a concave lens,\\n(b) has two spherical surfaces. Each of these surfaces\\nforms a part of a sphere. The centres of these\\nFFFFFiiiiiggggguuuuurrrrreeeee 99999.....1111122222\\nspheres are called centres of curvature of the lens.\\n(a) Converging action of a convex lens, (b) diverging\\naction of a concave lens The centre of curvature of a lens is usually\\nrepresented by the letter C. Since there are two\\ncentres of curvature, we may represent them as C and C . An imaginary\\n1 2\\nstraight line passing through the two centres of curvature of a lens is\\ncalled its principal axis. The central point of a lens is its optical centre. It is\\n150 Science\\n2024-25usually represented by the letter O. A ray of light through the optical\\ncentre of a lens passes without suffering any deviation. The effective\\ndiameter of the circular outline of a spherical lens is called its aperture.\\nWe shall confine our discussion in this Chapter to such lenses whose\\naperture is much less than its radius of curvature and the two centres of\\ncurvatures are equidistant from the optical centre O. Such lenses are\\ncalled thin lenses with small apertures. What happens when parallel rays\\nof light are incident on a lens? Let us do an Activity to understand this.\\nAAAAAccccctttttiiiiivvvvviiiiitttttyyyyy 99999.....1111111111\\nCAUTION: Do not look at the Sun directly or through a lens while\\ndoing this Activity or otherwise. You may damage your eyes if you\\ndo so.\\nn Hold a convex lens in your hand. Direct it towards the Sun.\\nn Focus the light from the Sun on a sheet of paper. Obtain a sharp\\nbright image of the Sun.\\nn Hold the paper and the lens in the same position for a while. Keep\\nobserving the paper. What happened? Why? Recall your experience\\nin Activity 9.2.\\nThe paper begins to burn producing smoke. It may even catch fire\\nafter a while. Why does this happen? The light from the Sun constitutes\\nparallel rays of light. These rays were converged by the lens at the sharp\\nbright spot formed on the paper. In fact, the bright spot you got on the\\npaper is a real image of the Sun. The concentration of the sunlight at a\\npoint generated heat. This caused the paper to burn.\\nNow, we shall consider rays of light parallel to the principal axis of a\\nlens. What happens when you pass such rays of light through a lens?\\nThis is illustrated for a convex lens in Fig.9.12 (a) and for a concave lens\\nin Fig.9.12 (b).\\nObserve Fig.9.12 (a) carefully. Several rays of light parallel to the\\nprincipal axis are falling on a convex lens. These rays, after refraction\\nfrom the lens, are converging to a point on the principal axis. This point\\non the principal axis is called the principal focus of the lens. Let us see\\nnow the action of a concave lens.\\nObserve Fig.9.12 (b) carefully. Several rays of light parallel to the\\nprincipal axis are falling on a concave lens. These rays, after refraction\\nfrom the lens, are appearing to diverge from a point on the principal\\naxis. This point on the principal axis is called the principal focus of the\\nconcave lens.\\nIf you pass parallel rays from the opposite surface of the lens, you\\nget another principal focus on the opposite side. Letter F is usually used\\nto represent principal focus. However, a lens has two principal foci. They\\nare represented by F and F . The distance of the principal focus from\\n1 2\\nthe optical centre of a lens is called its focal length. The letter f is used to\\nrepresent the focal length. How can you find the focal length of a convex\\nlens? Recall the Activity 9.11. In this Activity, the distance between the\\nposition of the lens and the position of the image of the Sun gives the\\napproximate focal length of the lens.\\nLight – Reflection and Refraction 151\\n2024-259.3.4 Image Formation by Lenses\\nLenses form images by refracting light. How do lenses form images?\\nWhat is their nature? Let us study this for a convex lens first.\\nAAAAAccccctttttiiiiivvvvviiiiitttttyyyyy 99999.....1111122222\\nn Take a convex lens. Find its approximate focal length in a way\\ndescribed in Activity 9.11.\\nn Draw five parallel straight lines, using chalk, on a long Table such\\nthat the distance between the successive lines is equal to the\\nfocal length of the lens.\\nn Place the lens on a lens stand. Place it on the central line such\\nthat the optical centre of the lens lies just over the line.\\nn The two lines on either side of the lens correspond to F and 2F of\\nthe lens respectively. Mark them with appropriate letters such as\\n2F , F , F and 2F , respectively.\\n1 1 2 2\\nn Place a burning candle, far beyond 2F to the left. Obtain a clear\\n1\\nsharp image on a screen on the opposite side of the lens.\\nn Note down the nature, position and relative size of the image.\\nn Repeat this Activity by placing object just behind 2F , between F\\n1 1\\nand 2F at F , between F and O. Note down and tabulate your\\n1 1 1\\nobservations.\\nThe nature, position and relative size of the image formed by convex\\nlens for various positions of the object is summarised in Table 9.4.\\nTable 9.4 Nature, position and relative size of the image formed by a convex lens for various\\npositions of the object\\nPosition of the Position of Relative size of Nature of\\nobject the image the image the image\\nAt infinity At focus F Highly diminished, Real and inverted\\n2\\npoint-sized\\nBeyond 2F Between F and 2F Diminished Real and inverted\\n1 2 2\\nAt 2F At 2F Same size Real and inverted\\n1 2\\nBetween F and 2F Beyond 2F Enlarged Real and inverted\\n1 1 2\\nAt focus F At infinity Infinitely large or Real and inverted\\n1\\nhighly enlarged\\nBetween focus F On the same side Enlarged Virtual and erect\\n1\\nand of the lens as the\\noptical centre O object\\nLet us now do an Activity to study the nature, position and relative\\nsize of the image formed by a concave lens.\\n152 Science\\n2024-25AAAAAccccctttttiiiiivvvvviiiiitttttyyyyy 99999.....1111133333\\nn Take a concave lens. Place it on a lens stand.\\nn Place a burning candle on one side of the lens.\\nn Look through the lens from the other side and observe the image.\\nTry to get the image on a screen, if possible. If not, observe the\\nimage directly through the lens.\\nn Note down the nature, relative size and approximate position of\\nthe image.\\nn Move the candle away from the lens. Note the change in the size\\nof the image. What happens to the size of the image when the\\ncandle is placed too far away from the lens.\\nThe summary of the above Activity is given in Table 9.5 below.\\nTable 9.5 Nature, position and relative size of the image formed by a concave lens for various\\npositions of the object\\nPosition of the Position of Relative size of Nature of\\nobject the image the image the image\\nAt infinity At focus F Highly diminished, Virtual and erect\\n1\\npoint-sized\\nBetween infinity and Between focus F Diminished Virtual and erect\\n1\\noptical centre O and optical centre O\\nof the lens\\nWhat conclusion can you draw from this Activity? A concave lens\\nwill always give a virtual, erect and diminished image, irrespective of the\\nposition of the object.\\n9.3.5 Image Formation in Lenses Using Ray Diagrams\\nWe can represent image formation by lenses using ray diagrams. Ray\\ndiagrams will also help us to study the nature, position and relative size\\nof the image formed by lenses. For drawing ray diagrams in lenses, alike\\nof spherical mirrors, we consider any two of the following rays –\\n(i) A ray of light from the object, parallel to the principal axis, after\\nrefraction from a convex lens, passes through the principal focus\\non the other side of the lens, as shown in Fig. 9.13 (a). In case of\\na concave lens,\\nthe ray appears\\nto diverge from\\nthe principal\\nfocus located\\non the same\\nside of the lens,\\nas shown in\\n(a) (b)\\nFig. 9.13 (b).\\nFFFFFiiiiiggggguuuuurrrrreeeee 99999.....1111133333\\nLight – Reflection and Refraction 153\\n2024-25(ii) A ray of light passing\\nthrough a principal\\nfocus, after refraction\\nfrom a convex lens, will\\nemerge parallel to the\\nprincipal axis. This is\\nshown in Fig. 9.14 (a). A\\nray of light appearing to\\n(a) (b)\\nmeet at the principal\\nFFFFFiiiiiggggguuuuurrrrreeeee 99999.....1111144444 focus of a concave lens,\\nafter refraction, will\\nemerge parallel to the\\nprincipal axis. This is\\nshown in Fig.9.14 (b).\\n(iii) A ray of light passing\\nthrough the optical\\ncentre of a lens will\\nemerge without any\\ndeviation. This is\\n(a) (b) illustrated in Fig.9.15(a)\\nFFFFFiiiiiggggguuuuurrrrreeeee 99999.....1111155555 and Fig.9.15 (b).\\nThe ray diagrams for the image formation in a convex lens for a few\\npositions of the object are shown in Fig. 9.16. The ray diagrams\\nrepresenting the image formation in a concave lens for various positions\\nof the object are shown in Fig. 9.17.\\n154 Science\\n2024-25FFFFFiiiiiggggguuuuurrrrreeeee 99999.....1111166666 The position, size and the nature of the image formed by\\na convex lens for various positions of the object\\nFFFFFiiiiiggggguuuuurrrrreeeee 99999.....1111177777 Nature, position and relative size of the image formed by a concave lens\\n9.3.6 Sign Convention for Spherical Lenses\\nFor lenses, we follow sign convention, similar to the one used for spherical\\nmirrors. We apply the rules for signs of distances, except that all\\nmeasurements are taken from the optical centre of the lens. According\\nto the convention, the focal length of a convex lens is positive and that of\\na concave lens is negative. You must take care to apply appropriate\\nsigns for the values of u, v, f, object height h and image height h′.\\n9.3.7 Lens Formula and Magnification\\nAs we have a formula for spherical mirrors, we also have formula for\\nspherical lenses. This formula gives the relationship between object-\\ndistance (u), image-distance (v) and the focal length (f). The lens formula\\nis expressed as\\n1 1 1\\n− = (9.8)\\nv u f\\nThe lens formula given above is general and is valid in all situations\\nfor any spherical lens. Take proper care of the signs of different quantities,\\nwhile putting numerical values for solving problems relating to lenses.\\nLight – Reflection and Refraction 155\\n2024-25Magnification\\nThe magnification produced by a lens, similar to that for spherical\\nmirrors, is defined as the ratio of the height of the image and the height\\nof the object. Magnification is represented by the letter m. If h is the\\nheight of the object and h′ is the height of the image given by a lens, then\\nthe magnification produced by the lens is given by,\\nHeight of the Image h′\\nm = = (9.9)\\nHeight of the object h\\nMagnification produced by a lens is also related to the object-distance\\nu, and the image-distance v. This relationship is given by\\nMagnification (m ) = h′/h = v/u (9.10)\\nExample 9.3\\nA concave lens has focal length of 15 cm. At what distance should\\nthe object from the lens be placed so that it forms an image at 10 cm\\nfrom the lens? Also, find the magnification produced by the lens.\\nSolution\\nA concave lens always forms a virtual, erect image on the same side\\nof the object.\\nImage-distance v = –10 cm;\\nFocal length f = –15 cm;\\nObject-distance u = ?\\n1 1 1\\nSince − =\\nv u f\\n1 1 1\\nor, = –\\nu v f\\n1 1 1 1 1\\n= – =– +\\nu –10 (–15) 10 15\\n1 −3+2 1\\n= =\\nu 30 −30\\nor, u = – 30 cm\\nThus, the object-distance is 30 cm.\\nMagnification m = v/u\\n−10cm 1\\nm = = ;+0.33\\n−30cm 3\\nThe positive sign shows that the image is erect and virtual. The image\\nis one-third of the size of the object.\\nExample 9.4\\nA 2.0 cm tall object is placed perpendicular to the principal axis of a\\nconvex lens of focal length 10 cm. The distance of the object from the\\nlens is 15 cm. Find the nature, position and size of the image. Also\\nfind its magnification.\\n156 Science\\n2024-25Solution\\nHeight of the object h = + 2.0 cm;\\nFocal length f = + 10 cm;\\nobject-distance u = –15 cm;\\nImage-distance v = ?\\nHeight of the image h′ = ?\\n1 1 1\\nSince − =\\nv u f\\n1 1 1\\nor, = +\\nv u f\\n1 1 1 1 1\\n= + =− +\\nv (−15) 10 15 10\\n1 −2+3 1\\n= =\\nv 30 30\\nor, v = + 30 cm\\nThe positive sign of v shows that the image is formed at a distance of\\n30 cm on the other side of the optical centre. The image is real and\\ninverted.\\nh' v\\nMagnification m = =\\nh u\\nor, h′ = h (v/u)\\nHeight of the image, h′ = (2.0) (+30/–15) = – 4.0 cm\\nMagnification m = v/u\\n+30cm\\nor, m= =−2\\n−15cm\\nThe negative signs of m and h′ show that the image is inverted and\\nreal. It is formed below the principal axis. Thus, a real, inverted image,\\n4 cm tall, is formed at a distance of 30 cm on the other side of the\\nlens. The image is two times enlarged.\\n9.3.8 Power of a Lens\\nYou have already learnt that the ability of a lens to converge or diverge\\nlight rays depends on its focal length. For example, a convex lens of\\nshort focal length bends the light rays through large angles, by focussing\\nthem closer to the optical centre. Similarly, concave lens of very short\\nfocal length causes higher divergence than the one with longer focal\\nlength. The degree of convergence or divergence of light rays achieved\\nby a lens is expressed in terms of its power. The power of a lens is defined\\nas the reciprocal of its focal length. It is represented by the letter P. The\\npower P of a lens of focal length f is given by\\n1\\nP = (9.11)\\nf\\nLight – Reflection and Refraction 157\\n2024-25The SI unit of power of a lens is ‘dioptre’. It is denoted by the letter D.\\nIf f is expressed in metres, then, power is expressed in dioptres. Thus,\\n1 dioptre is the power of a lens whose focal length is 1 metre. 1D = 1m–1.\\nYou may note that the power of a convex lens is positive and that of a\\nconcave lens is negative.\\nOpticians prescribe corrective lenses indicating their powers. Let us\\nsay the lens prescribed has power equal to + 2.0 D. This means the lens\\nprescribed is convex. The focal length of the lens is + 0.50 m. Similarly,\\na lens of power – 2.5 D has a focal length of – 0.40 m. The lens is concave.\\nMany optical instruments consist of a number of lenses. They are combined to increase\\nthe magnification and sharpness of the image. The net power (P) of the lenses placed\\nin contact is given by the algebraic sum of the individual powers P , P , P , … as\\n1 2 3\\nP = P + P + P + …\\n1 2 3\\nThe use of powers, instead of focal lengths, for lenses is quite convenient for opticians.\\nDuring eye-testing, an optician puts several different combinations of corrective lenses\\nof known power, in contact, inside the testing spectacles’ frame. The optician calculates\\nthe power of the lens required by simple algebraic addition. For example, a combination\\nof two lenses of power + 2.0 D and + 0.25 D is equivalent to a single lens of power + 2.25 D.\\nThe simple additive property of the powers of lenses can be used to design lens systems\\nto minimise certain defects in images produced by a single lens. Such a lens system,\\nconsisting of several lenses, in contact, is commonly used in the design of lenses of\\ncamera, microscopes and telescopes.\\nQ U E S T I O N S\\n?\\n1. Define 1 dioptre of power of a lens.\\n2. A convex lens forms a real and inverted image of a needle at a distance\\nof 50 cm from it. Where is the needle placed in front of the convex lens\\nif the image is equal to the size of the object? Also, find the power of the\\nlens.\\n3. Find the power of a concave lens of focal length 2 m.\\nWhat you have learnt\\nn Light seems to travel in straight lines.\\nn Mirrors and lenses form images of objects. Images can be either real or virtual,\\ndepending on the position of the object.\\nn The reflecting surfaces, of all types, obey the laws of reflection. The refracting\\nsurfaces obey the laws of refraction.\\nn New Cartesian Sign Conventions are followed for spherical mirrors and lenses.\\n158 Science\\n!wonK\\not\\neroM\\n2024-251 1 1\\nn Mirror formula, + = , gives the relationship between the object-distance (u),\\nv u f\\nimage-distance (v), and focal length (f) of a spherical mirror.\\nn The focal length of a spherical mirror is equal to half its radius of curvature.\\nn The magnification produced by a spherical mirror is the ratio of the height of the\\nimage to the height of the object.\\nn A light ray travelling obliquely from a denser medium to a rarer medium bends\\naway from the normal. A light ray bends towards the normal when it travels obliquely\\nfrom a rarer to a denser medium.\\nn Light travels in vacuum with an enormous speed of 3×108 m s-1. The speed of light\\nis different in different media.\\nn The refractive index of a transparent medium is the ratio of the speed of light in\\nvacuum to that in the medium.\\nn In case of a rectangular glass slab, the refraction takes place at both air-glass\\ninterface and glass-air interface. The emergent ray is parallel to the direction of\\nincident ray.\\n1 1 1\\nn Lens formula, – = , gives the relationship between the object-distance (u),\\nv u f\\nimage-distance (v), and the focal length (f) of a spherical lens.\\nn Power of a lens is the reciprocal of its focal length. The SI unit of power of a lens is\\ndioptre.\\nE X E R C I S E S\\n1. Which one of the following materials cannot be used to make a lens?\\n(a) Water (b) Glass (c) Plastic (d) Clay\\n2. The image formed by a concave mirror is observed to be virtual, erect and larger\\nthan the object. Where should be the position of the object?\\n(a) Between the principal focus and the centre of curvature\\n(b) At the centre of curvature\\n(c) Beyond the centre of curvature\\n(d) Between the pole of the mirror and its principal focus.\\n3. Where should an object be placed in front of a convex lens to get a real image of the\\nsize of the object?\\n(a) At the principal focus of the lens\\n(b) At twice the focal length\\n(c) At infinity\\n(d) Between the optical centre of the lens and its principal focus.\\n4. A spherical mirror and a thin spherical lens have each a focal length of –15 cm. The\\nmirror and the lens are likely to be\\n(a) both concave.\\n(b) both convex.\\nLight – Reflection and Refraction 159\\n2024-25(c) the mirror is concave and the lens is convex.\\n(d) the mirror is convex, but the lens is concave.\\n5. No matter how far you stand from a mirror, your image appears erect. The mirror\\nis likely to be\\n(a) only plane.\\n(b) only concave.\\n(c) only convex.\\n(d) either plane or convex.\\n6. Which of the following lenses would you prefer to use while reading small letters\\nfound in a dictionary?\\n(a) A convex lens of focal length 50 cm.\\n(b) A concave lens of focal length 50 cm.\\n(c) A convex lens of focal length 5 cm.\\n(d) A concave lens of focal length 5 cm.\\n7. We wish to obtain an erect image of an object, using a concave mirror of focal\\nlength 15 cm. What should be the range of distance of the object from the mirror?\\nWhat is the nature of the image? Is the image larger or smaller than the object?\\nDraw a ray diagram to show the image formation in this case.\\n8. Name the type of mirror used in the following situations.\\n(a) Headlights of a car.\\n(b) Side/rear-view mirror of a vehicle.\\n(c) Solar furnace.\\nSupport your answer with reason.\\n9. One-half of a convex lens is covered with a black paper. Will this lens produce a\\ncomplete image of the object? Verify your answer experimentally. Explain your\\nobservations.\\n10. An object 5 cm in length is held 25 cm away from a converging lens of focal length\\n10 cm. Draw the ray diagram and find the position, size and the nature of the\\nimage formed.\\n11. A concave lens of focal length 15 cm forms an image 10 cm from the lens. How far\\nis the object placed from the lens? Draw the ray diagram.\\n12. An object is placed at a distance of 10 cm from a convex mirror of focal length\\n15 cm. Find the position and nature of the image.\\n13. The magnification produced by a plane mirror is +1. What does this mean?\\n14. An object 5.0 cm in length is placed at a distance of 20 cm in front of a convex\\nmirror of radius of curvature 30 cm. Find the position of the image, its nature\\nand size.\\n15. An object of size 7.0 cm is placed at 27 cm in front of a concave mirror of focal\\nlength 18 cm. At what distance from the mirror should a screen be placed, so that\\na sharp focussed image can be obtained? Find the size and the nature of the image.\\n16. Find the focal length of a lens of power – 2.0 D. What type of lens is this?\\n17. A doctor has prescribed a corrective lens of power +1.5 D. Find the focal length of\\nthe lens. Is the prescribed lens diverging or converging?\\n160 Science\\n2024-25\""
      ]
     },
     "execution_count": 14,
     "metadata": {},
     "output_type": "execute_result"
    }
   ],
   "source": [
    "filtered_df['File Data'].tolist()[0]"
   ]
  },
  {
   "cell_type": "code",
   "execution_count": null,
   "metadata": {},
   "outputs": [],
   "source": []
  }
 ],
 "metadata": {
  "kernelspec": {
   "display_name": "lawdu",
   "language": "python",
   "name": "python3"
  },
  "language_info": {
   "codemirror_mode": {
    "name": "ipython",
    "version": 3
   },
   "file_extension": ".py",
   "mimetype": "text/x-python",
   "name": "python",
   "nbconvert_exporter": "python",
   "pygments_lexer": "ipython3",
   "version": "3.12.4"
  }
 },
 "nbformat": 4,
 "nbformat_minor": 2
}
