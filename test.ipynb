{
 "cells": [
  {
   "cell_type": "code",
   "execution_count": 7,
   "metadata": {},
   "outputs": [
    {
     "name": "stdout",
     "output_type": "stream",
     "text": [
      "Fast language models have become increasingly important in various applications and industries in recent years. Here are some reasons why:\n",
      "\n",
      "1. **Real-time processing**: Fast language models enable real-time processing of natural language data, which is crucial in applications that require immediate processing, such as chatbots, virtual assistants, and real-time sentiment analysis.\n",
      "2. **Scalability**: As the volume of natural language data continues to grow, fast language models can handle large datasets quickly and efficiently, making them ideal for applications that require processing vast amounts of text data.\n",
      "3. **Improved user experience**: Fast language models can provide instant responses to user queries, improving the overall user experience in applications such as language translation, text summarization, and question answering.\n",
      "4. **Enhanced decision-making**: By providing faster and more accurate insights from natural language data, fast language models can inform business decisions and optimize operations, leading to increased competitiveness and productivity.\n",
      "5. **Advancements in AI research**: The ability to train and process large language models quickly has accelerated AI research, enabling scientists to experiment with new architectures, techniques, and applications, ultimately driving progress in the field.\n",
      "6. **Competitive edge**: Companies that leverage fast language models can gain a competitive edge by providing faster, more accurate, and more personalized services to their customers, leading to increased customer satisfaction and loyalty.\n",
      "7. **Applications in emerging technologies**: Fast language models are essential for emerging technologies like natural language processing, machine learning, and deep learning, which are transforming industries and revolutionizing the way we interact with technology.\n",
      "8. **Improved automation**: Fast language models can automate tasks, freeing up human resources for more high-value tasks, such as creative work, strategy development, and problem-solving.\n",
      "9. **Enhanced accessibility**: Fast language models can make language processing and translation more accessible to people with disabilities, non-native speakers, and individuals who require assistance with language tasks.\n",
      "10. **Future-proofing**: As data continues to grow and become increasingly complex, fast language models will be essential for processing and analyzing large datasets, enabling businesses and organizations to stay ahead of the curve and adapt to changing consumer needs.\n",
      "\n",
      "Some of the key applications of fast language models include:\n",
      "\n",
      "1. Chatbots and virtual assistants\n",
      "2. Language translation and localization\n",
      "3. Text summarization and summarization\n",
      "4. Sentiment analysis and opinion mining\n",
      "5. Question answering and knowledge base construction\n",
      "6. Machine translation and localization\n",
      "7. Language generation and content creation\n",
      "8. Natural language processing and understanding\n",
      "9. Information retrieval and information extraction\n",
      "10. Automated language understanding and generation.\n",
      "\n",
      "In summary, fast language models are essential for a wide range of applications, enabling real-time processing, scalability, improved user experience, and enhanced decision-making, ultimately driving progress in AI research, business competitiveness, and emerging technologies.\n"
     ]
    }
   ],
   "source": [
    "\n",
    "from groq import Groq\n",
    "\n",
    "client = Groq(\n",
    "        api_key=\"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\",\n",
    ")\n",
    "\n",
    "chat_completion = client.chat.completions.create(\n",
    "    messages=[\n",
    "        {\n",
    "            \"role\": \"user\",\n",
    "            \"content\": \"Explain the importance of fast language models\",\n",
    "        }\n",
    "    ],\n",
    "    model=\"llama3-8b-8192\",\n",
    ")\n",
    "\n",
    "#print(chat_completion.choices[0].message.content)"
   ]
  },
  {
   "cell_type": "code",
   "execution_count": 8,
   "metadata": {},
   "outputs": [
    {
     "ename": "FileNotFoundError",
     "evalue": "[Errno 2] No such file or directory: 'k_genai/myproject/myapp/static/myapp/9/science/iesc101.pdf'",
     "output_type": "error",
     "traceback": [
      "\u001b[1;31m---------------------------------------------------------------------------\u001b[0m",
      "\u001b[1;31mFileNotFoundError\u001b[0m                         Traceback (most recent call last)",
      "Cell \u001b[1;32mIn[8], line 4\u001b[0m\n\u001b[0;32m      1\u001b[0m \u001b[38;5;28;01mimport\u001b[39;00m \u001b[38;5;21;01mPyPDF2\u001b[39;00m\n\u001b[0;32m      3\u001b[0m \u001b[38;5;66;03m# Open the PDF file in read-binary mode\u001b[39;00m\n\u001b[1;32m----> 4\u001b[0m \u001b[38;5;28;01mwith\u001b[39;00m \u001b[38;5;28;43mopen\u001b[39;49m\u001b[43m(\u001b[49m\u001b[38;5;124;43m'\u001b[39;49m\u001b[38;5;124;43mk_genai/myproject/myapp/static/myapp/9/science/iesc101.pdf\u001b[39;49m\u001b[38;5;124;43m'\u001b[39;49m\u001b[43m,\u001b[49m\u001b[43m \u001b[49m\u001b[38;5;124;43m'\u001b[39;49m\u001b[38;5;124;43mrb\u001b[39;49m\u001b[38;5;124;43m'\u001b[39;49m\u001b[43m)\u001b[49m \u001b[38;5;28;01mas\u001b[39;00m file:\n\u001b[0;32m      5\u001b[0m     \u001b[38;5;66;03m# Create a PDF reader object\u001b[39;00m\n\u001b[0;32m      6\u001b[0m     pdf_reader \u001b[38;5;241m=\u001b[39m PyPDF2\u001b[38;5;241m.\u001b[39mPdfReader(file)\n\u001b[0;32m      8\u001b[0m     \u001b[38;5;66;03m# Get the total number of pages\u001b[39;00m\n",
      "File \u001b[1;32mc:\\Code\\myenv\\Lib\\site-packages\\IPython\\core\\interactiveshell.py:324\u001b[0m, in \u001b[0;36m_modified_open\u001b[1;34m(file, *args, **kwargs)\u001b[0m\n\u001b[0;32m    317\u001b[0m \u001b[38;5;28;01mif\u001b[39;00m file \u001b[38;5;129;01min\u001b[39;00m {\u001b[38;5;241m0\u001b[39m, \u001b[38;5;241m1\u001b[39m, \u001b[38;5;241m2\u001b[39m}:\n\u001b[0;32m    318\u001b[0m     \u001b[38;5;28;01mraise\u001b[39;00m \u001b[38;5;167;01mValueError\u001b[39;00m(\n\u001b[0;32m    319\u001b[0m         \u001b[38;5;124mf\u001b[39m\u001b[38;5;124m\"\u001b[39m\u001b[38;5;124mIPython won\u001b[39m\u001b[38;5;124m'\u001b[39m\u001b[38;5;124mt let you open fd=\u001b[39m\u001b[38;5;132;01m{\u001b[39;00mfile\u001b[38;5;132;01m}\u001b[39;00m\u001b[38;5;124m by default \u001b[39m\u001b[38;5;124m\"\u001b[39m\n\u001b[0;32m    320\u001b[0m         \u001b[38;5;124m\"\u001b[39m\u001b[38;5;124mas it is likely to crash IPython. If you know what you are doing, \u001b[39m\u001b[38;5;124m\"\u001b[39m\n\u001b[0;32m    321\u001b[0m         \u001b[38;5;124m\"\u001b[39m\u001b[38;5;124myou can use builtins\u001b[39m\u001b[38;5;124m'\u001b[39m\u001b[38;5;124m open.\u001b[39m\u001b[38;5;124m\"\u001b[39m\n\u001b[0;32m    322\u001b[0m     )\n\u001b[1;32m--> 324\u001b[0m \u001b[38;5;28;01mreturn\u001b[39;00m \u001b[43mio_open\u001b[49m\u001b[43m(\u001b[49m\u001b[43mfile\u001b[49m\u001b[43m,\u001b[49m\u001b[43m \u001b[49m\u001b[38;5;241;43m*\u001b[39;49m\u001b[43margs\u001b[49m\u001b[43m,\u001b[49m\u001b[43m \u001b[49m\u001b[38;5;241;43m*\u001b[39;49m\u001b[38;5;241;43m*\u001b[39;49m\u001b[43mkwargs\u001b[49m\u001b[43m)\u001b[49m\n",
      "\u001b[1;31mFileNotFoundError\u001b[0m: [Errno 2] No such file or directory: 'k_genai/myproject/myapp/static/myapp/9/science/iesc101.pdf'"
     ]
    }
   ],
   "source": [
    "\n",
    "import PyPDF2\n",
    "\n",
    "# Open the PDF file in read-binary mode\n",
    "with open('k_genai/myproject/myapp/static/myapp/9/science/iesc101.pdf', 'rb') as file:\n",
    "    # Create a PDF reader object\n",
    "    pdf_reader = PyPDF2.PdfReader(file)\n",
    "    \n",
    "    # Get the total number of pages\n",
    "    num_pages = len(pdf_reader.pages)\n",
    "    \n",
    "    # Extract text from all pages\n",
    "    all_text = \"\"\n",
    "    for page_num in range(num_pages):\n",
    "        page = pdf_reader.pages[page_num]\n",
    "        all_text += page.extract_text()\n",
    "    \n",
    "    #print(all_text)\n"
   ]
  },
  {
   "cell_type": "code",
   "execution_count": 5,
   "metadata": {},
   "outputs": [
    {
     "data": {
      "text/plain": [
       "29711"
      ]
     },
     "execution_count": 5,
     "metadata": {},
     "output_type": "execute_result"
    }
   ],
   "source": [
    "len(all_text)"
   ]
  },
  {
   "cell_type": "code",
   "execution_count": null,
   "metadata": {},
   "outputs": [],
   "source": [
    "import pdfplumber\n",
    "\n",
    "# Open the PDF file\n",
    "with pdfplumber.open('k_genai/myproject/myapp/static/myapp/9/science/iesc101.pdf') as pdf:\n",
    "    all_text = \"\"\n",
    "    for page in pdf.pages:\n",
    "        all_text += page.extract_text()\n",
    "    \n",
    "    #print(all_text)\n"
   ]
  },
  {
   "cell_type": "code",
   "execution_count": 7,
   "metadata": {},
   "outputs": [
    {
     "data": {
      "text/plain": [
       "29403"
      ]
     },
     "execution_count": 7,
     "metadata": {},
     "output_type": "execute_result"
    }
   ],
   "source": [
    "len(all_text)"
   ]
  },
  {
   "cell_type": "code",
   "execution_count": 8,
   "metadata": {},
   "outputs": [
    {
     "data": {
      "text/plain": [
       "826"
      ]
     },
     "execution_count": 8,
     "metadata": {},
     "output_type": "execute_result"
    }
   ],
   "source": [
    "# Open the file in read mode\n",
    "with open('C:/yash_folder/k_genai/myproject/myapp/static/myapp/9/science/chapter1.txt', 'r') as file:\n",
    "    # Read all lines into a list\n",
    "    lines = file.readlines()\n",
    "\n",
    "# #print the list of lines\n",
    "len(lines)\n"
   ]
  },
  {
   "cell_type": "code",
   "execution_count": 11,
   "metadata": {},
   "outputs": [
    {
     "data": {
      "text/plain": [
       "'As we look at our surroundings, we see a large\\n variety of things with different shapes, sizes\\n and textures. Everything in this universe is\\n made up of material which scientists have\\n named “matter”. The air we breathe, the food\\n we eat, stones, clouds, stars, plants and\\n animals, even a small drop of water or a\\n particle of sand — every thing is matter. We\\n can also see as we look around that all the\\n things mentioned above occupy space and\\n have mass. In other words, they have both\\n mass* and volume**.\\n Since early times, human beings have\\n been trying to understand their surroundings.\\n Early Indian philosophers classified matter in\\n the form of five basic elements — the “Panch\\n Tatva” — air, earth, fire, sky and water.\\n According to them everything, living or nonliving,\\n was made up of these five basic\\n elements. Ancient Greek philosophers had\\n arrived at a similar classification of matter.\\n Modern day scientists have evolved two\\n types of classification of matter based on their\\n physical properties and chemical nature.\\n In this chapter we shall learn about\\n matter based on its physical properties.\\n Chemical aspects of matter will be taken up\\n in subsequent chapters.\\n 1.1 Physical Nature of Matter\\n 1.1.1 MATTER IS MADE UP OF PARTICLES\\n For a long time, two schools of thought prevailed\\n regarding the nature of matter. One school\\n believed matter to be continuous like a block\\n of wood, whereas, the other thought that matter\\n was made up of particles like sand. Let us\\n perform an activity to decide about the nature\\n of matter — is it continuous or particulate?\\n Activity ______________ 1.1\\n • Take a 100 mL beaker.\\n • Fill half the beaker with water and\\n mark the level of water.\\n • Dissolve some salt/ sugar with the help\\n of a glass rod.\\n • Observe any change in water level.\\n • What do you think has happened to\\n the salt?\\n • Where does it disappear?\\n • Does the level of water change?\\n In order to answer these questions we\\n need to use the idea that matter is made up\\n of particles. What was there in the spoon, salt\\n or sugar, has now spread throughout water.\\n This is illustrated in Fig. 1.1.\\n 1.1.2 HOW SMALL ARE THESE PARTICLES\\n OF MATTER?\\n Activity ______________ 1.2\\n • Take 2–3 crystals of potassium\\n permanganate and dissolve them in\\n 100 mL of water.\\n Fig. 1.1: When we dissolve salt in water, the particles\\n of salt get into the spaces between particles\\n of water.\\n * The SI unit of mass is kilogram (kg).\\n ** The SI unit of volume is cubic metre (m3). The common unit of measuring volume is\\n litre (L) such that 1L = 1 dm3, 1L = 1000 mL, 1 mL = 1 cm3.\\n 1\\n MATTER IN OUR SURROUNDINGS\\n Chapter\\n 2024-25\\n 2 SCIENCE\\n • Take out approximately 10 mL of this\\n solution and put it into 90 mL of clear\\n water.\\n • Take out 10 mL of this solution and\\n put it into another 90 mL of clear water.\\n • Keep diluting the solution like this 5 to\\n 8 times.\\n • Is the water still coloured ?\\n 1.2.2 PARTICLES OF MATTER ARE\\n CONTINUOUSLY MOVING\\n Activity 1.3\\n • Put an unlit incense stick in a corner\\n of your class. How close do you have to\\n go near it so as to get its smell?\\n • Now light the incense stick. What\\n happens? Do you get the smell sitting\\n at a distance?\\n • Record your observations.\\n Activity 1.4\\n • Take two glasses/beakers filled with\\n water.\\n • Put a drop of blue or red ink slowly\\n and carefully along the sides of the first\\n beaker and honey in the same way in\\n the second beaker.\\n • Leave them undisturbed in your house\\n or in a corner of the class.\\n • Record your observations.\\n • What do you observe immediately after\\n adding the ink drop?\\n • What do you observe immediately after\\n adding a drop of honey?\\n • How many hours or days does it take\\n for the colour of ink to spread evenly\\n throughout the water?\\n Activity 1.5\\n • Drop a crystal of copper sulphate or\\n potassium permanganate into a glass\\n of hot water and another containing\\n cold water. Do not stir the solution.\\n Allow the crystals to settle at the\\n bottom.\\n • What do you observe just above the\\n solid crystal in the glass?\\n • What happens as time passes?\\n • What does this suggest about the\\n particles of solid and liquid?\\n • Does the rate of mixing change with\\n temperature? Why and how?\\n From the above three activities (1.3, 1.4 and\\n 1.5), we can conclude the following:\\n Fig. 1.2: Estimating how small are the particles of\\n matter. With every dilution, though the colour\\n becomes light, it is still visible.\\n This experiment shows that just a few\\n crystals of potassium permanganate can\\n colour a large volume of water (about\\n 1000 L). So we conclude that there must be\\n millions of tiny particles in just one crystal\\n of potassium permanganate, which keep\\n on dividing themselves into smaller and\\n smaller particles.\\n The same activity can be done using 2 mL\\n of Dettol instead of potassium permanganate.\\n The smell can be detected even on\\n repeated dilution.\\n The particles of matter are very small –\\n they are small beyond our imagination!!!!\\n 1.2 Characteristics of Particles of\\n Matter\\n 1.2.1 PARTICLES OF MATTER HAVE SPACE\\n BETWEEN THEM\\n In activities 1.1 and 1.2 we saw that particles\\n of sugar, salt, Dettol, or potassium\\n permanganate got evenly distributed in water.\\n Similarly, when we make tea, coffee or\\n lemonade (nimbu paani ), particles of one type\\n of matter get into the spaces between particles\\n of the other. This shows that there is enough\\n space between particles of matter.\\n 2024-25\\n MATTER IN OUR SURROUNDINGS 3\\n • If we consider each student as a\\n particle of matter, then in which group\\n the particles held each other with the\\n maximum force?\\n Activity ______________ 1.7\\n • Take an iron nail, a piece of chalk and\\n a rubber band.\\n • Try breaking them by hammering,\\n cutting or stretching.\\n • In which of the above three\\n substances do you think the particles\\n are held together with greater force?\\n Activity ______________ 1.8\\n • Take some water in a container, try\\n cutting the surface of water with your\\n fingers.\\n • Were you able to cut the surface of\\n water?\\n • What could be the reason behind the\\n surface of water remaining together?\\n The above three activities (1.6, 1.7 and 1.8)\\n suggest that particles of matter have force\\n acting between them. This force keeps the\\n particles together. The strength of this force of\\n attraction varies from one kind of matter to\\n another.\\n uestions\\n 1. Which of the following are\\n matter?\\n Chair, air, love, smell, hate,\\n almonds, thought, cold, lemon\\n water, smell of perfume.\\n 2. Give reasons for the following\\n observation:\\n The smell of hot sizzling food\\n reaches you several metres\\n away, but to get the smell from\\n cold food you have to go close.\\n 3. A diver is able to cut through\\n water in a swimming pool. Which\\n property of matter does this\\n observation show?\\n 4. What are the characteristics of\\n the particles of matter?\\n Particles of matter are continuously\\n moving, that is, they possess what we call\\n the kinetic energy. As the temperature rises,\\n particles move faster. So, we can say that with\\n increase in temperature the kinetic energy of\\n the particles also increases.\\n In the above three activities we observe\\n that particles of matter intermix on their own\\n with each other. They do so by getting into\\n the spaces between the particles. This\\n intermixing of particles of two different types\\n of matter on their own is called diffusion. We\\n also observe that on heating, diffusion\\n becomes faster. Why does this happen?\\n 1.2.3 PARTICLES OF MATTER ATTRACT\\n EACH OTHER\\n Activity ______________ 1.6\\n • Play this game in the field— make four\\n groups and form human chains as\\n suggested:\\n • The first group should hold each\\n other from the back and lock arms\\n like Idu-Mishmi dancers (Fig. 1.3).\\n Fig. 1.3\\n • The second group should hold hands\\n to form a human chain.\\n • The third group should form a chain\\n by touching each other with only their\\n finger tips.\\n • Now, the fourth group of students\\n should run around and try to break the\\n three human chains one by one into\\n as many small groups as possible.\\n • Which group was the easiest to break?\\n Why?\\n Q\\n 2024-25\\n 4 SCIENCE\\n 1.3 States of Matter\\n Observe different types of matter around you.\\n What are its different states? We can see that\\n matter around us exists in three different\\n states– solid, liquid and gas. These states of\\n matter arise due to the variation in the\\n characteristics of the particles of matter.\\n Now, let us study about the properties of\\n these three states of matter in detail.\\n 1.3.1 THE SOLID STATE\\n Activity _____________ 1.9\\n • Collect the following articles — a pen,\\n a book, a needle and a piece of wooden\\n stick.\\n • Sketch the shape of the above articles\\n in your notebook by moving a pencil\\n around them.\\n • Do all these have a definite shape,\\n distinct boundaries and a fixed volume?\\n • What happens if they are hammered,\\n pulled or dropped?\\n • Are these capable of diffusing into each\\n other?\\n • Try compressing them by applying\\n force. Are you able to compress them?\\n All the above are examples of solids. We\\n can observe that all these have a definite\\n shape, distinct boundaries and fixed volumes,\\n that is, have negligible compressibility. Solids\\n have a tendency to maintain their shape when\\n subjected to outside force. Solids may break\\n under force but it is difficult to change their\\n shape, so they are rigid.\\n Consider the following:\\n (a) What about a rubber band, can it\\n change its shape on stretching? Is it\\n a solid?\\n (b) What about sugar and salt? When\\n kept in different jars these take the\\n shape of the jar. Are they solid?\\n (c) What about a sponge? It is a solid\\n yet we are able to compress it. Why?\\n All the above are solids as:\\n • A rubber band changes shape under\\n force and regains the same shape when\\n the force is removed. If excessive force is\\n applied, it breaks.\\n • The shape of each individual sugar or\\n salt crystal remains fixed, whether we\\n take it in our hand, put it in a plate or in\\n a jar.\\n • A sponge has minute holes, in which\\n air is trapped, when we press it, the air\\n is expelled out and we are able to\\n compress it.\\n 1.3.2 THE LIQUID STATE\\n Activity _____________1.10\\n • Collect the following:\\n (a) water, cooking oil, milk, juice, a\\n cold drink.\\n (b) containers of different shapes. Put\\n a 50 mL mark on these containers\\n using a measuring cylinder from\\n the laboratory.\\n • What will happen if these liquids are\\n spilt on the floor?\\n • Measure 50 mL of any one liquid and\\n transfer it into different containers one\\n by one. Does the volume remain the\\n same?\\n • Does the shape of the liquid remain the\\n same ?\\n • When you pour the liquid from one\\n container into another, does it flow\\n easily?\\n We observe that liquids have no fixed\\n shape but have a fixed volume. They take up\\n the shape of the container in which they are\\n kept. Liquids flow and change shape, so they\\n are not rigid but can be called fluid.\\n Refer to activities 1.4 and 1.5 where we\\n saw that solids and liquids can diffuse into\\n liquids. The gases from the atmosphere\\n diffuse and dissolve in water. These gases,\\n especially oxygen and carbon dioxide, are\\n essential for the survival of aquatic animals\\n and plants.\\n All living creatures need to breathe for\\n survival. The aquatic animals can breathe\\n under water due to the presence of dissolved\\n oxygen in water. Thus, we may conclude that\\n solids, liquids and gases can diffuse into\\n liquids. The rate of diffusion of liquids is\\n 2024-25\\n MATTER IN OUR SURROUNDINGS 5\\n higher than that of solids. This is due to the\\n fact that in the liquid state, particles move\\n freely and have greater space between each\\n other as compared to particles in the solid\\n state.\\n 1.3.3 THE GASEOUS STATE\\n Have you ever observed a balloon seller filling\\n a large number of balloons from a single\\n cylinder of gas? Enquire from him how many\\n balloons is he able to fill from one cylinder.\\n Ask him which gas does he have in the cylinder.\\n Activity _____________1.11\\n • Take three 100 mL syringes and close\\n their nozzles by rubber corks, as\\n shown in Fig.1.4.\\n • Remove the pistons from all the\\n syringes.\\n • Leaving one syringe untouched, fill\\n water in the second and pieces of chalk\\n in the third.\\n • Insert the pistons back into the\\n syringes. You may apply some vaseline\\n on the pistons before inserting them\\n into the syringes for their smooth\\n movement.\\n • Now, try to compress the content by\\n pushing the piston in each syringe.\\n We have observed that gases are highly\\n compressible as compared to solids and\\n liquids. The liquefied petroleum gas (LPG)\\n cylinder that we get in our home for cooking\\n or the oxygen supplied to hospitals in\\n cylinders is compressed gas. Compressed\\n natural gas (CNG) is used as fuel these days\\n in vehicles. Due to its high compressibility,\\n large volumes of a gas can be compressed\\n into a small cylinder and transported easily.\\n We come to know of what is being cooked\\n in the kitchen without even entering there,\\n by the smell that reaches our nostrils. How\\n does this smell reach us? The particles of the\\n aroma of food mix with the particles of air\\n spread from the kitchen, reach us and even\\n farther away. The smell of hot cooked food\\n reaches us in seconds; compare this with the\\n rate of diffusion of solids and liquids. Due to\\n high speed of particles and large space\\n between them, gases show the property of\\n diffusing very fast into other gases.\\n In the gaseous state, the particles move\\n about randomly at high speed. Due to this\\n random movement, the particles hit each\\n other and also the walls of the container. The\\n pressure exerted by the gas is because of this\\n force exerted by gas particles per unit area\\n on the walls of the container.\\n Fig. 1.4\\n • What do you observe? In which case\\n was the piston easily pushed in?\\n • What do you infer from your\\n observations?\\n Fig.1.5: a, b and c show the magnified schematic\\n pictures of the three states of matter. The\\n motion of the particles can be seen and\\n compared in the three states of matter.\\n 2024-25\\n 6 SCIENCE\\n 1.4.1 EFFECT OF CHANGE OF TEMPERATURE\\n Activity _____________1.12\\n • Take about 150 g of ice in a beaker and\\n suspend a laboratory thermometer so\\n that its bulb is in contact with the ice,\\n as in Fig. 1.6.\\n uestions\\n 1. The mass per unit volume of a\\n substance is called density.\\n (density = mass/volume).\\n Arrange the following in order of\\n increasing density – air, exhaust\\n from chimneys, honey, water,\\n chalk, cotton and iron.\\n 2. (a) Tabulate the differences in\\n the characterisitcs of states\\n of matter.\\n (b) Comment upon the following:\\n rigidity, compressibility,\\n fluidity, filling a gas\\n container, shape, kinetic\\n energy and density.\\n 3. Give reasons\\n (a) A gas fills completely the\\n vessel in which it is kept.\\n (b) A gas exerts pressure on the\\n walls of the container.\\n (c) A wooden table should be\\n called a solid.\\n (d) We can easily move our hand\\n in air but to do the same\\n through a solid block of wood\\n we need a karate expert.\\n 4. Liquids generally have lower\\n density as compared to solids.\\n But you must have observed that\\n ice floats on water. Find out why.\\n 1.4 Can Matter Change its State?\\n We all know from our observation that water\\n can exist in three states of matter–\\n • solid, as ice,\\n • liquid, as the familiar water, and\\n • gas, as water vapour.\\n What happens inside the matter during\\n this change of state? What happens to the\\n particles of matter during the change of\\n states? How does this change of state take\\n place? We need answers to these questions,\\n isn’t it?\\n Q\\n (a)\\n (b)\\n Fig. 1.6: (a) Conversion of ice to water, (b) conversion\\n of water to water vapour\\n 2024-25\\n MATTER IN OUR SURROUNDINGS 7\\n • Start heating the beaker on a low flame.\\n • Note the temperature when the ice\\n starts melting.\\n • Note the temperature when all the ice\\n has converted into water.\\n • Record your observations for this\\n conversion of solid to liquid state.\\n • Now, put a glass rod in the beaker and\\n heat while stirring till the water starts\\n boiling.\\n • Keep a careful eye on the thermometer\\n reading till most of the water has\\n vaporised.\\n • Record your observations for the\\n conversion of water in the liquid state\\n to the gaseous state.\\n On increasing the temperature of solids,\\n the kinetic energy of the particles increases.\\n Due to the increase in kinetic energy, the\\n particles start vibrating with greater speed.\\n The energy supplied by heat overcomes the\\n forces of attraction between the particles. The\\n particles leave their fixed positions and start\\n moving more freely. A stage is reached when\\n the solid melts and is converted to a liquid.\\n The minimum temperature at which a solid\\n melts to become a liquid at the atmospheric\\n pressure is called its melting point.\\n The melting point of a solid is an indication\\n of the strength of the force of attraction\\n between its particles.\\n The melting point of ice is 273.15 K*. The\\n process of melting, that is, change of solid\\n state into liquid state is also known as fusion.\\n When a solid melts, its temperature\\n remains the same, so where does the heat\\n energy go?\\n You must have observed, during the\\n experiment of melting, that the temperature\\n of the system does not change after the\\n melting point is reached, till all the ice melts.\\n This happens even though we continue to\\n heat the beaker, that is, we continue to supply\\n heat. This heat gets used up in changing the\\n state by overcoming the forces of attraction\\n between the particles. As this heat energy is\\n absorbed by ice without showing any rise in\\n temperature, it is considered that it gets\\n hidden into the contents of the beaker and is\\n known as the latent heat. The word latent\\n means hidden. The amount of heat energy\\n that is required to change 1 kg of a solid into\\n liquid at atmospheric pressure at its melting\\n point is known as the latent heat of fusion.\\n So, particles in water at 0oC (273 K) have more\\n energy as compared to particles in ice at the\\n same temperature.\\n When we supply heat energy to water,\\n particles start moving even faster. At a certain\\n temperature, a point is reached when the\\n particles have enough energy to break free\\n from the forces of attraction of each other. At\\n this temperature the liquid starts changing\\n into gas. The temperature at which a liquid\\n starts boiling at the atmospheric pressure is\\n known as its boiling point. Boiling is a bulk\\n phenomenon. Particles from the bulk of the\\n liquid gain enough energy to change into the\\n vapour state.\\n For water this temperature is 373 K\\n (100oC = 273 + 100 = 373 K).\\n Can you define the latent heat of\\n vaporisation? Do it in the same way as we\\n have defined the latent heat of fusion.\\n Particles in steam, that is, water vapour at\\n 373 K (1000 C) have more energy than water\\n at the same temperature. This is because\\n particles in steam have absorbed extra energy\\n in the form of latent heat of vaporisation.\\n *Note: Kelvin is the SI unit of temperature, 0\\n o C =273.15 K. For convenience, we take 0\\n o C = 273 K after\\n rounding off the decimal. To change a temperature on the Kelvin scale to the Celsius scale you\\n have to subtract 273 from the given temperature, and to convert a temperature on the Celsius\\n scale to the Kelvin scale you have to add 273 to the given temperature.\\n So, we infer that the state of matter can\\n be changed into another state by changing\\n the temperature.\\n We have learnt that substances around\\n us change state from solid to liquid and from\\n liquid to gas on application of heat. But there\\n 2024-25\\n 8 SCIENCE\\n enclosed in a cylinder? Will the particles come\\n closer? Do you think that increasing or\\n decreasing the pressure can change the state\\n of matter?\\n are some that change directly from solid state\\n to gaseous state and vice versa without\\n changing into the liquid state.\\n Activity _____________1.13\\n • Take some camphor. Crush it and put\\n it in a china dish.\\n • Put an inverted funnel over the china\\n dish.\\n • Put a cotton plug on the stem of the\\n funnel, as shown in Fig. 1.7.\\n * atmosphere (atm) is a unit of measuring pressure exerted by a gas. The unit of pressure is Pascal (Pa):\\n 1 atmosphere = 1.01 × 105 Pa. The pressure of air in atmosphere is called atmospheric pressure. The\\n atmospheric pressure at sea level is 1 atmosphere, and is taken as the normal atmospheric pressure.\\n Fig. 1.7: Sublimation of camphor\\n Fig. 1.8: By applying pressure, particles of matter\\n can be brought close together\\n Applying pressure and reducing\\n temperature can liquefy gases.\\n Have you heard of solid carbon dioxide\\n (CO2)? It is stored under high pressure. Solid\\n CO2 gets converted directly into gaseous state\\n on decrease of pressure to 1 atmosphere*\\n without coming into liquid state. This is the\\n reason that solid carbon dioxide is also known\\n as dry ice.\\n Thus, we can say that pressure and\\n temperature determine the state of a\\n substance, whether it will be solid, liquid\\n or gas.\\n • Now, heat slowly and observe.\\n • What do you infer from the above\\n activity?\\n A change of state directly from solid to gas\\n without changing into liquid state is called\\n sublimation and the direct change of gas to\\n solid without changing into liquid is called\\n deposition.\\n 1.4.2 EFFECT OF CHANGE OF PRESSURE\\n We have already learnt that the difference in\\n various states of matter is due to the\\n difference in the distances between the\\n constituent particles. What will happen when\\n we start putting pressure and compress a gas Fig. 1.9: Interconversion of the three states of matter\\n Deposition\\n 2024-25\\n MATTER IN OUR SURROUNDINGS 9\\n dish and keep it inside a cupboard or\\n on a shelf in your class.\\n • Record the room temperature.\\n • Record the time or days taken for the\\n evaporation process in the above cases.\\n • Repeat the above three steps of activity\\n on a rainy day and record your\\n observations.\\n • What do you infer about the effect of\\n temperature, surface area and wind\\n velocity (speed) on evaporation?\\n You must have observed that the rate of\\n evaporation increases with–\\n • an increase of surface area:\\n We know that evaporation is a surface\\n phenomenon. If the surface area is\\n increased, the rate of evaporation\\n increases. For example, while putting\\n clothes for drying up we spread them out.\\n • an increase of temperature:\\n With the increase of temperature, more\\n number of particles get enough kinetic\\n energy to go into the vapour state.\\n • a decrease in humidity:\\n Humidity is the amount of water vapour\\n present in air. The air around us cannot\\n hold more than a definite amount of\\n water vapour at a given temperature. If\\n the amount of water in air is already high,\\n the rate of evaporation decreases.\\n • an increase in wind speed:\\n It is a common observation that clothes\\n dry faster on a windy day. With the\\n increase in wind speed, the particles of\\n water vapour move away with the wind,\\n decreasing the amount of water vapour\\n in the surrounding.\\n 1.5.2 HOW DOES EVAPORATION CAUSE\\n COOLING?\\n In an open vessel, the liquid keeps on\\n evaporating. The particles of liquid absorb\\n energy from the surrounding to regain the\\n energy lost during evaporation. This\\n absorption of energy from the surroundings\\n make the surroundings cold.\\n uestions\\n 1. Convert the following temperature\\n to celsius scale:\\n a. 300 K b. 573 K\\n 2. What is the physical state of\\n water at:\\n a. 250oC b. 100oC ?\\n 3. For any substance, why does the\\n temperature remain constant\\n during the change of state?\\n 4. Suggest a method to liquefy\\n atmospheric gases.\\n 1.5 Evaporation\\n Do we always need to heat or change pressure\\n for changing the state of matter? Can you\\n quote some examples from everyday life where\\n change of state from liquid to vapour takes\\n place without the liquid reaching the boiling\\n point? Water, when left uncovered, slowly\\n changes into vapour. Wet clothes dry up. What\\n happens to water in the above two examples?\\n We know that particles of matter are\\n always moving and are never at rest. At a given\\n temperature in any gas, liquid or solid, there\\n are particles with different amounts of kinetic\\n energy. In the case of liquids, a small fraction\\n of particles at the surface, having higher\\n kinetic energy, is able to break away from the\\n forces of attraction of other particles and gets\\n converted into vapour. This phenomenon of\\n change of liquid into vapours at any\\n temperature below its boiling point is called\\n evaporation.\\n 1.5.1 FACTORS AFFECTING\\n EVAPORATION\\n Let us understand this with an activity.\\n Activity _____________1.14\\n • Take 5 mL of water in a test tube and\\n keep it near a window or under a fan.\\n • Take 5 mL of water in an open china\\n dish and keep it near a window or\\n under a fan.\\n • Take 5 mL of water in an open china\\n Q\\n 2024-25\\n 10 SCIENCE\\n What\\n you have\\n learnt\\n • Matter is made up of small particles.\\n • The matter around us exists in three states—solid, liquid\\n and gas.\\n • The forces of attraction between the particles are maximum in\\n solids, intermediate in liquids and minimum in gases.\\n • The spaces in between the constituent particles and kinetic\\n energy of the particles are minimum in the case of solids,\\n intermediate in liquids and maximum in gases.\\n What happens when you pour some\\n acetone (nail polish remover) on your palm?\\n The particles gain energy from your palm or\\n surroundings and evaporate causing the palm\\n to feel cool.\\n After a hot sunny day, people sprinkle\\n water on the roof or open ground because\\n the large latent heat of vaporisation of water\\n helps to cool the hot surface.\\n Can you cite some more examples from\\n daily life where we can feel the effect of cooling\\n due to evaporation?\\n Why should we wear cotton clothes in\\n summer?\\n During summer, we perspire more\\n because of the mechanism of our body which\\n keeps us cool. We know that during\\n evaporation, the particles at the surface of\\n the liquid gain energy from the surroundings\\n or body surface and change into vapour. The\\n heat energy equal to the latent heat of\\n vaporisation is absorbed from the body\\n leaving the body cool. Cotton, being a good\\n absorber of water helps in absorbing the\\n sweat and exposing it to the atmosphere for\\n easy evaporation.\\n Why do we see water droplets on the outer\\n surface of a glass containing ice-cold\\n water?\\n Let us take some ice-cold water in a\\n tumbler. Soon we will see water droplets on\\n the outer surface of the tumbler. The water\\n vapour present in air, on coming in contact\\n with the cold glass of water, loses energy and\\n gets converted to liquid state, which we see\\n as water droplets.\\n uestions\\n 1. Why does a desert cooler cool\\n better on a hot dry day?\\n 2. How does the water kept in an\\n earthen pot (matka) become cool\\n during summer?\\n 3. Why does our palm feel cold\\n when we put some acetone or\\n petrol or perfume on it?\\n 4. Why are we able to sip hot tea or\\n milk faster from a saucer rather\\n than a cup?\\n 5. What type of clothes should we\\n wear in summer?\\n Q\\n 2024-25\\n MATTER IN OUR SURROUNDINGS 11\\n • The arrangement of particles is most ordered in the case of\\n solids, in the case of liquids layers of particles can slip and\\n slide over each other while for gases, there is no order,\\n particles just move about randomly.\\n • The states of matter are inter-convertible. The state of matter\\n can be changed by changing temperature or pressure.\\n • Sublimation is the change of solid state directly to gaseous\\n state without going through liquid state.\\n • Deposition is the change of gaseous state directly to solid\\n state without going through liquid state.\\n • Boiling is a bulk phenomenon. Particles from the bulk\\n (whole) of the liquid change into vapour state.\\n • Evaporation is a surface phenomenon. Particles from the\\n surface gain enough energy to overcome the forces of attraction\\n present in the liquid and change into the vapour state.\\n • The rate of evaporation depends upon the surface area exposed\\n to the atmosphere, the temperature, the humidity and the\\n wind speed.\\n • Evaporation causes cooling.\\n • Latent heat of vaporisation is the heat energy required to change\\n 1 kg of a liquid to gas at atmospheric pressure at its\\n boiling point.\\n • Latent heat of fusion is the amount of heat energy required\\n to change 1 kg of solid into liquid at its melting point.\\n • Some measurable quantities and their units to remember:\\n Quantity Unit Symbol\\n Temperature kelvin K\\n Length metre m\\n Mass kilogram kg\\n Weight newton N\\n Volume cubic metre m3\\n Density kilogram per cubic metre kg m–3\\n Pressure pascal Pa\\n 2024-25\\n 12 SCIENCE\\n 1. Convert the following temperatures to the celsius scale.\\n (a) 293 K (b) 470 K\\n 2. Convert the following temperatures to the kelvin scale.\\n (a) 25o°C (b) 373o°C\\n 3. Give reason for the following observations.\\n (a) Naphthalene balls disappear with time without leaving\\n any solid.\\n (b) We can get the smell of perfume sitting several metres\\n away.\\n 4. Arrange the following substances in increasing order of forces\\n of attraction between the particles— water, sugar, oxygen.\\n 5. What is the physical state of water at—\\n (a) 25o°C (b) 0o°C (c) 100o°C ?\\n 6. Give two reasons to justify—\\n (a) water at room temperature is a liquid.\\n (b) an iron almirah is a solid at room temperature.\\n 7. Why is ice at 273 K more effective in cooling than water at the\\n same temperature?\\n 8. What produces more severe burns, boiling water or steam?\\n 9. Name A,B,C,D,E and F in the following diagram showing\\n change in its state\\n Exercises\\n 2024-25\\n MATTER IN OUR SURROUNDINGS 13\\n Group Activity\\n Prepare a model to demonstrate movement of particles in solids,\\n liquids and gases.\\n For making this model you will need\\n • A transparent jar\\n • A big rubber balloon or piece of stretchable rubber sheet\\n • A string\\n • Few chickpeas or black gram or dry green peas.\\n How to make?\\n • Put the seeds in the jar.\\n • Sew the string to the centre of the rubber sheet and put some\\n tape to keep it tied securely.\\n • Stretch and tie the rubber sheet on the mouth of the jar.\\n • Your model is ready. Now run your fingers up and down the\\n string by first tugging at it slowly and then rapidly.\\n Fig. 1.10: A model for converting of solid to liquid and liquid to gas.\\n 2024-25'"
      ]
     },
     "execution_count": 11,
     "metadata": {},
     "output_type": "execute_result"
    }
   ],
   "source": [
    "merged_string"
   ]
  },
  {
   "cell_type": "code",
   "execution_count": 10,
   "metadata": {},
   "outputs": [
    {
     "data": {
      "text/plain": [
       "30005"
      ]
     },
     "execution_count": 10,
     "metadata": {},
     "output_type": "execute_result"
    }
   ],
   "source": [
    "\n",
    "merged_string = \" \".join(lines)\n",
    "\n",
    "# #print the merged string\n",
    "len(merged_string)\n"
   ]
  },
  {
   "cell_type": "code",
   "execution_count": 3,
   "metadata": {},
   "outputs": [
    {
     "name": "stdout",
     "output_type": "stream",
     "text": [
      "['paper_shaper/myapp/static/myapp/Class 9th/Science\\\\iesc101.pdf', 'paper_shaper/myapp/static/myapp/Class 9th/Science\\\\iesc102.pdf', 'paper_shaper/myapp/static/myapp/Class 9th/Science\\\\iesc103.pdf', 'paper_shaper/myapp/static/myapp/Class 9th/Science\\\\iesc104.pdf', 'paper_shaper/myapp/static/myapp/Class 9th/Science\\\\iesc105.pdf', 'paper_shaper/myapp/static/myapp/Class 9th/Science\\\\iesc106.pdf', 'paper_shaper/myapp/static/myapp/Class 9th/Science\\\\iesc107.pdf', 'paper_shaper/myapp/static/myapp/Class 9th/Science\\\\iesc108.pdf', 'paper_shaper/myapp/static/myapp/Class 9th/Science\\\\iesc109.pdf', 'paper_shaper/myapp/static/myapp/Class 9th/Science\\\\iesc110.pdf', 'paper_shaper/myapp/static/myapp/Class 9th/Science\\\\iesc111.pdf', 'paper_shaper/myapp/static/myapp/Class 9th/Science\\\\iesc112.pdf']\n"
     ]
    }
   ],
   "source": [
    "\n",
    "# #print the list of PDF file paths\n",
    "#print(pdf_files)\n"
   ]
  },
  {
   "cell_type": "code",
   "execution_count": 6,
   "metadata": {},
   "outputs": [],
   "source": [
    "import glob\n",
    "import os\n",
    "\n",
    "# Folder path where the PDFs are stored\n",
    "folder_path = \"paper_shaper/myapp/static/myapp/Class 10th/English-First Flight\"\n",
    "\n",
    "# Get all PDF file paths in the folder\n",
    "pdf_files = glob.glob(os.path.join(folder_path, \"*.pdf\"))\n",
    "\n",
    "\n",
    "import pdfplumber\n",
    "chapters =[\"A Letter to God\",\"Nelson Mandela: Long Walk to Freedom\",\"Two Stories about Flying\",\"From the Diary of Anne Frank\",\"Glimpses of India\",\"Mijbil the Otter\",\"Madam Rides the Bus\",\"The Sermon at Benares\",\"The Proposal\"]\n",
    "\n",
    "\n",
    "for org_pdf,chapter in zip(pdf_files,chapters):\n",
    "    # Open the PDF file\n",
    "    with pdfplumber.open(org_pdf) as pdf:\n",
    "        all_text = \"\"\n",
    "        for page in pdf.pages:\n",
    "            all_text += page.extract_text()\n",
    "        \n",
    "        # #print(all_text)\n",
    "\n",
    "\n",
    "\n",
    "    # Your string variable\n",
    "\n",
    "    # Open (or create) the file in write mode\n",
    "    with open(f'paper_shaper/myapp/static/myapp/Class 10th/English-First Flight/{chapter}.txt', 'w') as file:\n",
    "        # Write the string to the file\n",
    "        file.write(all_text)\n",
    "\n",
    "    # break\n",
    "    # After this, 'output.txt' will contain the string \"This is the content I want to save in a text file.\"\n"
   ]
  },
  {
   "cell_type": "code",
   "execution_count": 6,
   "metadata": {},
   "outputs": [],
   "source": [
    "# import os\n",
    "\n",
    "# file_name = \"MATTER IN OUR SURROUNDINGS.txt\"\n",
    "# folder_path = os.path.join(\"k_genai/myproject/myapp/static/myapp/\", \"Class 9th\", \"Science\", file_name)\n",
    "\n",
    "# # #print to check the constructed path\n",
    "# #print(f\"Constructed path: {folder_path}\")\n",
    "\n",
    "# # Check if the file exists\n",
    "# if os.path.exists(folder_path):\n",
    "#     #print(\"File exists.\")\n",
    "# else:\n",
    "#     #print(f\"File not found: {folder_path}\")\n"
   ]
  },
  {
   "cell_type": "code",
   "execution_count": 10,
   "metadata": {},
   "outputs": [
    {
     "name": "stdout",
     "output_type": "stream",
     "text": [
      "Collecting fpdf\n",
      "  Downloading fpdf-1.7.2.tar.gz (39 kB)\n",
      "  Preparing metadata (setup.py): started\n",
      "  Preparing metadata (setup.py): finished with status 'done'\n",
      "Building wheels for collected packages: fpdf\n",
      "  Building wheel for fpdf (setup.py): started\n",
      "  Building wheel for fpdf (setup.py): finished with status 'done'\n",
      "  Created wheel for fpdf: filename=fpdf-1.7.2-py2.py3-none-any.whl size=40714 sha256=b451d2d282e843147e7acf1e4267cf4e1b087b1a994681238e32fa60b72ff4b9\n",
      "  Stored in directory: c:\\users\\asus\\appdata\\local\\pip\\cache\\wheels\\6e\\62\\11\\dc73d78e40a218ad52e7451f30166e94491be013a7850b5d75\n",
      "Successfully built fpdf\n",
      "Installing collected packages: fpdf\n",
      "Successfully installed fpdf-1.7.2\n"
     ]
    }
   ],
   "source": [
    "# !pip install fpdf\n"
   ]
  },
  {
   "cell_type": "code",
   "execution_count": 12,
   "metadata": {},
   "outputs": [],
   "source": [
    "from fpdf import FPDF\n"
   ]
  },
  {
   "cell_type": "code",
   "execution_count": 13,
   "metadata": {},
   "outputs": [],
   "source": [
    "pdf = FPDF()\n",
    "\n",
    "pdf.set_font(\"Arial\", size=12) \n"
   ]
  },
  {
   "cell_type": "code",
   "execution_count": 1,
   "metadata": {},
   "outputs": [],
   "source": [
    "t= \"\"\"\"Sample Question Paper \\n\\n**Section A (40 marks)**\\n\\n1. What is the\n",
    "advantage of representing data graphically? (1 mark)\\n2. What is the\n",
    "difference between a bar graph and a histogram? (2 marks)\\n3. How do\n",
    "you calculate the class-mark of a class interval? (3 marks)\\n4. A survey\n",
    "of the favourite subjects of students in a school was conducted. The\n",
    "results are as follows:\\n Subject Number of students\\n\n",
    "Mathematics 25\\n Science 30\\n English 20\\n\n",
    "Hindi 15\\n Draw a bar graph to represent this data. What\n",
    "conclusion can be drawn from this graph? (5 marks)\\n \\n5. The marks\n",
    "obtained by students in a class test are given below:\\n Marks\n",
    "Number of students\\n 0 - 10 3\\n 10 - 20 10\\n 20 - 30\n",
    "12\\n 30 - 40 15\\n 40 - 50 5\\n Draw a histogram to\n",
    "represent this data. (5 marks)\\n6. Draw a frequency polygon for the data\n",
    "given in question 5. (5 marks)\\n7. The heights of 50 plants were\n",
    "measured and the data is given below:\\n Height (in cm) Number of\n",
    "plants\\n 10 - 20 5\\n 20 - 30 10\\n 30 - 40 15\\n 40 -\n",
    "50 8\\n 50 - 60 5\\n 60 - 70 7\\n Draw a histogram to\n",
    "represent this data. (5 marks)\\n8. A company produces cars of three\n",
    "different models: A, B, and C. The production figures for these models\n",
    "for the last 5 years are given below:\\n Year Model A Model B Model\n",
    "C\\n 2018 2000 3000 2500\\n 2019 2200 3200 2800\\n\n",
    "2020 2500 3500 3000\\n 2021 2800 3800 3200\\n 2022\n",
    "3000 4000 3500\\n Draw a bar graph to represent this data and\n",
    "answer the following questions:\\n (i) Which model is produced the\n",
    "most?\\n (ii) In which year was the maximum number of cars produced?\n",
    "(5 marks)\\n \\n**Section B (30 marks)**\\n\\nChoose the correct answer\n",
    "from the options given.\\n\\n25. A histogram is the graphical\n",
    "representation of:\\n(a) Ungrouped frequency distribution\\n(b) Grouped\n",
    "frequency distribution\\n(c) Continuous frequency distribution\\n(d)\n",
    "Discrete frequency distribution\\n\\n26. The length of a class interval\n",
    "is:\\n(a) Upper limit - Lower limit\\n(b) Lower limit - Upper limit\\n(c) Upper\n",
    "limit / Lower limit\\n(d) Lower limit / Upper limit\\n\\n27. A frequency\n",
    "polygon is:\\n(a) A graphical representation of ungrouped frequency\n",
    "distribution\\n(b) A graphical representation of grouped frequency\n",
    "distribution\\n(c) A graphical representation of continuous frequency\n",
    "distribution\\n(d) A graphical representation of discrete frequency\n",
    "distribution\\n\\n28. The advantage of representing data graphically\n",
    "is:\\n(a) It saves time\\n(b) It is easy to read\\n(c) It helps to identify\n",
    "patterns and trends in the data\\n(d) All of the above\\n\\n29. A bar graph\n",
    "is used to represent:\\n(a) Continuous data\\n(b) Discrete data\\n(c)\n",
    "Categorical data\\n(d) Grouped frequency distribution\\n\\n30. The\n",
    "class-mark of a class interval is:\\n(a) Upper limit + Lower limit / 2\\n(b)\n",
    "Upper limit - Lower limit / 2\\n(c) Upper limit * Lower limit / 2\\n(d) Lower\n",
    "limit - Upper limit / 2\\n\\nNote: This sample question paper only includes\n",
    "some of the topics covered in the given text. You can add or remove\n",
    "\n",
    "\"\"\""
   ]
  },
  {
   "cell_type": "code",
   "execution_count": 2,
   "metadata": {},
   "outputs": [
    {
     "data": {
      "text/plain": [
       "'\"Sample Question Paper \\n\\n**Section A (40 marks)**\\n\\n1. What is the\\nadvantage of representing data graphically? (1 mark)\\n2. What is the\\ndifference between a bar graph and a histogram? (2 marks)\\n3. How do\\nyou calculate the class-mark of a class interval? (3 marks)\\n4. A survey\\nof the favourite subjects of students in a school was conducted. The\\nresults are as follows:\\n Subject Number of students\\n\\nMathematics 25\\n Science 30\\n English 20\\n\\nHindi 15\\n Draw a bar graph to represent this data. What\\nconclusion can be drawn from this graph? (5 marks)\\n \\n5. The marks\\nobtained by students in a class test are given below:\\n Marks\\nNumber of students\\n 0 - 10 3\\n 10 - 20 10\\n 20 - 30\\n12\\n 30 - 40 15\\n 40 - 50 5\\n Draw a histogram to\\nrepresent this data. (5 marks)\\n6. Draw a frequency polygon for the data\\ngiven in question 5. (5 marks)\\n7. The heights of 50 plants were\\nmeasured and the data is given below:\\n Height (in cm) Number of\\nplants\\n 10 - 20 5\\n 20 - 30 10\\n 30 - 40 15\\n 40 -\\n50 8\\n 50 - 60 5\\n 60 - 70 7\\n Draw a histogram to\\nrepresent this data. (5 marks)\\n8. A company produces cars of three\\ndifferent models: A, B, and C. The production figures for these models\\nfor the last 5 years are given below:\\n Year Model A Model B Model\\nC\\n 2018 2000 3000 2500\\n 2019 2200 3200 2800\\n\\n2020 2500 3500 3000\\n 2021 2800 3800 3200\\n 2022\\n3000 4000 3500\\n Draw a bar graph to represent this data and\\nanswer the following questions:\\n (i) Which model is produced the\\nmost?\\n (ii) In which year was the maximum number of cars produced?\\n(5 marks)\\n \\n**Section B (30 marks)**\\n\\nChoose the correct answer\\nfrom the options given.\\n\\n25. A histogram is the graphical\\nrepresentation of:\\n(a) Ungrouped frequency distribution\\n(b) Grouped\\nfrequency distribution\\n(c) Continuous frequency distribution\\n(d)\\nDiscrete frequency distribution\\n\\n26. The length of a class interval\\nis:\\n(a) Upper limit - Lower limit\\n(b) Lower limit - Upper limit\\n(c) Upper\\nlimit / Lower limit\\n(d) Lower limit / Upper limit\\n\\n27. A frequency\\npolygon is:\\n(a) A graphical representation of ungrouped frequency\\ndistribution\\n(b) A graphical representation of grouped frequency\\ndistribution\\n(c) A graphical representation of continuous frequency\\ndistribution\\n(d) A graphical representation of discrete frequency\\ndistribution\\n\\n28. The advantage of representing data graphically\\nis:\\n(a) It saves time\\n(b) It is easy to read\\n(c) It helps to identify\\npatterns and trends in the data\\n(d) All of the above\\n\\n29. A bar graph\\nis used to represent:\\n(a) Continuous data\\n(b) Discrete data\\n(c)\\nCategorical data\\n(d) Grouped frequency distribution\\n\\n30. The\\nclass-mark of a class interval is:\\n(a) Upper limit + Lower limit / 2\\n(b)\\nUpper limit - Lower limit / 2\\n(c) Upper limit * Lower limit / 2\\n(d) Lower\\nlimit - Upper limit / 2\\n\\nNote: This sample question paper only includes\\nsome of the topics covered in the given text. You can add or remove\\n\\n'"
      ]
     },
     "execution_count": 2,
     "metadata": {},
     "output_type": "execute_result"
    }
   ],
   "source": [
    "t"
   ]
  },
  {
   "cell_type": "code",
   "execution_count": 3,
   "metadata": {},
   "outputs": [
    {
     "data": {
      "text/plain": [
       "''"
      ]
     },
     "execution_count": 3,
     "metadata": {},
     "output_type": "execute_result"
    }
   ],
   "source": [
    "from fpdf import FPDF\n",
    "\n",
    "# Example text stored in a variable\n",
    "# t = \"\"\"This is the first line.\n",
    "# Here’s the second line with a fancy quote: ‘hello’\n",
    "# And this is the third line.\"\"\"\n",
    "\n",
    "# Split the text into lines\n",
    "all_text = t.split('\\n')\n",
    "\n",
    "# Create instance of FPDF class\n",
    "pdf = FPDF()\n",
    "\n",
    "# Add a page\n",
    "pdf.add_page()\n",
    "\n",
    "# Set font style and size\n",
    "pdf.set_font(\"Arial\", size=15)\n",
    "\n",
    "# Insert the texts from the variable into the PDF\n",
    "for line in all_text:\n",
    "    # Use encode to handle special characters\n",
    "    pdf.cell(200, 10, txt=line.encode('latin-1', 'replace').decode('latin-1'), ln=1, align='C')\n",
    "\n",
    "# Save the PDF with name .pdf\n",
    "pdf.output(\"mygfg.pdf\")\n"
   ]
  },
  {
   "cell_type": "code",
   "execution_count": 8,
   "metadata": {},
   "outputs": [
    {
     "data": {
      "text/plain": [
       "['Based on the provided text, I will create a sample paper with two sections, A and B. Section A will consist of descriptive questions, and Section B will consist of multiple-choice questions.',\n",
       " '',\n",
       " '**Section A**',\n",
       " '',\n",
       " '**1. One mark question**',\n",
       " 'What is the formula for the curved surface area of a right circular cone?',\n",
       " 'Answer should be: πrl',\n",
       " '',\n",
       " '**2. One mark question**',\n",
       " 'What is the formula for the surface area of a sphere?',\n",
       " 'Answer should be: 4πr^2',\n",
       " '',\n",
       " '**3. One mark question**',\n",
       " 'What is the ratio of the volumes of a cone and a cylinder of the same base radius and height?',\n",
       " 'Answer should be: 1:3',\n",
       " '',\n",
       " '**4. Two marks question**',\n",
       " 'A cone has a base radius of 8 cm and a height of 15 cm. Find its volume. Take π = 3.14.',\n",
       " 'Answer: Volume = (1/3)πr^2h, where r = 8 cm and h = 15 cm',\n",
       " '',\n",
       " '**5. Two marks question**',\n",
       " 'The surface area of a sphere is 616 cm^2. Find its radius.',\n",
       " 'Answer should be based on the formula 4πr^2 = 616',\n",
       " '',\n",
       " '**6. Three marks question**',\n",
       " 'A cylindrical vessel has a base radius of 3.5 cm and a height of 10 cm. Find its volume and curved surface area.',\n",
       " 'Answer should be based on the formulae for the volume and curved surface area of a cylinder',\n",
       " '',\n",
       " '**7. Three marks question**',\n",
       " 'A cone has a base diameter of 12 cm and a slant height of 13 cm. Find its volume and total surface area.',\n",
       " 'Answer should be based on the formulae for the volume and total surface area of a cone',\n",
       " '',\n",
       " '**8. Five marks question**',\n",
       " 'A conical tent is 4.5 m high and the radius of its base is 9 m. Find the volume and surface area of the tent.',\n",
       " 'Answer should be based on the formulae for the volume and surface area of a cone',\n",
       " '',\n",
       " '**9. Five marks question**',\n",
       " 'A sphere has a surface area of 154 cm^2. Find its volume and radius.',\n",
       " 'Answer should be based on the formulae for the surface area and volume of a sphere',\n",
       " '',\n",
       " '**Section B**',\n",
       " '',\n",
       " '**1. Multiple choice question**',\n",
       " 'What is the formula for the total surface area of a hemisphere?',\n",
       " 'A) 2πr^2',\n",
       " 'B) 3πr^2',\n",
       " 'C) 4πr^2',\n",
       " 'D) πr^2',\n",
       " '',\n",
       " 'Answer: B) 3πr^2',\n",
       " '',\n",
       " '**2. Multiple choice question**',\n",
       " 'What is the ratio of the surface areas of two spheres of radii 2 cm and 4 cm?',\n",
       " 'A) 1:1',\n",
       " 'B) 1:2',\n",
       " 'C) 1:4',\n",
       " 'D) 1:8',\n",
       " '',\n",
       " 'Answer: C) 1:4',\n",
       " '',\n",
       " '**3. Multiple choice question**',\n",
       " 'What is the volume of a cone whose base radius is 6 cm and height is 12 cm? (Take π = 3.14)',\n",
       " 'A) 360 cm^3',\n",
       " 'B) 432 cm^3',\n",
       " 'C) 504 cm^3',\n",
       " 'D) 576 cm^3',\n",
       " '',\n",
       " 'Answer: C) 504 cm^3',\n",
       " '',\n",
       " '**4. Multiple choice question**',\n",
       " 'A cone has a volume of 132 cubic cm. If its height is 9 cm, what is its base radius? (Take π = 3.14)',\n",
       " 'A) 4 cm',\n",
       " 'B) 6 cm',\n",
       " 'C) 8 cm',\n",
       " 'D) 10 cm',\n",
       " '',\n",
       " 'Answer: B) 6 cm',\n",
       " '',\n",
       " '**5. Multiple choice question**',\n",
       " 'A sphere has a surface area of 120 cm^2. What is its radius?',\n",
       " 'A) 3 cm',\n",
       " 'B) 4 cm',\n",
       " 'C) 5 cm',\n",
       " 'D) 6 cm',\n",
       " '',\n",
       " 'Answer: B) 4 cm',\n",
       " '',\n",
       " '**6. Multiple choice question**',\n",
       " 'What is the volume of a hemisphere whose radius is 7 cm? (Take π = 3.14)',\n",
       " 'A) 147 cm^3',\n",
       " 'B) 171 cm^3',\n",
       " 'C) 205 cm^3',\n",
       " 'D) 239 cm^3',\n",
       " '',\n",
       " 'Answer: C) 205 cm^3',\n",
       " '',\n",
       " '**7. Multiple choice question**',\n",
       " 'A cone has a base diameter of 8 cm and a height of 15 cm. What is its slant height?',\n",
       " 'A) 17 cm',\n",
       " 'B) 18 cm',\n",
       " 'C) 20 cm',\n",
       " 'D) 22 cm',\n",
       " '',\n",
       " 'Answer: A) 17 cm',\n",
       " '',\n",
       " '**8. Multiple choice question**',\n",
       " 'A sphere has a diameter of 14 cm. What is its surface area? (Take π = 3.14)',\n",
       " 'A) 308 cm^2',\n",
       " 'B) 419 cm^2',\n",
       " 'C) 525 cm^2',\n",
       " 'D) 640 cm^2',\n",
       " '',\n",
       " 'Answer: C) 525 cm^2',\n",
       " '',\n",
       " '**9. Multiple choice question**',\n",
       " 'A cone has a volume of 300 cubic cm. If its base radius is 5 cm, what is its height? (Take π = 3.14)',\n",
       " 'A) 9 cm',\n",
       " 'B) 12 cm',\n",
       " 'C) 15 cm',\n",
       " 'D) 18 cm',\n",
       " '',\n",
       " 'Answer: B) 12 cm',\n",
       " '',\n",
       " '**10. Multiple choice question**',\n",
       " 'A hemisphere has a surface area of 400 cm^2. What is its radius?',\n",
       " 'A) 5 cm',\n",
       " 'B) 6 cm',\n",
       " 'C) 7 cm',\n",
       " 'D) 8 cm',\n",
       " '',\n",
       " 'Answer: C) 7 cm']"
      ]
     },
     "execution_count": 8,
     "metadata": {},
     "output_type": "execute_result"
    }
   ],
   "source": [
    "\"Based on the provided text, I will create a sample paper with two sections, A and B. Section A will consist of descriptive questions, and Section B will consist of multiple-choice questions.\\\\n\\\\n**Section A**\\\\n\\\\n**1. One mark question**\\\\nWhat is the formula for the curved surface area of a right circular cone?\\\\nAnswer should be: πrl\\\\n\\\\n**2. One mark question**\\\\nWhat is the formula for the surface area of a sphere?\\\\nAnswer should be: 4πr^2\\\\n\\\\n**3. One mark question**\\\\nWhat is the ratio of the volumes of a cone and a cylinder of the same base radius and height?\\\\nAnswer should be: 1:3\\\\n\\\\n**4. Two marks question**\\\\nA cone has a base radius of 8 cm and a height of 15 cm. Find its volume. Take π = 3.14.\\\\nAnswer: Volume = (1/3)πr^2h, where r = 8 cm and h = 15 cm\\\\n\\\\n**5. Two marks question**\\\\nThe surface area of a sphere is 616 cm^2. Find its radius.\\\\nAnswer should be based on the formula 4πr^2 = 616\\\\n\\\\n**6. Three marks question**\\\\nA cylindrical vessel has a base radius of 3.5 cm and a height of 10 cm. Find its volume and curved surface area.\\\\nAnswer should be based on the formulae for the volume and curved surface area of a cylinder\\\\n\\\\n**7. Three marks question**\\\\nA cone has a base diameter of 12 cm and a slant height of 13 cm. Find its volume and total surface area.\\\\nAnswer should be based on the formulae for the volume and total surface area of a cone\\\\n\\\\n**8. Five marks question**\\\\nA conical tent is 4.5 m high and the radius of its base is 9 m. Find the volume and surface area of the tent.\\\\nAnswer should be based on the formulae for the volume and surface area of a cone\\\\n\\\\n**9. Five marks question**\\\\nA sphere has a surface area of 154 cm^2. Find its volume and radius.\\\\nAnswer should be based on the formulae for the surface area and volume of a sphere\\\\n\\\\n**Section B**\\\\n\\\\n**1. Multiple choice question**\\\\nWhat is the formula for the total surface area of a hemisphere?\\\\nA) 2πr^2\\\\nB) 3πr^2\\\\nC) 4πr^2\\\\nD) πr^2\\\\n\\\\nAnswer: B) 3πr^2\\\\n\\\\n**2. Multiple choice question**\\\\nWhat is the ratio of the surface areas of two spheres of radii 2 cm and 4 cm?\\\\nA) 1:1\\\\nB) 1:2\\\\nC) 1:4\\\\nD) 1:8\\\\n\\\\nAnswer: C) 1:4\\\\n\\\\n**3. Multiple choice question**\\\\nWhat is the volume of a cone whose base radius is 6 cm and height is 12 cm? (Take π = 3.14)\\\\nA) 360 cm^3\\\\nB) 432 cm^3\\\\nC) 504 cm^3\\\\nD) 576 cm^3\\\\n\\\\nAnswer: C) 504 cm^3\\\\n\\\\n**4. Multiple choice question**\\\\nA cone has a volume of 132 cubic cm. If its height is 9 cm, what is its base radius? (Take π = 3.14)\\\\nA) 4 cm\\\\nB) 6 cm\\\\nC) 8 cm\\\\nD) 10 cm\\\\n\\\\nAnswer: B) 6 cm\\\\n\\\\n**5. Multiple choice question**\\\\nA sphere has a surface area of 120 cm^2. What is its radius?\\\\nA) 3 cm\\\\nB) 4 cm\\\\nC) 5 cm\\\\nD) 6 cm\\\\n\\\\nAnswer: B) 4 cm\\\\n\\\\n**6. Multiple choice question**\\\\nWhat is the volume of a hemisphere whose radius is 7 cm? (Take π = 3.14)\\\\nA) 147 cm^3\\\\nB) 171 cm^3\\\\nC) 205 cm^3\\\\nD) 239 cm^3\\\\n\\\\nAnswer: C) 205 cm^3\\\\n\\\\n**7. Multiple choice question**\\\\nA cone has a base diameter of 8 cm and a height of 15 cm. What is its slant height?\\\\nA) 17 cm\\\\nB) 18 cm\\\\nC) 20 cm\\\\nD) 22 cm\\\\n\\\\nAnswer: A) 17 cm\\\\n\\\\n**8. Multiple choice question**\\\\nA sphere has a diameter of 14 cm. What is its surface area? (Take π = 3.14)\\\\nA) 308 cm^2\\\\nB) 419 cm^2\\\\nC) 525 cm^2\\\\nD) 640 cm^2\\\\n\\\\nAnswer: C) 525 cm^2\\\\n\\\\n**9. Multiple choice question**\\\\nA cone has a volume of 300 cubic cm. If its base radius is 5 cm, what is its height? (Take π = 3.14)\\\\nA) 9 cm\\\\nB) 12 cm\\\\nC) 15 cm\\\\nD) 18 cm\\\\n\\\\nAnswer: B) 12 cm\\\\n\\\\n**10. Multiple choice question**\\\\nA hemisphere has a surface area of 400 cm^2. What is its radius?\\\\nA) 5 cm\\\\nB) 6 cm\\\\nC) 7 cm\\\\nD) 8 cm\\\\n\\\\nAnswer: C) 7 cm\".split('\\\\n')\n"
   ]
  },
  {
   "cell_type": "code",
   "execution_count": 1,
   "metadata": {},
   "outputs": [
    {
     "name": "stdout",
     "output_type": "stream",
     "text": [
      "Requirement already satisfied: markdown in c:\\users\\asus\\anaconda3\\envs\\ai_project\\lib\\site-packages (3.7)\n",
      "Requirement already satisfied: pdfkit in c:\\users\\asus\\anaconda3\\envs\\ai_project\\lib\\site-packages (1.0.0)\n"
     ]
    }
   ],
   "source": [
    "!pip install markdown pdfkit\n"
   ]
  },
  {
   "cell_type": "code",
   "execution_count": 2,
   "metadata": {},
   "outputs": [
    {
     "ename": "OSError",
     "evalue": "No wkhtmltopdf executable found: \"b''\"\nIf this file exists please check that this process can read it or you can pass path to it manually in method call, check README. Otherwise please install wkhtmltopdf - https://github.com/JazzCore/python-pdfkit/wiki/Installing-wkhtmltopdf",
     "output_type": "error",
     "traceback": [
      "\u001b[1;31m---------------------------------------------------------------------------\u001b[0m",
      "\u001b[1;31mFileNotFoundError\u001b[0m                         Traceback (most recent call last)",
      "File \u001b[1;32mc:\\Users\\Asus\\anaconda3\\envs\\AI_project\\Lib\\site-packages\\pdfkit\\configuration.py:35\u001b[0m, in \u001b[0;36mConfiguration.__init__\u001b[1;34m(self, wkhtmltopdf, meta_tag_prefix, environ)\u001b[0m\n\u001b[0;32m     33\u001b[0m     \u001b[38;5;28mself\u001b[39m\u001b[38;5;241m.\u001b[39mwkhtmltopdf \u001b[38;5;241m=\u001b[39m lines[\u001b[38;5;241m0\u001b[39m]\u001b[38;5;241m.\u001b[39mstrip()\n\u001b[1;32m---> 35\u001b[0m \u001b[38;5;28;01mwith\u001b[39;00m \u001b[38;5;28;43mopen\u001b[39;49m\u001b[43m(\u001b[49m\u001b[38;5;28;43mself\u001b[39;49m\u001b[38;5;241;43m.\u001b[39;49m\u001b[43mwkhtmltopdf\u001b[49m\u001b[43m)\u001b[49m \u001b[38;5;28;01mas\u001b[39;00m f:\n\u001b[0;32m     36\u001b[0m     \u001b[38;5;28;01mpass\u001b[39;00m\n",
      "\u001b[1;31mFileNotFoundError\u001b[0m: [Errno 2] No such file or directory: b''",
      "\nDuring handling of the above exception, another exception occurred:\n",
      "\u001b[1;31mOSError\u001b[0m                                   Traceback (most recent call last)",
      "Cell \u001b[1;32mIn[2], line 31\u001b[0m\n\u001b[0;32m     21\u001b[0m options \u001b[38;5;241m=\u001b[39m {\n\u001b[0;32m     22\u001b[0m     \n\u001b[0;32m     23\u001b[0m     \u001b[38;5;124m'\u001b[39m\u001b[38;5;124mpage-size\u001b[39m\u001b[38;5;124m'\u001b[39m: \u001b[38;5;124m'\u001b[39m\u001b[38;5;124mA4\u001b[39m\u001b[38;5;124m'\u001b[39m,\n\u001b[1;32m   (...)\u001b[0m\n\u001b[0;32m     27\u001b[0m     \u001b[38;5;124m'\u001b[39m\u001b[38;5;124mmargin-left\u001b[39m\u001b[38;5;124m'\u001b[39m: \u001b[38;5;124m'\u001b[39m\u001b[38;5;124m0.75in\u001b[39m\u001b[38;5;124m'\u001b[39m,\n\u001b[0;32m     28\u001b[0m }\n\u001b[0;32m     30\u001b[0m \u001b[38;5;66;03m# Convert HTML to PDF\u001b[39;00m\n\u001b[1;32m---> 31\u001b[0m \u001b[43mpdfkit\u001b[49m\u001b[38;5;241;43m.\u001b[39;49m\u001b[43mfrom_string\u001b[49m\u001b[43m(\u001b[49m\u001b[43mhtml\u001b[49m\u001b[43m,\u001b[49m\u001b[43m \u001b[49m\u001b[38;5;124;43m\"\u001b[39;49m\u001b[38;5;124;43moutput.pdf\u001b[39;49m\u001b[38;5;124;43m\"\u001b[39;49m\u001b[43m,\u001b[49m\u001b[43m \u001b[49m\u001b[43moptions\u001b[49m\u001b[38;5;241;43m=\u001b[39;49m\u001b[43moptions\u001b[49m\u001b[43m)\u001b[49m\n",
      "File \u001b[1;32mc:\\Users\\Asus\\anaconda3\\envs\\AI_project\\Lib\\site-packages\\pdfkit\\api.py:72\u001b[0m, in \u001b[0;36mfrom_string\u001b[1;34m(input, output_path, options, toc, cover, css, configuration, cover_first, verbose)\u001b[0m\n\u001b[0;32m     54\u001b[0m \u001b[38;5;28;01mdef\u001b[39;00m \u001b[38;5;21mfrom_string\u001b[39m(\u001b[38;5;28minput\u001b[39m, output_path\u001b[38;5;241m=\u001b[39m\u001b[38;5;28;01mNone\u001b[39;00m, options\u001b[38;5;241m=\u001b[39m\u001b[38;5;28;01mNone\u001b[39;00m, toc\u001b[38;5;241m=\u001b[39m\u001b[38;5;28;01mNone\u001b[39;00m, cover\u001b[38;5;241m=\u001b[39m\u001b[38;5;28;01mNone\u001b[39;00m, css\u001b[38;5;241m=\u001b[39m\u001b[38;5;28;01mNone\u001b[39;00m,\n\u001b[0;32m     55\u001b[0m                 configuration\u001b[38;5;241m=\u001b[39m\u001b[38;5;28;01mNone\u001b[39;00m, cover_first\u001b[38;5;241m=\u001b[39m\u001b[38;5;28;01mFalse\u001b[39;00m, verbose\u001b[38;5;241m=\u001b[39m\u001b[38;5;28;01mFalse\u001b[39;00m):\n\u001b[0;32m     56\u001b[0m \u001b[38;5;250m    \u001b[39m\u001b[38;5;124;03m\"\"\"\u001b[39;00m\n\u001b[0;32m     57\u001b[0m \u001b[38;5;124;03m    Convert given string or strings to PDF document\u001b[39;00m\n\u001b[0;32m     58\u001b[0m \n\u001b[1;32m   (...)\u001b[0m\n\u001b[0;32m     69\u001b[0m \u001b[38;5;124;03m    Returns: True on success\u001b[39;00m\n\u001b[0;32m     70\u001b[0m \u001b[38;5;124;03m    \"\"\"\u001b[39;00m\n\u001b[1;32m---> 72\u001b[0m     r \u001b[38;5;241m=\u001b[39m \u001b[43mPDFKit\u001b[49m\u001b[43m(\u001b[49m\u001b[38;5;28;43minput\u001b[39;49m\u001b[43m,\u001b[49m\u001b[43m \u001b[49m\u001b[38;5;124;43m'\u001b[39;49m\u001b[38;5;124;43mstring\u001b[39;49m\u001b[38;5;124;43m'\u001b[39;49m\u001b[43m,\u001b[49m\u001b[43m \u001b[49m\u001b[43moptions\u001b[49m\u001b[38;5;241;43m=\u001b[39;49m\u001b[43moptions\u001b[49m\u001b[43m,\u001b[49m\u001b[43m \u001b[49m\u001b[43mtoc\u001b[49m\u001b[38;5;241;43m=\u001b[39;49m\u001b[43mtoc\u001b[49m\u001b[43m,\u001b[49m\u001b[43m \u001b[49m\u001b[43mcover\u001b[49m\u001b[38;5;241;43m=\u001b[39;49m\u001b[43mcover\u001b[49m\u001b[43m,\u001b[49m\u001b[43m \u001b[49m\u001b[43mcss\u001b[49m\u001b[38;5;241;43m=\u001b[39;49m\u001b[43mcss\u001b[49m\u001b[43m,\u001b[49m\n\u001b[0;32m     73\u001b[0m \u001b[43m               \u001b[49m\u001b[43mconfiguration\u001b[49m\u001b[38;5;241;43m=\u001b[39;49m\u001b[43mconfiguration\u001b[49m\u001b[43m,\u001b[49m\u001b[43m \u001b[49m\u001b[43mcover_first\u001b[49m\u001b[38;5;241;43m=\u001b[39;49m\u001b[43mcover_first\u001b[49m\u001b[43m,\u001b[49m\u001b[43m \u001b[49m\u001b[43mverbose\u001b[49m\u001b[38;5;241;43m=\u001b[39;49m\u001b[43mverbose\u001b[49m\u001b[43m)\u001b[49m\n\u001b[0;32m     75\u001b[0m     \u001b[38;5;28;01mreturn\u001b[39;00m r\u001b[38;5;241m.\u001b[39mto_pdf(output_path)\n",
      "File \u001b[1;32mc:\\Users\\Asus\\anaconda3\\envs\\AI_project\\Lib\\site-packages\\pdfkit\\pdfkit.py:45\u001b[0m, in \u001b[0;36mPDFKit.__init__\u001b[1;34m(self, url_or_file, type_, options, toc, cover, css, configuration, cover_first, verbose)\u001b[0m\n\u001b[0;32m     41\u001b[0m \u001b[38;5;28;01mdef\u001b[39;00m \u001b[38;5;21m__init__\u001b[39m(\u001b[38;5;28mself\u001b[39m, url_or_file, type_, options\u001b[38;5;241m=\u001b[39m\u001b[38;5;28;01mNone\u001b[39;00m, toc\u001b[38;5;241m=\u001b[39m\u001b[38;5;28;01mNone\u001b[39;00m, cover\u001b[38;5;241m=\u001b[39m\u001b[38;5;28;01mNone\u001b[39;00m,\n\u001b[0;32m     42\u001b[0m              css\u001b[38;5;241m=\u001b[39m\u001b[38;5;28;01mNone\u001b[39;00m, configuration\u001b[38;5;241m=\u001b[39m\u001b[38;5;28;01mNone\u001b[39;00m, cover_first\u001b[38;5;241m=\u001b[39m\u001b[38;5;28;01mFalse\u001b[39;00m, verbose\u001b[38;5;241m=\u001b[39m\u001b[38;5;28;01mFalse\u001b[39;00m):\n\u001b[0;32m     44\u001b[0m     \u001b[38;5;28mself\u001b[39m\u001b[38;5;241m.\u001b[39msource \u001b[38;5;241m=\u001b[39m Source(url_or_file, type_)\n\u001b[1;32m---> 45\u001b[0m     \u001b[38;5;28mself\u001b[39m\u001b[38;5;241m.\u001b[39mconfiguration \u001b[38;5;241m=\u001b[39m (\u001b[43mConfiguration\u001b[49m\u001b[43m(\u001b[49m\u001b[43m)\u001b[49m \u001b[38;5;28;01mif\u001b[39;00m configuration \u001b[38;5;129;01mis\u001b[39;00m \u001b[38;5;28;01mNone\u001b[39;00m\n\u001b[0;32m     46\u001b[0m                           \u001b[38;5;28;01melse\u001b[39;00m configuration)\n\u001b[0;32m     47\u001b[0m     \u001b[38;5;28;01mtry\u001b[39;00m:\n\u001b[0;32m     48\u001b[0m         \u001b[38;5;28mself\u001b[39m\u001b[38;5;241m.\u001b[39mwkhtmltopdf \u001b[38;5;241m=\u001b[39m \u001b[38;5;28mself\u001b[39m\u001b[38;5;241m.\u001b[39mconfiguration\u001b[38;5;241m.\u001b[39mwkhtmltopdf\u001b[38;5;241m.\u001b[39mdecode(\u001b[38;5;124m'\u001b[39m\u001b[38;5;124mutf-8\u001b[39m\u001b[38;5;124m'\u001b[39m)\n",
      "File \u001b[1;32mc:\\Users\\Asus\\anaconda3\\envs\\AI_project\\Lib\\site-packages\\pdfkit\\configuration.py:38\u001b[0m, in \u001b[0;36mConfiguration.__init__\u001b[1;34m(self, wkhtmltopdf, meta_tag_prefix, environ)\u001b[0m\n\u001b[0;32m     36\u001b[0m         \u001b[38;5;28;01mpass\u001b[39;00m\n\u001b[0;32m     37\u001b[0m \u001b[38;5;28;01mexcept\u001b[39;00m (\u001b[38;5;167;01mIOError\u001b[39;00m, \u001b[38;5;167;01mFileNotFoundError\u001b[39;00m) \u001b[38;5;28;01mas\u001b[39;00m e:\n\u001b[1;32m---> 38\u001b[0m     \u001b[38;5;28;01mraise\u001b[39;00m \u001b[38;5;167;01mIOError\u001b[39;00m(\u001b[38;5;124m'\u001b[39m\u001b[38;5;124mNo wkhtmltopdf executable found: \u001b[39m\u001b[38;5;124m\"\u001b[39m\u001b[38;5;132;01m%s\u001b[39;00m\u001b[38;5;124m\"\u001b[39m\u001b[38;5;130;01m\\n\u001b[39;00m\u001b[38;5;124m'\u001b[39m\n\u001b[0;32m     39\u001b[0m                   \u001b[38;5;124m'\u001b[39m\u001b[38;5;124mIf this file exists please check that this process can \u001b[39m\u001b[38;5;124m'\u001b[39m\n\u001b[0;32m     40\u001b[0m                   \u001b[38;5;124m'\u001b[39m\u001b[38;5;124mread it or you can pass path to it manually in method call, \u001b[39m\u001b[38;5;124m'\u001b[39m\n\u001b[0;32m     41\u001b[0m                   \u001b[38;5;124m'\u001b[39m\u001b[38;5;124mcheck README. Otherwise please install wkhtmltopdf - \u001b[39m\u001b[38;5;124m'\u001b[39m\n\u001b[0;32m     42\u001b[0m                   \u001b[38;5;124m'\u001b[39m\u001b[38;5;124mhttps://github.com/JazzCore/python-pdfkit/wiki/Installing-wkhtmltopdf\u001b[39m\u001b[38;5;124m'\u001b[39m \u001b[38;5;241m%\u001b[39m \u001b[38;5;28mself\u001b[39m\u001b[38;5;241m.\u001b[39mwkhtmltopdf)\n\u001b[0;32m     45\u001b[0m \u001b[38;5;28mself\u001b[39m\u001b[38;5;241m.\u001b[39menviron \u001b[38;5;241m=\u001b[39m environ\n\u001b[0;32m     47\u001b[0m \u001b[38;5;28;01mif\u001b[39;00m \u001b[38;5;129;01mnot\u001b[39;00m \u001b[38;5;28mself\u001b[39m\u001b[38;5;241m.\u001b[39menviron:\n",
      "\u001b[1;31mOSError\u001b[0m: No wkhtmltopdf executable found: \"b''\"\nIf this file exists please check that this process can read it or you can pass path to it manually in method call, check README. Otherwise please install wkhtmltopdf - https://github.com/JazzCore/python-pdfkit/wiki/Installing-wkhtmltopdf"
     ]
    }
   ],
   "source": [
    "import markdown\n",
    "import pdfkit\n",
    "\n",
    "# Sample Markdown string\n",
    "markdown_string = \"\"\"\n",
    "# Title\n",
    "\n",
    "This is a paragraph with **bold text** and *italic text*.\n",
    "\n",
    "## Subheading\n",
    "\n",
    "- Item 1\n",
    "- Item 2\n",
    "- Item 3\n",
    "\"\"\"\n",
    "\n",
    "# Convert Markdown to HTML\n",
    "html = markdown.markdown(markdown_string)\n",
    "\n",
    "# Define options for pdfkit (optional)\n",
    "options = {\n",
    "    \n",
    "    'page-size': 'A4',\n",
    "    'margin-top': '0.75in',\n",
    "    'margin-right': '0.75in',\n",
    "    'margin-bottom': '0.75in',\n",
    "    'margin-left': '0.75in',\n",
    "}\n",
    "\n",
    "# Convert HTML to PDF\n",
    "pdfkit.from_string(html, \"output.pdf\", options=options)\n"
   ]
  },
  {
   "cell_type": "code",
   "execution_count": 4,
   "metadata": {},
   "outputs": [
    {
     "name": "stdout",
     "output_type": "stream",
     "text": [
      "Collecting reportlab\n",
      "  Downloading reportlab-4.2.2-py3-none-any.whl.metadata (1.4 kB)\n",
      "Requirement already satisfied: pillow>=9.0.0 in c:\\users\\asus\\anaconda3\\envs\\ai_project\\lib\\site-packages (from reportlab) (10.4.0)\n",
      "Collecting chardet (from reportlab)\n",
      "  Downloading chardet-5.2.0-py3-none-any.whl.metadata (3.4 kB)\n",
      "Downloading reportlab-4.2.2-py3-none-any.whl (1.9 MB)\n",
      "   ---------------------------------------- 0.0/1.9 MB ? eta -:--:--\n",
      "   ---------------------------------------- 1.9/1.9 MB 13.4 MB/s eta 0:00:00\n",
      "Downloading chardet-5.2.0-py3-none-any.whl (199 kB)\n",
      "Installing collected packages: chardet, reportlab\n",
      "Successfully installed chardet-5.2.0 reportlab-4.2.2\n",
      "Note: you may need to restart the kernel to use updated packages.\n"
     ]
    }
   ],
   "source": [
    "pip install reportlab\n"
   ]
  },
  {
   "cell_type": "code",
   "execution_count": 17,
   "metadata": {},
   "outputs": [],
   "source": [
    "from django.http import HttpResponse\n",
    "from reportlab.lib.pagesizes import letter\n",
    "from reportlab.pdfgen import canvas\n",
    "import io\n",
    "\n",
    "def generate_pdf(request):\n",
    "    # Capture the data sent in the request (categories)\n",
    "    category1 = request.GET.get('category1', '')\n",
    "    category2 = request.GET.get('category2', '')\n",
    "    category3 = request.GET.get('category3', '')\n",
    "    category4 = request.GET.get('category4', '')\n",
    "    \n",
    "    # Prepare a string to display in the PDF\n",
    "    pdf_content = f\"Category 1: {category1}\\nCategory 2: {category2}\\nCategory 3: {category3}\\nCategory 4: {category4}\"\n",
    "\n",
    "    # Create a BytesIO buffer to receive the PDF data\n",
    "    buffer = io.BytesIO()\n",
    "\n",
    "    # Create the PDF object using ReportLab\n",
    "    p = canvas.Canvas(buffer, pagesize=letter)\n",
    "    p.drawString(100, 750, \"User Selection Report\")\n",
    "    p.drawString(100, 730, pdf_content)\n",
    "\n",
    "    # Finish the PDF generation\n",
    "    p.showPage()\n",
    "    p.save()\n",
    "\n",
    "    # Move the buffer pointer to the beginning\n",
    "    buffer.seek(0)\n",
    "\n",
    "    # Return the PDF as an HTTP response\n",
    "    response = HttpResponse(buffer, content_type='application/pdf')\n",
    "    response['Content-Disposition'] = 'attachment; filename=\"output.pdf\"'\n",
    "    return response\n"
   ]
  }
 ],
 "metadata": {
  "kernelspec": {
   "display_name": "AI_project",
   "language": "python",
   "name": "python3"
  },
  "language_info": {
   "codemirror_mode": {
    "name": "ipython",
    "version": 3
   },
   "file_extension": ".py",
   "mimetype": "text/x-python",
   "name": "python",
   "nbconvert_exporter": "python",
   "pygments_lexer": "ipython3",
   "version": "3.12.5"
  }
 },
 "nbformat": 4,
 "nbformat_minor": 2
}
